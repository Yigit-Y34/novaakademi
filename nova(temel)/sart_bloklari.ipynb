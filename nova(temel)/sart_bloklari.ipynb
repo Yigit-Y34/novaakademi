{
 "cells": [
  {
   "cell_type": "code",
   "execution_count": null,
   "id": "d4db343e-5f78-44aa-b147-b902f37d4daf",
   "metadata": {},
   "outputs": [],
   "source": [
    "## ŞARTLI İFADELER"
   ]
  },
  {
   "cell_type": "markdown",
   "id": "5ee86e51-c51e-4df6-b0c8-b00192a66fe2",
   "metadata": {},
   "source": [
    "Şartlı ifade sonucu true veya false olan ifadelerdir.\n",
    "\n",
    "Şartımız True ise if bloğu çalışır.\n",
    "\n",
    "Eğer else bloğu varsa False dönerse else bloğu çalışır."
   ]
  },
  {
   "cell_type": "markdown",
   "id": "27dfb6f3-121a-46f5-900c-fdc7062d686f",
   "metadata": {},
   "source": [
    "**Şart Operatörleri**\n",
    "\n",
    "x == y : x,y'ye eşit mi?\n",
    "\n",
    "x != y : x,y'ye eşit değil mi?\n",
    "\n",
    "x < y : x,y'den küçük mü?\n",
    "\n",
    "x > y : x,y'den büyük mü?\n",
    "\n",
    "x <= y : x,y'den küçük eşit mi?\n",
    "\n",
    "x >= y : x,y'den büyük eşit mi?"
   ]
  },
  {
   "cell_type": "code",
   "execution_count": 1,
   "id": "b3e46f8d-3443-4f22-ac97-2eb1d106c387",
   "metadata": {},
   "outputs": [
    {
     "data": {
      "text/plain": [
       "False"
      ]
     },
     "execution_count": 1,
     "metadata": {},
     "output_type": "execute_result"
    }
   ],
   "source": [
    "x = (15)\n",
    "y = (20)\n",
    "\n",
    "x == y "
   ]
  },
  {
   "cell_type": "code",
   "execution_count": 2,
   "id": "82421fe0-ddf5-42f8-8a1d-7a702c340ce4",
   "metadata": {},
   "outputs": [
    {
     "data": {
      "text/plain": [
       "True"
      ]
     },
     "execution_count": 2,
     "metadata": {},
     "output_type": "execute_result"
    }
   ],
   "source": [
    "x != y"
   ]
  },
  {
   "cell_type": "code",
   "execution_count": 3,
   "id": "a5bea306-8082-4ed3-a11d-e9cea9b2f526",
   "metadata": {},
   "outputs": [
    {
     "data": {
      "text/plain": [
       "True"
      ]
     },
     "execution_count": 3,
     "metadata": {},
     "output_type": "execute_result"
    }
   ],
   "source": [
    "x < y"
   ]
  },
  {
   "cell_type": "code",
   "execution_count": 4,
   "id": "6208abe3-a90c-488b-a7ff-77afaffa247a",
   "metadata": {},
   "outputs": [
    {
     "data": {
      "text/plain": [
       "False"
      ]
     },
     "execution_count": 4,
     "metadata": {},
     "output_type": "execute_result"
    }
   ],
   "source": [
    "x > y "
   ]
  },
  {
   "cell_type": "code",
   "execution_count": 5,
   "id": "11ef4d89-d5c7-483e-8449-312a1a91b8a9",
   "metadata": {},
   "outputs": [
    {
     "data": {
      "text/plain": [
       "True"
      ]
     },
     "execution_count": 5,
     "metadata": {},
     "output_type": "execute_result"
    }
   ],
   "source": [
    "x <= y"
   ]
  },
  {
   "cell_type": "code",
   "execution_count": 6,
   "id": "faddd4de-f7c1-48c6-a60e-8e415e1dac2e",
   "metadata": {},
   "outputs": [
    {
     "data": {
      "text/plain": [
       "False"
      ]
     },
     "execution_count": 6,
     "metadata": {},
     "output_type": "execute_result"
    }
   ],
   "source": [
    "x >= y"
   ]
  },
  {
   "cell_type": "markdown",
   "id": "b2ee0f16-38ce-4c6f-b50a-e0a1de19eb3a",
   "metadata": {},
   "source": [
    "**Mantıksal Oparetörler**\n",
    "\n",
    "and: sadece her iki tarafta True ise sonuç True olur\n",
    "\n",
    "or: Bir tane True dönen şart varsa sonuç True olur"
   ]
  },
  {
   "cell_type": "code",
   "execution_count": 1,
   "id": "46341acc-e2d0-425e-8c3b-830779354e5e",
   "metadata": {},
   "outputs": [
    {
     "data": {
      "text/plain": [
       "True"
      ]
     },
     "execution_count": 1,
     "metadata": {},
     "output_type": "execute_result"
    }
   ],
   "source": [
    "True and True"
   ]
  },
  {
   "cell_type": "code",
   "execution_count": 2,
   "id": "126ef84f-0e64-44c8-8f23-a3a597d3d085",
   "metadata": {},
   "outputs": [
    {
     "data": {
      "text/plain": [
       "False"
      ]
     },
     "execution_count": 2,
     "metadata": {},
     "output_type": "execute_result"
    }
   ],
   "source": [
    "True and False "
   ]
  },
  {
   "cell_type": "code",
   "execution_count": 3,
   "id": "ce56d2bd-b6c6-4a53-855a-21fc5e2a4027",
   "metadata": {},
   "outputs": [
    {
     "data": {
      "text/plain": [
       "True"
      ]
     },
     "execution_count": 3,
     "metadata": {},
     "output_type": "execute_result"
    }
   ],
   "source": [
    "True or False"
   ]
  },
  {
   "cell_type": "code",
   "execution_count": 4,
   "id": "455c46cc-8e91-497f-ba59-fa4acfd64bf9",
   "metadata": {},
   "outputs": [
    {
     "name": "stdout",
     "output_type": "stream",
     "text": [
      "7 sayısı 0'dan büyüktür\n"
     ]
    }
   ],
   "source": [
    "x = 7 \n",
    "\n",
    "if x > 0 :\n",
    "    print(\"{} sayısı 0'dan büyüktür\".format(x))"
   ]
  },
  {
   "cell_type": "code",
   "execution_count": 6,
   "id": "53fe1002-e5ff-40c5-a86f-30729e3a4f8b",
   "metadata": {},
   "outputs": [
    {
     "name": "stdout",
     "output_type": "stream",
     "text": [
      "--if bloğu öncesi--\n",
      "--if bloğu sonrası--\n"
     ]
    }
   ],
   "source": [
    "x = -5\n",
    "print(\"--if bloğu öncesi--\")\n",
    "\n",
    "if x > 0 :\n",
    "    print(\"{} sayısı 0'dan büyüktür\".format(x))\n",
    "print(\"--if bloğu sonrası--\")\n"
   ]
  },
  {
   "cell_type": "code",
   "execution_count": 9,
   "id": "0e78fa8b-cec9-4cd4-9388-728ac163eb8b",
   "metadata": {},
   "outputs": [
    {
     "name": "stdout",
     "output_type": "stream",
     "text": [
      "-5 sayısı 0 dan küçük eşit veya 20 den büyük eşittir\n"
     ]
    }
   ],
   "source": [
    "# x sayısı 0 dan büyük ve 10 dan küçükse ekrana yazdıralım\n",
    "if x > 0 and x <= 10 :\n",
    "    print(\"{} sayısı 0 dan büyük 10 dan küçük eşittir\".format(x))\n",
    "if x <= 0 or x >= 20 :\n",
    "    print(\"{} sayısı 0 dan küçük eşit veya 20 den büyük eşittir\".format(x))"
   ]
  },
  {
   "cell_type": "markdown",
   "id": "02904e86-7391-40b9-a547-0f55b48db90c",
   "metadata": {},
   "source": [
    "**else**\n",
    "\n",
    "Hiç bir koşul yerine gelmiyorsa else bloğu çalışır."
   ]
  },
  {
   "cell_type": "code",
   "execution_count": 15,
   "id": "179260f1-debb-4403-987a-746577e6cdc8",
   "metadata": {},
   "outputs": [
    {
     "name": "stdin",
     "output_type": "stream",
     "text": [
      "Bir sayı giriniz: 9\n"
     ]
    },
    {
     "name": "stdout",
     "output_type": "stream",
     "text": [
      "9 sayısı tek bir sayıdır\n"
     ]
    }
   ],
   "source": [
    "x = int(input(\"Bir sayı giriniz:\"))\n",
    "if x % 2 == 0 :\n",
    "    print(\"{} sayısı çift bir sayıdır\".format(x))\n",
    "else : print(\"{} sayısı tek bir sayıdır\".format(x))"
   ]
  },
  {
   "cell_type": "code",
   "execution_count": 6,
   "id": "f020409d-7c8b-4ffe-ac08-836e8688ef05",
   "metadata": {},
   "outputs": [
    {
     "data": {
      "text/plain": [
       "8"
      ]
     },
     "execution_count": 6,
     "metadata": {},
     "output_type": "execute_result"
    }
   ],
   "source": [
    "sayi1 = 6\n",
    "sayi2 = 7\n",
    "sayi3 = 8\n",
    "\n",
    "if sayi1 > sayi2 :\n",
    "    en_buyuk_sayi = sayi1 \n",
    "if sayi2 > sayi1 : \n",
    "    en_buyuk_sayi = sayi2 \n",
    "if sayi3 > sayi2 :\n",
    "    en_buyuk_sayi = sayi3\n",
    "\n",
    "en_buyuk_sayi"
   ]
  },
  {
   "cell_type": "code",
   "execution_count": 8,
   "id": "3ece0479-7328-4145-b454-948ff85a2c78",
   "metadata": {},
   "outputs": [
    {
     "name": "stdin",
     "output_type": "stream",
     "text": [
      "Kullanıcı adınızı giriniz: yigit\n",
      "Şifrenizi giriniz: 0123456789\n"
     ]
    },
    {
     "name": "stdout",
     "output_type": "stream",
     "text": [
      "Kullanıcı adı veya şifre yanlış\n"
     ]
    }
   ],
   "source": [
    "kullanici_adi = input(\"Kullanıcı adınızı giriniz:\")\n",
    "sifre = input(\"Şifrenizi giriniz:\")\n",
    "if kullanici_adi == \"yigity\" and sifre == \"0123456789\" : \n",
    "    print(\"Hoşgeldiniz\")\n",
    "else:\n",
    "    print(\"Kullanıcı adı veya şifre yanlış\")"
   ]
  },
  {
   "cell_type": "code",
   "execution_count": 3,
   "id": "cf153138-cbc4-4497-a4c3-56bc2704e06c",
   "metadata": {},
   "outputs": [
    {
     "name": "stdin",
     "output_type": "stream",
     "text": [
      "Doğum yılınızı giriniz: 2008\n"
     ]
    },
    {
     "name": "stdout",
     "output_type": "stream",
     "text": [
      "Ehliyet alamazsınız.Yaşınız tutmuyor.\n"
     ]
    }
   ],
   "source": [
    "dogum_yili = input(\"Doğum yılınızı giriniz:\")\n",
    "yas = 2024 - int(dogum_yili)\n",
    "\n",
    "if yas >= 18 :\n",
    "    print(\"Ehliyet alabilirsiniz.\")\n",
    "else:\n",
    "    print(\"Ehliyet alamazsınız.Yaşınız tutmuyor.\")"
   ]
  },
  {
   "cell_type": "markdown",
   "id": "af6bdc59-efea-4854-8236-5bae6b475a3c",
   "metadata": {},
   "source": [
    "**not** keyword u bir ifadeyi tersine çevirmek için kulanılır.(True ise False yapar.False ise True yapar)"
   ]
  },
  {
   "cell_type": "code",
   "execution_count": 4,
   "id": "38ec8318-2b4c-4aa9-8aeb-95b1adaa84c0",
   "metadata": {},
   "outputs": [
    {
     "name": "stdout",
     "output_type": "stream",
     "text": [
      "x 5'e eşit değil\n"
     ]
    }
   ],
   "source": [
    "x = 8\n",
    "\n",
    "if not x == 5:\n",
    "    print(\"x 5'e eşit değil\")"
   ]
  },
  {
   "cell_type": "markdown",
   "id": "eda980dc-4b14-4994-8758-58d1ad4fad80",
   "metadata": {},
   "source": [
    "**elif**\n",
    "\n",
    "Çıktıları farklı olan birden fazla kontrol yapabiliriz. Bu kontrolleri yapabilmek içi elif kullanırız."
   ]
  },
  {
   "cell_type": "code",
   "execution_count": 11,
   "id": "0807a774-ae40-48f2-aee0-14ecb4ed3edb",
   "metadata": {},
   "outputs": [
    {
     "name": "stdin",
     "output_type": "stream",
     "text": [
      "Bir sayı giriniz: 9\n"
     ]
    },
    {
     "name": "stdout",
     "output_type": "stream",
     "text": [
      "sayı pozitiftir.\n"
     ]
    }
   ],
   "source": [
    "sayi = int(input(\"Bir sayı giriniz:\"))\n",
    "\n",
    "\n",
    "if sayi == 0 :\n",
    "    print(\"sayı nötrdür.\")\n",
    "elif sayi > 0 :\n",
    "    print(\"sayı pozitiftir.\")\n",
    "elif sayi < 0 :\n",
    "    print(\"sayı negatiftir.\")"
   ]
  },
  {
   "cell_type": "code",
   "execution_count": 2,
   "id": "9e5d5371-4879-4c18-b329-e97edf916544",
   "metadata": {},
   "outputs": [
    {
     "name": "stdin",
     "output_type": "stream",
     "text": [
      "Vize notunuzu giriniz. 40\n",
      "Final notunuzu giriniz. 55\n",
      "Ödev notunuzu giriniz. 40\n"
     ]
    },
    {
     "name": "stdout",
     "output_type": "stream",
     "text": [
      "notunuz FF dersten kaldınız\n"
     ]
    }
   ],
   "source": [
    "vize = int(input(\"Vize notunuzu giriniz.\"))\n",
    "\n",
    "final = int(input(\"Final notunuzu giriniz.\"))\n",
    "\n",
    "odev = int(input(\"Ödev notunuzu giriniz.\"))\n",
    "\n",
    "toplam_not = (vize * 0.3) + (final * 0.5) + (odev * 0.2)\n",
    "\n",
    "if toplam_not >= 90:\n",
    "    print(\"notunuz AA\")\n",
    "elif toplam_not >= 85:\n",
    "    print(\"notunuz BA\")\n",
    "elif toplam_not >= 75:\n",
    "    print(\"notunuz CB\")\n",
    "elif toplam_not >= 70:\n",
    "    print(\"notunuz CC\")\n",
    "elif toplam_not >= 50:\n",
    "    print(\"notunuz CD\")\n",
    "else:\n",
    "    print(\"notunuz FF dersten kaldınız\")\n",
    "    "
   ]
  },
  {
   "cell_type": "markdown",
   "id": "d83553df-769a-41ef-864a-eeceeb8419a6",
   "metadata": {},
   "source": [
    "Bir kargo şirketi,\n",
    "\n",
    "2 kg a kadar olan kargoları kilogramı 6 tl \n",
    "\n",
    "2 ve 6 kg a kadar olan kargoları kilogramını 5 tl \n",
    "\n",
    "6 ve 10 kg a kadar olan kargoları kilogramını 4 tl \n",
    "\n",
    "10 kg ve üzeri kargoları kilogramı 3 tl den taşıyor\n",
    "\n",
    "Buna göre kullanıcıdan alınan kilogram miktarının fiyatını belirleyen programı yazınız."
   ]
  },
  {
   "cell_type": "code",
   "execution_count": 7,
   "id": "4540e92a-4a5c-4448-8d32-99dc83845b74",
   "metadata": {},
   "outputs": [
    {
     "name": "stdin",
     "output_type": "stream",
     "text": [
      "Kargonun kaç kilo olduğunu giriniz: 4\n"
     ]
    },
    {
     "name": "stdout",
     "output_type": "stream",
     "text": [
      "Kargo fiyatınız  20\n"
     ]
    }
   ],
   "source": [
    "kargo = int(input(\"Kargonun kaç kilo olduğunu giriniz:\"))\n",
    "\n",
    "if kargo <= 2:\n",
    "    print(\"Kargo fiyatınız \",kargo*6)\n",
    "elif kargo < 6:\n",
    "    print(\"Kargo fiyatınız \",kargo*5)\n",
    "elif kargo > 10:\n",
    "    print(\"Kargo fiyatınız \",kargo*4)\n",
    "else:\n",
    "    print(\"Kargo fiyatınız \",kargo*3)"
   ]
  },
  {
   "cell_type": "code",
   "execution_count": 13,
   "id": "a6e0db98-886e-4f7b-9788-f924dfcc6836",
   "metadata": {},
   "outputs": [
    {
     "name": "stdin",
     "output_type": "stream",
     "text": [
      "Bir sayı yazınız (1 - 7 arası): 7\n"
     ]
    },
    {
     "name": "stdout",
     "output_type": "stream",
     "text": [
      "Pazar\n"
     ]
    }
   ],
   "source": [
    "# Kullanıcı 1 den 7 ye kadar sayı girsin. Karşılığında print olarak haftanın günleriniyazdıralım.\n",
    "sayi = int(input(\"Bir sayı yazınız (1 - 7 arası):\"))\n",
    "\n",
    "if sayi == 1:\n",
    "    print(\"Pazartesi\")\n",
    "elif sayi == 2:\n",
    "    print(\"Salı\")\n",
    "elif sayi == 3:\n",
    "    print(\"Çarşamba\")\n",
    "elif sayi == 4:\n",
    "    print(\"Perşembe\")\n",
    "elif sayi == 5:\n",
    "    print(\"Cuma\")\n",
    "elif sayi == 6:\n",
    "    print(\"Cumartesi\")\n",
    "else:\n",
    "    print(\"Pazar\")"
   ]
  },
  {
   "cell_type": "markdown",
   "id": "ef4f94d0-1bcb-4eb4-925b-512e54f0830b",
   "metadata": {},
   "source": [
    "Programımımız çalışıyor fakat bazı mantık hataları var. \n",
    "\n",
    "Ya kullanıcı sayı yerine bir harf girerse?\n",
    "\n",
    "ya kullanıcı 1 den küçük veya 7 den büyük bir değer girerse?"
   ]
  },
  {
   "cell_type": "code",
   "execution_count": null,
   "id": "54f40349-1a7b-487a-8324-df936a4cffbc",
   "metadata": {},
   "outputs": [],
   "source": [
    "sayi = input(\"Bir sayı yazınız (1 - 7 arası):\")\n",
    "\n",
    "if sayi.isdigit():\n",
    "    gun_numarasi = int(sayi)\n",
    "else:\n",
    "    print(\"Bir sayı girmelisiniz.\")\n",
    "    \n",
    "if gun_numarasi >= 1 and gun_numarasi <= 7 :\n",
    "    print(\"---\")\n",
    "else:\n",
    "    print(\"Girilen sayı 1 ve 7 arasında olmalı\")"
   ]
  },
  {
   "cell_type": "markdown",
   "id": "467417f6-142d-4a4a-854a-36870920282d",
   "metadata": {},
   "source": [
    "**İç içe if ler(Nested)**\n",
    "\n",
    "Koşul sağlandıktan sonra o koşulun içinde farklı bir koşula bakmamız gerekiyorsa iç içe if yazılır. "
   ]
  },
  {
   "cell_type": "code",
   "execution_count": 43,
   "id": "15015ac1-7562-4a78-adbb-f332700b9f5b",
   "metadata": {},
   "outputs": [
    {
     "name": "stdin",
     "output_type": "stream",
     "text": [
      "Bir film izlemek ister misiniz?(Evet/Hayır): Evet\n",
      "Hangi tür film izlemek istersiniz?(Aksiyon/Komedi): Aksiyon\n"
     ]
    },
    {
     "name": "stdout",
     "output_type": "stream",
     "text": [
      "Güzel tercih.Heyecan verici filmler\n"
     ]
    }
   ],
   "source": [
    "cevap = input(\"Bir film izlemek ister misiniz?(Evet/Hayır):\")\n",
    "\n",
    "if cevap == \"Evet\":\n",
    "    tur = input(\"Hangi tür film izlemek istersiniz?(Aksiyon/Komedi):\")\n",
    "    if tur == \"Aksiyon\":\n",
    "        print(\"Güzel tercih.Heyecan verici filmler\")\n",
    "    elif tur == \"Komedi\":\n",
    "        print(\"Eğlenmek için çok güzel bir tercih\")\n",
    "    else:\n",
    "        print(\"Aksiyon veya komedi girmeniz gerekiyor.\")\n",
    "elif cevap == \"Hayır\":\n",
    "    aktivite = input(\"Başka bir aktivite yapmak istermisiniz?(Kitap Okuma/Müzik Dinleme):\")\n",
    "    if aktivite == \"Kitap Okuma\":\n",
    "        print(\"Kitap okumak güzeldir.\")\n",
    "        kitap_tur = input(\"Ne tür kitaplar okursunuz?(Polisiye/Fantastik):\")\n",
    "        if kitap_tur == \"Polisiye\":\n",
    "             print(\"Oh harika Sherlock Holmes öneririm.\")\n",
    "        elif kitap_tur == \"Fantastik\":\n",
    "             print(\"Çok güzel! Harry Potter okumanı öneririm.\")\n",
    "    if aktivite == \"Müzik Dinleme\":\n",
    "         print(\"Müzik dinlemek ruhu ferahlatır.\")\n",
    "         muzik_tur = input(\"Ne tarz  müzikler dinlersiniz?(Rap/Arabesk):\")\n",
    "         if muzik_tur == \"Rap\":\n",
    "             print(\"Harika Ceza dinlemenizi öneririm.\")\n",
    "         elif muzik_tur == \"Arabesk\":\n",
    "             print(\"Müslüm Gürses dinlemenizi öneririm.\")  \n",
    "\n",
    "else:\n",
    "    print(\"Evet veya Hayır demelisiniz.\")"
   ]
  },
  {
   "cell_type": "code",
   "execution_count": 39,
   "id": "24032d4d-46d1-4263-ad66-abd1b3598a73",
   "metadata": {},
   "outputs": [
    {
     "name": "stdin",
     "output_type": "stream",
     "text": [
      "Bir sayı yazınız (1 - 7 arası): 5\n"
     ]
    },
    {
     "name": "stdout",
     "output_type": "stream",
     "text": [
      "Cuma\n"
     ]
    }
   ],
   "source": [
    "# Yukarıda yazdığımız kodu refactor edelim.\n",
    "\n",
    "sayi = input(\"Bir sayı yazınız (1 - 7 arası):\")\n",
    "\n",
    "if sayi.isdigit():\n",
    "    gun_numarasi = int(sayi)\n",
    "    if gun_numarasi >= 1 and gun_numarasi <= 7 :\n",
    "        if gun_numarasi == 1:\n",
    "            print(\"Pazartesi\")\n",
    "        elif gun_numarasi == 2:\n",
    "            print(\"Salı\")\n",
    "        elif gun_numarasi == 3:\n",
    "            print(\"Çarşamba\")\n",
    "        elif gun_numarasi == 4:\n",
    "            print(\"Perşembe\")\n",
    "        elif gun_numarasi == 5:\n",
    "            print(\"Cuma\")\n",
    "        elif gun_numarasi == 6:\n",
    "            print(\"Cumartesi\")\n",
    "        elif gun_numarasi == 7:\n",
    "            print(\"Pazar\")\n",
    "    else:\n",
    "        print(\"Girilen sayı 1 ve 7 arasında olmalı\")\n",
    "else:\n",
    "    print(\"Bir sayı girmelisiniz.\")"
   ]
  },
  {
   "cell_type": "markdown",
   "id": "f9fcdcb0-0bfd-459c-93b0-fcfeadbfddba",
   "metadata": {},
   "source": [
    "Kullanıcıdan bir sayı isteyelim.\n",
    "\n",
    "Sayı 10 dan küçük ise:\n",
    "    tek ise -> 10 dan küçük tek\n",
    "    çift ise -> 10 dan küçük çift\n",
    "Sayı 10 dan büyükse:\n",
    "    tek ise: Tek\n",
    "    çift ise: Çift"
   ]
  },
  {
   "cell_type": "code",
   "execution_count": 55,
   "id": "04116ed5-f8e3-43f7-a506-68e0280aa46c",
   "metadata": {},
   "outputs": [
    {
     "name": "stdin",
     "output_type": "stream",
     "text": [
      "Bir sayı giriniz: 18\n"
     ]
    },
    {
     "name": "stdout",
     "output_type": "stream",
     "text": [
      "Sayı Çift.\n"
     ]
    }
   ],
   "source": [
    "sayi_al = input(\"Bir sayı giriniz:\")\n",
    "\n",
    "if sayi_al.isdigit():\n",
    "    sayi = int(sayi_al)\n",
    "    if sayi < 10:\n",
    "        if sayi % 2 == 0:\n",
    "            print(\"Sayı 10 dan küçük ve çift\")\n",
    "        else:\n",
    "            print(\"Sayı 10 dan küçük ve tek\")\n",
    "    else:\n",
    "        if sayi > 10:\n",
    "            if sayi % 2 == 0:\n",
    "                print(\"Sayı Çift.\")\n",
    "            else:\n",
    "                print(\"Sayı Tek.\")\n",
    "else:\n",
    "    print(\"Bir sayı girmelisiniz.\")"
   ]
  },
  {
   "cell_type": "markdown",
   "id": "57b81f31-9c54-489d-8627-f23fcb81a7bb",
   "metadata": {},
   "source": [
    "Kullanıcıdan 3 farklı kenar alınız (a,b,c)\n",
    "\n",
    "Bu bir üçgen mi?\n",
    "\n",
    "a+b > c\n",
    "\n",
    "a+c > b\n",
    "\n",
    "b+c > a \n",
    "\n",
    "İki kenar eşit ise ikizkenar üçgen\n",
    "\n",
    "Üç kenar eşit ise Eşkenar üçgen\n",
    "\n",
    "Bu şartlar sağlanmıyorsa çeşitkenar üçgen"
   ]
  },
  {
   "cell_type": "code",
   "execution_count": 64,
   "id": "63474ef5-971d-4e1d-860f-34a5183dfe19",
   "metadata": {},
   "outputs": [
    {
     "name": "stdin",
     "output_type": "stream",
     "text": [
      "Bir sayı giriniz: 3\n",
      "Bir sayı giriniz: 4\n",
      "Bir sayı giriniz: 5\n"
     ]
    },
    {
     "name": "stdout",
     "output_type": "stream",
     "text": [
      "Bu bir üçgen.\n",
      "Bu bir çeşitkenar üçgen.\n"
     ]
    }
   ],
   "source": [
    "a = input(\"Bir sayı giriniz:\")\n",
    "b = input(\"Bir sayı giriniz:\")\n",
    "c = input(\"Bir sayı giriniz:\")\n",
    "\n",
    "if a.isdigit() and b.isdigit() and c.isdigit():\n",
    "    a = int(a)\n",
    "    b = int(b)\n",
    "    c = int(c)\n",
    "    if a + b > c and a + c > b and b + c > a:\n",
    "        print(\"Bu bir üçgen.\")\n",
    "        if a == b == c:\n",
    "            print(\"Bu bir eşkenar üçgen.\")\n",
    "        elif a == b or a == c or b == c:\n",
    "            print(\"Bu bir ikizkenar üçgen.\")\n",
    "        else:\n",
    "            print(\"Bu bir çeşitkenar üçgen.\")\n",
    "    else:\n",
    "        print(\"Bu bir üçgen değil.\")\n",
    "else:\n",
    "    print(\"Lütfen bir sayı giriniz.\")\n",
    "        "
   ]
  },
  {
   "cell_type": "code",
   "execution_count": null,
   "id": "f3e19a1e-1d3f-4787-913c-f4917380c86e",
   "metadata": {},
   "outputs": [],
   "source": []
  }
 ],
 "metadata": {
  "kernelspec": {
   "display_name": "Python 3 (ipykernel)",
   "language": "python",
   "name": "python3"
  },
  "language_info": {
   "codemirror_mode": {
    "name": "ipython",
    "version": 3
   },
   "file_extension": ".py",
   "mimetype": "text/x-python",
   "name": "python",
   "nbconvert_exporter": "python",
   "pygments_lexer": "ipython3",
   "version": "3.11.9"
  }
 },
 "nbformat": 4,
 "nbformat_minor": 5
}
