{
 "cells": [
  {
   "cell_type": "code",
   "execution_count": 2,
   "id": "7a6b4b1d-4d2d-4ba7-85bb-dce97424cbd4",
   "metadata": {},
   "outputs": [
    {
     "data": {
      "text/plain": [
       "array([10, 20, 30, 40])"
      ]
     },
     "execution_count": 2,
     "metadata": {},
     "output_type": "execute_result"
    }
   ],
   "source": [
    "import numpy as np\n",
    "\n",
    "arr = np.array([10,20,30,40,50])\n",
    "arr[-5:-10]"
   ]
  },
  {
   "cell_type": "code",
   "execution_count": 7,
   "id": "feff89ff-7a81-42cc-b1ea-3dbad6a66e48",
   "metadata": {},
   "outputs": [
    {
     "data": {
      "text/plain": [
       "array([[1, 2],\n",
       "       [4, 5]])"
      ]
     },
     "execution_count": 7,
     "metadata": {},
     "output_type": "execute_result"
    }
   ],
   "source": [
    "data = [\n",
    "    [1,2,3],\n",
    "    [4,5,6],\n",
    "    [7,8,9]\n",
    "]\n",
    "arr = np.array(data)\n",
    "arr[ : 2, :2]"
   ]
  },
  {
   "cell_type": "code",
   "execution_count": 9,
   "id": "06b4e2b6-d168-432e-a41a-39c450a48ff0",
   "metadata": {},
   "outputs": [
    {
     "name": "stdout",
     "output_type": "stream",
     "text": [
      "Ortalama : 86.6\n"
     ]
    }
   ],
   "source": [
    "notlar = np.array([85,92,78,90,88])\n",
    "\n",
    "ort = np.mean(notlar)\n",
    "print('Ortalama :',ort)"
   ]
  },
  {
   "cell_type": "code",
   "execution_count": 10,
   "id": "63aed3a7-3516-48e9-a4dd-46149004cddf",
   "metadata": {},
   "outputs": [
    {
     "data": {
      "text/plain": [
       "92"
      ]
     },
     "execution_count": 10,
     "metadata": {},
     "output_type": "execute_result"
    }
   ],
   "source": [
    "enYuksekNot = np.max(notlar)\n",
    "enDusukNot = np.min(notlar)\n",
    "\n",
    "enYuksekNot"
   ]
  },
  {
   "cell_type": "code",
   "execution_count": 11,
   "id": "d43f6c1d-0f53-4b63-9920-e39fc2598424",
   "metadata": {},
   "outputs": [
    {
     "data": {
      "text/plain": [
       "78"
      ]
     },
     "execution_count": 11,
     "metadata": {},
     "output_type": "execute_result"
    }
   ],
   "source": [
    "enDusukNot"
   ]
  },
  {
   "cell_type": "code",
   "execution_count": 15,
   "id": "51a7cc7f-df57-460c-bbbe-731f4b258961",
   "metadata": {},
   "outputs": [
    {
     "name": "stdout",
     "output_type": "stream",
     "text": [
      "ilk altı ay ortalaması : 1616.6666666666667\n"
     ]
    }
   ],
   "source": [
    "# Şirketin aylık satış verileri(12 ay)\n",
    "\n",
    "monthly_sales = np.array([1200,1500,1600,1700,1800,1900,2000,2100,2200,2300,2400,2500])\n",
    "\n",
    "ilkaltıay = np.mean(monthly_sales[0:6])\n",
    "ilkaltıay\n",
    "print(\"ilk altı ay ortalaması :\",ilkaltıay)"
   ]
  },
  {
   "cell_type": "code",
   "execution_count": 18,
   "id": "d890948f-63e0-45cc-8380-d56393525976",
   "metadata": {},
   "outputs": [
    {
     "name": "stdout",
     "output_type": "stream",
     "text": [
      "son altı ay ortalaması : 2000.0\n"
     ]
    }
   ],
   "source": [
    "sonaltıay = np.mean(monthly_sales[6,])\n",
    "print(\"son altı ay ortalaması :\",sonaltıay)"
   ]
  },
  {
   "cell_type": "code",
   "execution_count": 40,
   "id": "2098ec86-e6cb-432b-b515-b7900fddb4d5",
   "metadata": {},
   "outputs": [
    {
     "name": "stdout",
     "output_type": "stream",
     "text": [
      "Toplam üretim:  4526\n"
     ]
    }
   ],
   "source": [
    "daily_production = np.random.randint(100,200,size = 30)\n",
    "\n",
    "toplam_uretim = np.sum(daily_production)\n",
    "print('Toplam üretim: ',toplam_uretim)"
   ]
  },
  {
   "cell_type": "code",
   "execution_count": 41,
   "id": "f4e1000d-b839-461c-b031-56cf01ac4a6a",
   "metadata": {},
   "outputs": [
    {
     "name": "stdout",
     "output_type": "stream",
     "text": [
      "Ortalama günlük üretim:  150.86666666666667\n"
     ]
    }
   ],
   "source": [
    "ortalama_gunluk_uretim = np.mean(daily_production)\n",
    "print('Ortalama günlük üretim: ',ortalama_gunluk_uretim)"
   ]
  },
  {
   "cell_type": "code",
   "execution_count": 52,
   "id": "6211150f-6185-4d9d-b493-8ea67c7fda14",
   "metadata": {},
   "outputs": [
    {
     "name": "stdout",
     "output_type": "stream",
     "text": [
      "[88.75 85.   89.25 82.75]\n"
     ]
    }
   ],
   "source": [
    "exam_scores = np.array([\n",
    "    [85,90,88,92],\n",
    "    [78,85,90,87],\n",
    "    [92,88,82,95],\n",
    "    [80,85,78,88]\n",
    "])\n",
    "\n",
    "ortalama = np.mean(exam_scores,axis = 1)\n",
    "print(ortalama)"
   ]
  },
  {
   "cell_type": "code",
   "execution_count": 53,
   "id": "4219a756-d2d1-4ee3-bac9-18654e74afa9",
   "metadata": {},
   "outputs": [
    {
     "name": "stdout",
     "output_type": "stream",
     "text": [
      "[[-3.75  1.25 -0.75  3.25]\n",
      " [-7.    0.    5.    2.  ]\n",
      " [ 2.75 -1.25 -7.25  5.75]\n",
      " [-2.75  2.25 -4.75  5.25]]\n"
     ]
    }
   ],
   "source": [
    "uzaklık = exam_scores - ortalama[:,np.newaxis]\n",
    "print(uzaklık)"
   ]
  },
  {
   "cell_type": "code",
   "execution_count": 54,
   "id": "791b20a7-ea39-4905-af42-45184efb484e",
   "metadata": {},
   "outputs": [
    {
     "name": "stdout",
     "output_type": "stream",
     "text": [
      "20.333333333333332\n"
     ]
    }
   ],
   "source": [
    "temprature = np.array([22.5,23.0,23.5,24.0,24,5])\n",
    "humidty = np.array([50,48,45,42,40])\n",
    "\n",
    "sicaklik = np.mean(temprature)\n",
    "print(sicaklik)"
   ]
  },
  {
   "cell_type": "code",
   "execution_count": 55,
   "id": "284a87ce-ccdb-4093-883a-f413eeade0cd",
   "metadata": {},
   "outputs": [
    {
     "name": "stdout",
     "output_type": "stream",
     "text": [
      "45.0\n"
     ]
    }
   ],
   "source": [
    "nem = np.mean(humidty)\n",
    "print(nem)"
   ]
  },
  {
   "cell_type": "code",
   "execution_count": 56,
   "id": "f6baea67-d184-4f5f-91e9-261a1a4c8b63",
   "metadata": {},
   "outputs": [
    {
     "name": "stdout",
     "output_type": "stream",
     "text": [
      "transporse:  [[1 4 7]\n",
      " [2 5 8]\n",
      " [3 6 9]]\n"
     ]
    }
   ],
   "source": [
    "A = np.array([\n",
    "    [1,2,3],\n",
    "    [4,5,6],\n",
    "    [7,8,9]\n",
    "])\n",
    "\n",
    "A_transporse = A.T\n",
    "print(\"transporse: \",A_transporse)"
   ]
  },
  {
   "cell_type": "code",
   "execution_count": 58,
   "id": "cf1e9286-94e9-4c62-b635-48dc8276df10",
   "metadata": {},
   "outputs": [
    {
     "name": "stdout",
     "output_type": "stream",
     "text": [
      "Determinant : -9.51619735392994e-16\n"
     ]
    }
   ],
   "source": [
    "det_A = np.linalg.det(A)\n",
    "print(\"Determinant :\",det_A)"
   ]
  },
  {
   "cell_type": "code",
   "execution_count": 63,
   "id": "2039df96-5955-4d1e-a1c1-c4b221689ab7",
   "metadata": {},
   "outputs": [
    {
     "data": {
      "text/html": [
       "<div>\n",
       "<style scoped>\n",
       "    .dataframe tbody tr th:only-of-type {\n",
       "        vertical-align: middle;\n",
       "    }\n",
       "\n",
       "    .dataframe tbody tr th {\n",
       "        vertical-align: top;\n",
       "    }\n",
       "\n",
       "    .dataframe thead th {\n",
       "        text-align: right;\n",
       "    }\n",
       "</style>\n",
       "<table border=\"1\" class=\"dataframe\">\n",
       "  <thead>\n",
       "    <tr style=\"text-align: right;\">\n",
       "      <th></th>\n",
       "      <th>Hours</th>\n",
       "      <th>Scores</th>\n",
       "    </tr>\n",
       "  </thead>\n",
       "  <tbody>\n",
       "    <tr>\n",
       "      <th>0</th>\n",
       "      <td>2.5</td>\n",
       "      <td>21</td>\n",
       "    </tr>\n",
       "    <tr>\n",
       "      <th>1</th>\n",
       "      <td>5.1</td>\n",
       "      <td>47</td>\n",
       "    </tr>\n",
       "    <tr>\n",
       "      <th>2</th>\n",
       "      <td>3.2</td>\n",
       "      <td>27</td>\n",
       "    </tr>\n",
       "    <tr>\n",
       "      <th>3</th>\n",
       "      <td>8.5</td>\n",
       "      <td>75</td>\n",
       "    </tr>\n",
       "    <tr>\n",
       "      <th>4</th>\n",
       "      <td>3.5</td>\n",
       "      <td>30</td>\n",
       "    </tr>\n",
       "    <tr>\n",
       "      <th>5</th>\n",
       "      <td>1.5</td>\n",
       "      <td>20</td>\n",
       "    </tr>\n",
       "    <tr>\n",
       "      <th>6</th>\n",
       "      <td>9.2</td>\n",
       "      <td>88</td>\n",
       "    </tr>\n",
       "    <tr>\n",
       "      <th>7</th>\n",
       "      <td>5.5</td>\n",
       "      <td>60</td>\n",
       "    </tr>\n",
       "    <tr>\n",
       "      <th>8</th>\n",
       "      <td>8.3</td>\n",
       "      <td>81</td>\n",
       "    </tr>\n",
       "    <tr>\n",
       "      <th>9</th>\n",
       "      <td>2.7</td>\n",
       "      <td>25</td>\n",
       "    </tr>\n",
       "    <tr>\n",
       "      <th>10</th>\n",
       "      <td>7.7</td>\n",
       "      <td>85</td>\n",
       "    </tr>\n",
       "    <tr>\n",
       "      <th>11</th>\n",
       "      <td>5.9</td>\n",
       "      <td>62</td>\n",
       "    </tr>\n",
       "    <tr>\n",
       "      <th>12</th>\n",
       "      <td>4.5</td>\n",
       "      <td>41</td>\n",
       "    </tr>\n",
       "    <tr>\n",
       "      <th>13</th>\n",
       "      <td>3.3</td>\n",
       "      <td>42</td>\n",
       "    </tr>\n",
       "    <tr>\n",
       "      <th>14</th>\n",
       "      <td>1.1</td>\n",
       "      <td>17</td>\n",
       "    </tr>\n",
       "    <tr>\n",
       "      <th>15</th>\n",
       "      <td>8.9</td>\n",
       "      <td>95</td>\n",
       "    </tr>\n",
       "    <tr>\n",
       "      <th>16</th>\n",
       "      <td>2.5</td>\n",
       "      <td>30</td>\n",
       "    </tr>\n",
       "    <tr>\n",
       "      <th>17</th>\n",
       "      <td>1.9</td>\n",
       "      <td>24</td>\n",
       "    </tr>\n",
       "    <tr>\n",
       "      <th>18</th>\n",
       "      <td>6.1</td>\n",
       "      <td>67</td>\n",
       "    </tr>\n",
       "    <tr>\n",
       "      <th>19</th>\n",
       "      <td>7.4</td>\n",
       "      <td>69</td>\n",
       "    </tr>\n",
       "    <tr>\n",
       "      <th>20</th>\n",
       "      <td>2.7</td>\n",
       "      <td>30</td>\n",
       "    </tr>\n",
       "    <tr>\n",
       "      <th>21</th>\n",
       "      <td>4.8</td>\n",
       "      <td>54</td>\n",
       "    </tr>\n",
       "    <tr>\n",
       "      <th>22</th>\n",
       "      <td>3.8</td>\n",
       "      <td>35</td>\n",
       "    </tr>\n",
       "    <tr>\n",
       "      <th>23</th>\n",
       "      <td>6.9</td>\n",
       "      <td>76</td>\n",
       "    </tr>\n",
       "    <tr>\n",
       "      <th>24</th>\n",
       "      <td>7.8</td>\n",
       "      <td>86</td>\n",
       "    </tr>\n",
       "  </tbody>\n",
       "</table>\n",
       "</div>"
      ],
      "text/plain": [
       "    Hours  Scores\n",
       "0     2.5      21\n",
       "1     5.1      47\n",
       "2     3.2      27\n",
       "3     8.5      75\n",
       "4     3.5      30\n",
       "5     1.5      20\n",
       "6     9.2      88\n",
       "7     5.5      60\n",
       "8     8.3      81\n",
       "9     2.7      25\n",
       "10    7.7      85\n",
       "11    5.9      62\n",
       "12    4.5      41\n",
       "13    3.3      42\n",
       "14    1.1      17\n",
       "15    8.9      95\n",
       "16    2.5      30\n",
       "17    1.9      24\n",
       "18    6.1      67\n",
       "19    7.4      69\n",
       "20    2.7      30\n",
       "21    4.8      54\n",
       "22    3.8      35\n",
       "23    6.9      76\n",
       "24    7.8      86"
      ]
     },
     "execution_count": 63,
     "metadata": {},
     "output_type": "execute_result"
    }
   ],
   "source": [
    "import pandas as pd\n",
    "\n",
    "df = pd.read_csv('student_scores.csv')\n",
    "\n",
    "df"
   ]
  },
  {
   "cell_type": "code",
   "execution_count": 64,
   "id": "6b738ea8-64e8-492f-a7d7-2782298da217",
   "metadata": {},
   "outputs": [
    {
     "name": "stdout",
     "output_type": "stream",
     "text": [
      "<class 'pandas.core.frame.DataFrame'>\n",
      "RangeIndex: 25 entries, 0 to 24\n",
      "Data columns (total 2 columns):\n",
      " #   Column  Non-Null Count  Dtype  \n",
      "---  ------  --------------  -----  \n",
      " 0   Hours   25 non-null     float64\n",
      " 1   Scores  25 non-null     int64  \n",
      "dtypes: float64(1), int64(1)\n",
      "memory usage: 532.0 bytes\n"
     ]
    }
   ],
   "source": [
    "df.info()"
   ]
  },
  {
   "cell_type": "code",
   "execution_count": 65,
   "id": "b15bc6a5-6b87-44df-9b35-22a8284a8cbf",
   "metadata": {},
   "outputs": [
    {
     "name": "stdout",
     "output_type": "stream",
     "text": [
      "           Hours     Scores\n",
      "count  25.000000  25.000000\n",
      "mean    5.012000  51.480000\n",
      "std     2.525094  25.286887\n",
      "min     1.100000  17.000000\n",
      "25%     2.700000  30.000000\n",
      "50%     4.800000  47.000000\n",
      "75%     7.400000  75.000000\n",
      "max     9.200000  95.000000\n"
     ]
    }
   ],
   "source": [
    "print(df.describe())"
   ]
  },
  {
   "cell_type": "code",
   "execution_count": 66,
   "id": "1d59b49f-d217-48df-a271-e596c34fc958",
   "metadata": {},
   "outputs": [
    {
     "name": "stdout",
     "output_type": "stream",
     "text": [
      "   Hours  Scores\n",
      "0    2.5      21\n",
      "1    5.1      47\n",
      "2    3.2      27\n",
      "3    8.5      75\n",
      "4    3.5      30\n"
     ]
    }
   ],
   "source": [
    "print(df.head())"
   ]
  },
  {
   "cell_type": "code",
   "execution_count": 71,
   "id": "5816a1b9-045d-42f7-8712-263ee2fecb62",
   "metadata": {},
   "outputs": [
    {
     "name": "stdout",
     "output_type": "stream",
     "text": [
      "6.5\n"
     ]
    }
   ],
   "source": [
    "# Çalışan performans verileri\n",
    "data = {\n",
    "    'Employee': ['John', 'Anna', 'Peter', 'Linda', 'Mike'],\n",
    "    'Department': ['HR', 'IT', 'HR', 'IT', 'HR'],\n",
    "    'Performance': [8, 7, 9, 6, 8]\n",
    "}\n",
    "\n",
    "df = pd.DataFrame(data)\n",
    "it_department = df[df[\"Department\"] == 'IT']['Performance'].mean()\n",
    "print(it_department)"
   ]
  },
  {
   "cell_type": "code",
   "execution_count": 73,
   "id": "74b8def3-243e-45a3-ad5c-f7f3ed2ed4f2",
   "metadata": {},
   "outputs": [
    {
     "data": {
      "text/html": [
       "<div>\n",
       "<style scoped>\n",
       "    .dataframe tbody tr th:only-of-type {\n",
       "        vertical-align: middle;\n",
       "    }\n",
       "\n",
       "    .dataframe tbody tr th {\n",
       "        vertical-align: top;\n",
       "    }\n",
       "\n",
       "    .dataframe thead th {\n",
       "        text-align: right;\n",
       "    }\n",
       "</style>\n",
       "<table border=\"1\" class=\"dataframe\">\n",
       "  <thead>\n",
       "    <tr style=\"text-align: right;\">\n",
       "      <th></th>\n",
       "      <th>Data</th>\n",
       "      <th>Temprature</th>\n",
       "    </tr>\n",
       "  </thead>\n",
       "  <tbody>\n",
       "    <tr>\n",
       "      <th>0</th>\n",
       "      <td>2023-01-01</td>\n",
       "      <td>11</td>\n",
       "    </tr>\n",
       "    <tr>\n",
       "      <th>1</th>\n",
       "      <td>2023-01-02</td>\n",
       "      <td>8</td>\n",
       "    </tr>\n",
       "    <tr>\n",
       "      <th>2</th>\n",
       "      <td>2023-01-03</td>\n",
       "      <td>15</td>\n",
       "    </tr>\n",
       "    <tr>\n",
       "      <th>3</th>\n",
       "      <td>2023-01-04</td>\n",
       "      <td>12</td>\n",
       "    </tr>\n",
       "    <tr>\n",
       "      <th>4</th>\n",
       "      <td>2023-01-05</td>\n",
       "      <td>27</td>\n",
       "    </tr>\n",
       "    <tr>\n",
       "      <th>...</th>\n",
       "      <td>...</td>\n",
       "      <td>...</td>\n",
       "    </tr>\n",
       "    <tr>\n",
       "      <th>360</th>\n",
       "      <td>2023-12-27</td>\n",
       "      <td>17</td>\n",
       "    </tr>\n",
       "    <tr>\n",
       "      <th>361</th>\n",
       "      <td>2023-12-28</td>\n",
       "      <td>11</td>\n",
       "    </tr>\n",
       "    <tr>\n",
       "      <th>362</th>\n",
       "      <td>2023-12-29</td>\n",
       "      <td>10</td>\n",
       "    </tr>\n",
       "    <tr>\n",
       "      <th>363</th>\n",
       "      <td>2023-12-30</td>\n",
       "      <td>15</td>\n",
       "    </tr>\n",
       "    <tr>\n",
       "      <th>364</th>\n",
       "      <td>2023-12-31</td>\n",
       "      <td>13</td>\n",
       "    </tr>\n",
       "  </tbody>\n",
       "</table>\n",
       "<p>365 rows × 2 columns</p>\n",
       "</div>"
      ],
      "text/plain": [
       "          Data  Temprature\n",
       "0   2023-01-01          11\n",
       "1   2023-01-02           8\n",
       "2   2023-01-03          15\n",
       "3   2023-01-04          12\n",
       "4   2023-01-05          27\n",
       "..         ...         ...\n",
       "360 2023-12-27          17\n",
       "361 2023-12-28          11\n",
       "362 2023-12-29          10\n",
       "363 2023-12-30          15\n",
       "364 2023-12-31          13\n",
       "\n",
       "[365 rows x 2 columns]"
      ]
     },
     "execution_count": 73,
     "metadata": {},
     "output_type": "execute_result"
    }
   ],
   "source": [
    "dates = pd.date_range(start = '2023-01-01',periods = 365)\n",
    "temprature = np.random.randint(low = -5,high = 30,size = 365)\n",
    "\n",
    "df = pd.DataFrame({'Data': dates,\"Temprature\": temprature})\n",
    "\n",
    "df"
   ]
  },
  {
   "cell_type": "code",
   "execution_count": 81,
   "id": "22299ef1-3aeb-41d1-affa-aad48e599318",
   "metadata": {},
   "outputs": [
    {
     "data": {
      "text/plain": [
       "11.87945205479452"
      ]
     },
     "execution_count": 81,
     "metadata": {},
     "output_type": "execute_result"
    }
   ],
   "source": [
    "ortalama_sicaklik = df['Temprature'].mean()\n",
    "ortalama_sicaklik "
   ]
  },
  {
   "cell_type": "code",
   "execution_count": 82,
   "id": "a081fdfc-94a4-4b96-8893-d444ba9e89f5",
   "metadata": {},
   "outputs": [
    {
     "data": {
      "text/plain": [
       "29"
      ]
     },
     "execution_count": 82,
     "metadata": {},
     "output_type": "execute_result"
    }
   ],
   "source": [
    "enYuksek = df['Temprature'].max()\n",
    "enYuksek"
   ]
  },
  {
   "cell_type": "code",
   "execution_count": 83,
   "id": "4e546c41-5913-436f-81a8-9528dfee7941",
   "metadata": {},
   "outputs": [
    {
     "data": {
      "text/plain": [
       "-5"
      ]
     },
     "execution_count": 83,
     "metadata": {},
     "output_type": "execute_result"
    }
   ],
   "source": [
    "enDusuk = df['Temprature'].min()\n",
    "enDusuk"
   ]
  },
  {
   "cell_type": "code",
   "execution_count": 94,
   "id": "db62907c-3b81-46ad-9d62-85d2157428ff",
   "metadata": {},
   "outputs": [
    {
     "name": "stdout",
     "output_type": "stream",
     "text": [
      "Branch\n",
      "A    1650.0\n",
      "B    2100.0\n",
      "C    2200.0\n",
      "Name: Sales, dtype: float64\n",
      "Branch\n",
      "A    3300\n",
      "B    4200\n",
      "C    4400\n",
      "Name: Sales, dtype: int64\n"
     ]
    }
   ],
   "source": [
    "# Şube günlük satış verileri\n",
    "data = {\n",
    "    'Branch': ['A', 'B', 'A', 'C', 'B', 'C'],\n",
    "    'Date': ['2023-01-01', '2023-01-01', '2023-01-02', '2023-01-02', '2023-01-01', '2023-01-02'],\n",
    "    'Sales': [1500, 2000, 1800, 2500, 2200, 1900]\n",
    "}\n",
    "\n",
    "df = pd.DataFrame(data)\n",
    "\n",
    "ortalama_gunluk = df.groupby('Branch')['Sales'].mean()\n",
    "print(ortalama_gunluk)\n",
    "\n",
    "toplam_satıs_her_sube = df.groupby('Branch')['Sales'].sum()\n",
    "print(toplam_satıs_her_sube)"
   ]
  },
  {
   "cell_type": "code",
   "execution_count": null,
   "id": "c96485f0-9daf-46a4-8ae6-3fe188af01e4",
   "metadata": {},
   "outputs": [],
   "source": []
  },
  {
   "cell_type": "code",
   "execution_count": null,
   "id": "d255c131-df15-4cfb-9ba2-f9f3b2eea739",
   "metadata": {},
   "outputs": [],
   "source": []
  }
 ],
 "metadata": {
  "kernelspec": {
   "display_name": "Python 3 (ipykernel)",
   "language": "python",
   "name": "python3"
  },
  "language_info": {
   "codemirror_mode": {
    "name": "ipython",
    "version": 3
   },
   "file_extension": ".py",
   "mimetype": "text/x-python",
   "name": "python",
   "nbconvert_exporter": "python",
   "pygments_lexer": "ipython3",
   "version": "3.11.9"
  }
 },
 "nbformat": 4,
 "nbformat_minor": 5
}
