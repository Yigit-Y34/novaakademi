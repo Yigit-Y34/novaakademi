{
 "cells": [
  {
   "cell_type": "markdown",
   "id": "039b753d-84a6-4d98-88bb-c8234d80065f",
   "metadata": {},
   "source": [
    "## Dictionary"
   ]
  },
  {
   "cell_type": "markdown",
   "id": "873a73c3-be42-467d-a054-0cc56b8d90ec",
   "metadata": {},
   "source": [
    "{key : value}\n",
    "\n",
    "İlişkisel bir veri türüdür anahtar değer ilişkisine dayanır.\n",
    "\n",
    "{} veya dict{}"
   ]
  },
  {
   "cell_type": "code",
   "execution_count": 5,
   "id": "3966c8a1-f85a-4f10-9073-0eb84560071d",
   "metadata": {},
   "outputs": [
    {
     "data": {
      "text/plain": [
       "{'Audi': 'Almanya', 'Mazda': 'Japonya', 'Fiat': 'İtalya'}"
      ]
     },
     "execution_count": 5,
     "metadata": {},
     "output_type": "execute_result"
    }
   ],
   "source": [
    "araba = {\n",
    "    'Audi' : 'Almanya',\n",
    "    'Mazda' : 'Japonya',\n",
    "    'Fiat' : 'İtalya'\n",
    "}\n",
    "araba"
   ]
  },
  {
   "cell_type": "code",
   "execution_count": 6,
   "id": "de74aa27-294e-4d66-97c5-9d78bd674b0c",
   "metadata": {},
   "outputs": [
    {
     "data": {
      "text/plain": [
       "{'Audi': 'Almanya', 'Mazda': 'Japonya', 'Fiat': 'İtalya'}"
      ]
     },
     "execution_count": 6,
     "metadata": {},
     "output_type": "execute_result"
    }
   ],
   "source": [
    "araba2 = dict({\n",
    "    'Audi' : 'Almanya',\n",
    "    'Mazda' : 'Japonya',\n",
    "    'Fiat' : 'İtalya'\n",
    "})\n",
    "araba2"
   ]
  },
  {
   "cell_type": "code",
   "execution_count": 8,
   "id": "91c89c62-ab7c-4c48-ab6c-159a3db5c989",
   "metadata": {},
   "outputs": [
    {
     "data": {
      "text/plain": [
       "{1: 'Türkiye', 2: 'Japonya', 3: 'İtalya'}"
      ]
     },
     "execution_count": 8,
     "metadata": {},
     "output_type": "execute_result"
    }
   ],
   "source": [
    "arabalar3 = {\n",
    "    1 : 'Almanya',\n",
    "    2 : 'Japonya',\n",
    "    3 : 'İtalya'\n",
    "}\n",
    "arabalar3\n",
    "arabalar3[1] = 'Türkiye'\n",
    "arabalar3"
   ]
  },
  {
   "cell_type": "markdown",
   "id": "1ece6851-713e-4968-9f1d-a5e14345ee9d",
   "metadata": {},
   "source": [
    "Listelerde indeks ile erişiyorduk. Dictionarylerde köşeli parantez içine key yazılır"
   ]
  },
  {
   "cell_type": "code",
   "execution_count": 9,
   "id": "1787183d-a213-429e-b409-6aa2c6318cc3",
   "metadata": {},
   "outputs": [
    {
     "ename": "KeyError",
     "evalue": "0",
     "output_type": "error",
     "traceback": [
      "\u001b[1;31m---------------------------------------------------------------------------\u001b[0m",
      "\u001b[1;31mKeyError\u001b[0m                                  Traceback (most recent call last)",
      "Cell \u001b[1;32mIn[9], line 1\u001b[0m\n\u001b[1;32m----> 1\u001b[0m arabalar3[\u001b[38;5;241m0\u001b[39m]\n",
      "\u001b[1;31mKeyError\u001b[0m: 0"
     ]
    }
   ],
   "source": [
    "arabalar3[0]"
   ]
  },
  {
   "cell_type": "code",
   "execution_count": 10,
   "id": "63186d71-2848-4a63-bcab-68730f25beda",
   "metadata": {},
   "outputs": [
    {
     "ename": "KeyError",
     "evalue": "'BMW'",
     "output_type": "error",
     "traceback": [
      "\u001b[1;31m---------------------------------------------------------------------------\u001b[0m",
      "\u001b[1;31mKeyError\u001b[0m                                  Traceback (most recent call last)",
      "Cell \u001b[1;32mIn[10], line 2\u001b[0m\n\u001b[0;32m      1\u001b[0m \u001b[38;5;66;03m# olmayan bir key yazarsak KEY ERROR\u001b[39;00m\n\u001b[1;32m----> 2\u001b[0m arabalar3[\u001b[38;5;124m'\u001b[39m\u001b[38;5;124mBMW\u001b[39m\u001b[38;5;124m'\u001b[39m]\n",
      "\u001b[1;31mKeyError\u001b[0m: 'BMW'"
     ]
    }
   ],
   "source": [
    "# olmayan bir key yazarsak KEY ERROR\n",
    "arabalar3['BMW']"
   ]
  },
  {
   "cell_type": "markdown",
   "id": "a34134d4-4278-4bf3-a08e-fe1099c1e113",
   "metadata": {},
   "source": [
    "**Eleman Ekleme ve Değiştirme**"
   ]
  },
  {
   "cell_type": "code",
   "execution_count": 13,
   "id": "c46221c5-1dcb-49d7-b847-4963589fffa9",
   "metadata": {},
   "outputs": [
    {
     "data": {
      "text/plain": [
       "{}"
      ]
     },
     "execution_count": 13,
     "metadata": {},
     "output_type": "execute_result"
    }
   ],
   "source": [
    "# boş dictionary\n",
    "ogrenci = dict()\n",
    "ogrenci"
   ]
  },
  {
   "cell_type": "code",
   "execution_count": 14,
   "id": "4d1c3f06-c2df-4110-9a5a-1f9c29945fb9",
   "metadata": {},
   "outputs": [
    {
     "data": {
      "text/plain": [
       "{'ad': 'Umut'}"
      ]
     },
     "execution_count": 14,
     "metadata": {},
     "output_type": "execute_result"
    }
   ],
   "source": [
    "# bir eleman ekleyelim\n",
    "ogrenci['ad'] = 'Umut'\n",
    "ogrenci"
   ]
  },
  {
   "cell_type": "code",
   "execution_count": 16,
   "id": "9d050f6a-e1ed-4716-aa4e-05fa48cd4c0f",
   "metadata": {},
   "outputs": [
    {
     "data": {
      "text/plain": [
       "{'ad': 'Umut', 'yas': '22'}"
      ]
     },
     "execution_count": 16,
     "metadata": {},
     "output_type": "execute_result"
    }
   ],
   "source": [
    "ogrenci['yas'] = '22'\n",
    "ogrenci"
   ]
  },
  {
   "cell_type": "code",
   "execution_count": 17,
   "id": "b3953184-4855-41cd-8f97-1a535114e7f1",
   "metadata": {},
   "outputs": [
    {
     "data": {
      "text/plain": [
       "{'marka': 'Ford', 'model': 'Mustang', 'yıl': 1996}"
      ]
     },
     "execution_count": 17,
     "metadata": {},
     "output_type": "execute_result"
    }
   ],
   "source": [
    "arac = {\n",
    "    'marka' : 'Ford',\n",
    "    'model' : 'Mustang',\n",
    "    'yıl' : 1996\n",
    "}\n",
    "arac"
   ]
  },
  {
   "cell_type": "code",
   "execution_count": 19,
   "id": "e7c7307e-8d71-4ae7-902c-517b9da65b90",
   "metadata": {},
   "outputs": [
    {
     "data": {
      "text/plain": [
       "{'marka': 'Ford', 'model': 'Mustang', 'yıl': 1996, 'renk': 'Siyah', 'km': 180}"
      ]
     },
     "execution_count": 19,
     "metadata": {},
     "output_type": "execute_result"
    }
   ],
   "source": [
    "# update()\n",
    "arac.update({'renk' : 'Siyah','km' : 180})\n",
    "arac"
   ]
  },
  {
   "cell_type": "markdown",
   "id": "44074f18-292e-4cda-b5af-7cbee5ddf812",
   "metadata": {},
   "source": [
    "**Eleman silme**"
   ]
  },
  {
   "cell_type": "code",
   "execution_count": 20,
   "id": "d7bd48fc-4d8c-496e-af54-159c3691ac89",
   "metadata": {},
   "outputs": [
    {
     "data": {
      "text/plain": [
       "180"
      ]
     },
     "execution_count": 20,
     "metadata": {},
     "output_type": "execute_result"
    }
   ],
   "source": [
    "arac.pop('km')"
   ]
  },
  {
   "cell_type": "code",
   "execution_count": 21,
   "id": "97c47beb-302c-4cde-a68c-2c8b6e6a5e47",
   "metadata": {},
   "outputs": [
    {
     "data": {
      "text/plain": [
       "{'marka': 'Ford', 'model': 'Mustang', 'yıl': 1996, 'renk': 'Siyah'}"
      ]
     },
     "execution_count": 21,
     "metadata": {},
     "output_type": "execute_result"
    }
   ],
   "source": [
    "arac"
   ]
  },
  {
   "cell_type": "code",
   "execution_count": 22,
   "id": "442b9a33-e5bb-4324-baa8-9b3b6b6dfa4d",
   "metadata": {},
   "outputs": [
    {
     "data": {
      "text/plain": [
       "{'marka': 'Ford', 'model': 'Mustang', 'yıl': 1996}"
      ]
     },
     "execution_count": 22,
     "metadata": {},
     "output_type": "execute_result"
    }
   ],
   "source": [
    "del arac['renk']\n",
    "arac"
   ]
  },
  {
   "cell_type": "markdown",
   "id": "3a062490-7cb0-4368-9896-cdd4ca7d1bb7",
   "metadata": {},
   "source": [
    "**Eleman Okuma**"
   ]
  },
  {
   "cell_type": "code",
   "execution_count": 25,
   "id": "2ebcbc8e-7b4f-4c6f-a7fb-c5d19927b127",
   "metadata": {},
   "outputs": [],
   "source": [
    "sozluk = {\n",
    "    'one' : 'bir',\n",
    "    'two' : 'iki',\n",
    "    'three' : 'üç',\n",
    "    'four' :  'dört'\n",
    "}"
   ]
  },
  {
   "cell_type": "code",
   "execution_count": 26,
   "id": "3fc6b5aa-fba1-412b-9268-b316fef518bc",
   "metadata": {},
   "outputs": [
    {
     "data": {
      "text/plain": [
       "'bir'"
      ]
     },
     "execution_count": 26,
     "metadata": {},
     "output_type": "execute_result"
    }
   ],
   "source": [
    "sozluk['one']"
   ]
  },
  {
   "cell_type": "code",
   "execution_count": 27,
   "id": "615f52cd-b174-4b81-9f3d-0ad62ab57035",
   "metadata": {},
   "outputs": [
    {
     "data": {
      "text/plain": [
       "'iki'"
      ]
     },
     "execution_count": 27,
     "metadata": {},
     "output_type": "execute_result"
    }
   ],
   "source": [
    "# get() ile de değeri alabiliriz\n",
    "alinan = sozluk.get('two')\n",
    "alinan"
   ]
  },
  {
   "cell_type": "code",
   "execution_count": 28,
   "id": "513517ec-c1d6-4f80-a101-6d557b5b27cc",
   "metadata": {},
   "outputs": [
    {
     "data": {
      "text/plain": [
       "True"
      ]
     },
     "execution_count": 28,
     "metadata": {},
     "output_type": "execute_result"
    }
   ],
   "source": [
    "# eleman varmı kontrol edelim\n",
    "'dört' in sozluk.values()"
   ]
  },
  {
   "cell_type": "code",
   "execution_count": 29,
   "id": "eeb02934-a36a-43a3-9da2-3226b58e23b8",
   "metadata": {},
   "outputs": [
    {
     "data": {
      "text/plain": [
       "True"
      ]
     },
     "execution_count": 29,
     "metadata": {},
     "output_type": "execute_result"
    }
   ],
   "source": [
    "# anahtar varmı kontrol edelim \n",
    "'two' in sozluk.keys()"
   ]
  },
  {
   "cell_type": "code",
   "execution_count": 34,
   "id": "a66a8cf5-f964-4086-9757-cbec97126bc8",
   "metadata": {},
   "outputs": [
    {
     "name": "stdout",
     "output_type": "stream",
     "text": [
      "one : bir\n",
      "two : iki\n",
      "three : üç\n",
      "four : dört\n"
     ]
    }
   ],
   "source": [
    "for k,v in sozluk.items():\n",
    "    print(k ,':', v)"
   ]
  },
  {
   "cell_type": "markdown",
   "id": "336c9194-0908-46fd-99d9-7c6bcd4ec3b0",
   "metadata": {},
   "source": [
    "**Listeler ve Dictionaryler**"
   ]
  },
  {
   "cell_type": "code",
   "execution_count": 35,
   "id": "8a4e862a-f391-4d53-b266-49168eb27c74",
   "metadata": {},
   "outputs": [],
   "source": [
    "a = [1,2]\n",
    "s = dict()"
   ]
  },
  {
   "cell_type": "code",
   "execution_count": 36,
   "id": "0c21822b-b91a-4f34-a4fe-bb1f780debb0",
   "metadata": {},
   "outputs": [
    {
     "ename": "TypeError",
     "evalue": "unhashable type: 'list'",
     "output_type": "error",
     "traceback": [
      "\u001b[1;31m---------------------------------------------------------------------------\u001b[0m",
      "\u001b[1;31mTypeError\u001b[0m                                 Traceback (most recent call last)",
      "Cell \u001b[1;32mIn[36], line 1\u001b[0m\n\u001b[1;32m----> 1\u001b[0m s[a] \u001b[38;5;241m=\u001b[39m \u001b[38;5;124m'\u001b[39m\u001b[38;5;124mrakamlar\u001b[39m\u001b[38;5;124m'\u001b[39m\n",
      "\u001b[1;31mTypeError\u001b[0m: unhashable type: 'list'"
     ]
    }
   ],
   "source": [
    "s[a] = 'rakamlar'"
   ]
  },
  {
   "cell_type": "markdown",
   "id": "76e7f53a-63e6-49c9-8bf5-ef436593c3f5",
   "metadata": {},
   "source": [
    "Dictionarylerde listeler key olarak atanamaz.\n",
    "\n",
    "Eğer dictionarylerin key leri inmutable(değiştirilemez) ise hiç bir sorun yoktur. Mutable olan tipler ile yaparsak dictionary burada değişen \n",
    "değrimizi algılayamaz. Hashdeğeri değiştiğinden dictionary adreste bu değeri bulamaz.\n",
    "\n",
    "dictionaryler kendisine key olamaz.\n",
    "\n",
    "-List,set,Dictionary key olarak kullanılamaz."
   ]
  },
  {
   "cell_type": "markdown",
   "id": "c5823567-1c28-4d22-8913-7efa4d8ba8fb",
   "metadata": {},
   "source": [
    "**Dictionaryler ve Tuplelar**"
   ]
  },
  {
   "cell_type": "code",
   "execution_count": 38,
   "id": "de416a2d-a65c-4f8e-ba6c-7323e919a8ff",
   "metadata": {},
   "outputs": [],
   "source": [
    "aylar_gunler = [('ocak',31),\n",
    "               ('şubat',28),\n",
    "               ('mart',31)\n",
    "               ]"
   ]
  },
  {
   "cell_type": "code",
   "execution_count": 39,
   "id": "46544843-973e-4fa3-be16-76ffa8d31873",
   "metadata": {},
   "outputs": [
    {
     "data": {
      "text/plain": [
       "{'ocak': 31, 'şubat': 28, 'mart': 31}"
      ]
     },
     "execution_count": 39,
     "metadata": {},
     "output_type": "execute_result"
    }
   ],
   "source": [
    "aylar = dict(aylar_gunler)\n",
    "aylar"
   ]
  },
  {
   "cell_type": "markdown",
   "id": "915adf38-90b2-45fc-9dd9-b87d8c8ebba4",
   "metadata": {},
   "source": [
    "Bir keye iki değer atanmaz.Eğer atanırsa hata vermez son değerini alır."
   ]
  },
  {
   "cell_type": "code",
   "execution_count": null,
   "id": "d8041c44-f963-49d4-bac5-19e664eaac8f",
   "metadata": {},
   "outputs": [],
   "source": []
  }
 ],
 "metadata": {
  "kernelspec": {
   "display_name": "Python 3 (ipykernel)",
   "language": "python",
   "name": "python3"
  },
  "language_info": {
   "codemirror_mode": {
    "name": "ipython",
    "version": 3
   },
   "file_extension": ".py",
   "mimetype": "text/x-python",
   "name": "python",
   "nbconvert_exporter": "python",
   "pygments_lexer": "ipython3",
   "version": "3.11.9"
  }
 },
 "nbformat": 4,
 "nbformat_minor": 5
}
