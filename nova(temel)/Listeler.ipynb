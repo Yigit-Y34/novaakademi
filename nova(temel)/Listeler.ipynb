{
 "cells": [
  {
   "cell_type": "markdown",
   "id": "916831bb-a3d6-4761-bda3-e45bf6825cf2",
   "metadata": {},
   "source": [
    "## Listeler"
   ]
  },
  {
   "cell_type": "code",
   "execution_count": 1,
   "id": "72890502-3331-4ffc-804a-a795ee68a7df",
   "metadata": {},
   "outputs": [],
   "source": [
    "programlama_dilleri = [\"java\",\"C#\",\"Python\",\"C\"]"
   ]
  },
  {
   "cell_type": "code",
   "execution_count": 2,
   "id": "0a972512-5122-438e-bbe9-ab656b663894",
   "metadata": {},
   "outputs": [
    {
     "data": {
      "text/plain": [
       "'java'"
      ]
     },
     "execution_count": 2,
     "metadata": {},
     "output_type": "execute_result"
    }
   ],
   "source": [
    "#0.indeksteki değer\n",
    "programlama_dilleri[0]"
   ]
  },
  {
   "cell_type": "code",
   "execution_count": 3,
   "id": "96d1304c-2ee5-491f-a511-25f418455ba6",
   "metadata": {},
   "outputs": [
    {
     "data": {
      "text/plain": [
       "'C'"
      ]
     },
     "execution_count": 3,
     "metadata": {},
     "output_type": "execute_result"
    }
   ],
   "source": [
    "#listenin sonundaki değer\n",
    "programlama_dilleri[-1]"
   ]
  },
  {
   "cell_type": "code",
   "execution_count": 4,
   "id": "2c38979e-bbfd-4f8f-be3c-85a5177eaf39",
   "metadata": {},
   "outputs": [
    {
     "data": {
      "text/plain": [
       "4"
      ]
     },
     "execution_count": 4,
     "metadata": {},
     "output_type": "execute_result"
    }
   ],
   "source": [
    "len(programlama_dilleri)"
   ]
  },
  {
   "cell_type": "code",
   "execution_count": 5,
   "id": "eca2e274-6fc3-4d70-82f7-97f37fabeb91",
   "metadata": {},
   "outputs": [],
   "source": [
    "programlama_dilleri.append(\"C++\")"
   ]
  },
  {
   "cell_type": "code",
   "execution_count": 6,
   "id": "20d27c2b-64e3-4560-a865-c4ca37f6cf3b",
   "metadata": {},
   "outputs": [
    {
     "name": "stdout",
     "output_type": "stream",
     "text": [
      "['java', 'C#', 'Python', 'C', 'C++']\n"
     ]
    }
   ],
   "source": [
    "print(programlama_dilleri)"
   ]
  },
  {
   "cell_type": "code",
   "execution_count": 7,
   "id": "d62d88b0-3cb6-4519-b9be-2b5c32ac19f3",
   "metadata": {},
   "outputs": [],
   "source": [
    "programlama_dilleri.insert(1,\"Swift\")"
   ]
  },
  {
   "cell_type": "code",
   "execution_count": 8,
   "id": "3d4cbf9b-116d-47a7-a553-d47253ea5349",
   "metadata": {},
   "outputs": [
    {
     "name": "stdout",
     "output_type": "stream",
     "text": [
      "['java', 'Swift', 'C#', 'Python', 'C', 'C++']\n"
     ]
    }
   ],
   "source": [
    "print(programlama_dilleri)"
   ]
  },
  {
   "cell_type": "code",
   "execution_count": 9,
   "id": "1e5a90d3-5463-4ba0-bfb1-fd9ac363e19e",
   "metadata": {},
   "outputs": [],
   "source": [
    "programlama_dilleri.remove(\"C\")"
   ]
  },
  {
   "cell_type": "code",
   "execution_count": 10,
   "id": "95b92a74-d7df-4461-a56a-6798330d3164",
   "metadata": {},
   "outputs": [
    {
     "name": "stdout",
     "output_type": "stream",
     "text": [
      "['java', 'Swift', 'C#', 'Python', 'C++']\n"
     ]
    }
   ],
   "source": [
    "print(programlama_dilleri)"
   ]
  },
  {
   "cell_type": "code",
   "execution_count": 11,
   "id": "fc4fe92d-9bb6-4d92-b468-9d228b690e57",
   "metadata": {},
   "outputs": [
    {
     "data": {
      "text/plain": [
       "['java', 'Swift', 'C#', 'Python', 'C++']"
      ]
     },
     "execution_count": 11,
     "metadata": {},
     "output_type": "execute_result"
    }
   ],
   "source": [
    "programlama_dilleri"
   ]
  },
  {
   "cell_type": "code",
   "execution_count": 14,
   "id": "5e884d42-9d50-4d63-a29c-293b377833c9",
   "metadata": {},
   "outputs": [
    {
     "data": {
      "text/plain": [
       "[]"
      ]
     },
     "execution_count": 14,
     "metadata": {},
     "output_type": "execute_result"
    }
   ],
   "source": [
    "# Python'da boş liste oluşturabilirim.\n",
    "bos_liste = []\n",
    "bos_liste"
   ]
  },
  {
   "cell_type": "code",
   "execution_count": 15,
   "id": "def6e78b-ff91-428a-aa32-38463f00291d",
   "metadata": {},
   "outputs": [
    {
     "data": {
      "text/plain": [
       "['İzmir', True, 4.5, 100]"
      ]
     },
     "execution_count": 15,
     "metadata": {},
     "output_type": "execute_result"
    }
   ],
   "source": [
    "#Farklı veri tipleri aynı liste içerisinde bulunabilir.\n",
    "karma_list = ['İzmir',True,4.5,100]\n",
    "karma_list"
   ]
  },
  {
   "cell_type": "code",
   "execution_count": 18,
   "id": "0275c768-58a4-49cc-a000-e0de2adfbe85",
   "metadata": {},
   "outputs": [
    {
     "data": {
      "text/plain": [
       "'İzmir'"
      ]
     },
     "execution_count": 18,
     "metadata": {},
     "output_type": "execute_result"
    }
   ],
   "source": [
    "ic_ice_liste = ['İzmir','İstanbul',[34,35]]\n",
    "ic_ice_liste[0]"
   ]
  },
  {
   "cell_type": "code",
   "execution_count": 19,
   "id": "f30e819b-d5bf-4701-bac5-2ff367d42c7e",
   "metadata": {},
   "outputs": [
    {
     "data": {
      "text/plain": [
       "34"
      ]
     },
     "execution_count": 19,
     "metadata": {},
     "output_type": "execute_result"
    }
   ],
   "source": [
    "ic_ice_liste[2][0]"
   ]
  },
  {
   "cell_type": "code",
   "execution_count": 21,
   "id": "cd6aecb0-ff26-4eed-b6a9-d187b3aa33bf",
   "metadata": {},
   "outputs": [],
   "source": [
    "ogrenci1 = [\"Umut\",2010,[80,60,75]]\n",
    "ogrenci2 = [\"Emre\",2013,[70,40,60]]\n",
    "ogrenciler = [ogrenci1,ogrenci2]"
   ]
  },
  {
   "cell_type": "code",
   "execution_count": 23,
   "id": "37e4cd09-ff48-499b-a564-971b5f09a438",
   "metadata": {},
   "outputs": [
    {
     "data": {
      "text/plain": [
       "'Umut'"
      ]
     },
     "execution_count": 23,
     "metadata": {},
     "output_type": "execute_result"
    }
   ],
   "source": [
    "ogrenciler[0][0]"
   ]
  },
  {
   "cell_type": "code",
   "execution_count": 26,
   "id": "ae0c3094-8694-4241-a37e-c5fcbaef5399",
   "metadata": {},
   "outputs": [
    {
     "data": {
      "text/plain": [
       "11"
      ]
     },
     "execution_count": 26,
     "metadata": {},
     "output_type": "execute_result"
    }
   ],
   "source": [
    "emrenin_yasi = 2024 - ogrenciler[1][1]\n",
    "emrenin_yasi"
   ]
  },
  {
   "cell_type": "code",
   "execution_count": 31,
   "id": "c0dc70b3-6ed3-4b1e-8895-e5bb3e1bfc7f",
   "metadata": {},
   "outputs": [
    {
     "data": {
      "text/plain": [
       "71.66666666666667"
      ]
     },
     "execution_count": 31,
     "metadata": {},
     "output_type": "execute_result"
    }
   ],
   "source": [
    "umutun_notu =  ogrenciler[0][2][0] + ogrenciler[0][2][1] + ogrenciler[0][2][2] \n",
    "umutun_not_ortalaması = umutun_notu / 3\n",
    "umutun_not_ortalaması"
   ]
  },
  {
   "cell_type": "markdown",
   "id": "a5b642eb-5c55-4bba-a720-e60f13b4dc78",
   "metadata": {},
   "source": [
    "**Listler Değiştirilebilirdir(Mutable)**"
   ]
  },
  {
   "cell_type": "code",
   "execution_count": 33,
   "id": "3124db53-de78-4e9e-b964-129d27382185",
   "metadata": {},
   "outputs": [
    {
     "data": {
      "text/plain": [
       "['Matematik', 'Türkçe', 'Fizik', 'Kimya']"
      ]
     },
     "execution_count": 33,
     "metadata": {},
     "output_type": "execute_result"
    }
   ],
   "source": [
    "dersler = [\"Matematik\",\"Türkçe\",\"Fizik\",\"Kimya\"]\n",
    "dersler"
   ]
  },
  {
   "cell_type": "code",
   "execution_count": 36,
   "id": "a6508365-521a-49e3-912f-5163c10818ec",
   "metadata": {},
   "outputs": [
    {
     "data": {
      "text/plain": [
       "['Edebiyat', 'Türkçe', 'Fizik', 'Kimya']"
      ]
     },
     "execution_count": 36,
     "metadata": {},
     "output_type": "execute_result"
    }
   ],
   "source": [
    "dersler[0] = \"Edebiyat\"\n",
    "dersler"
   ]
  },
  {
   "cell_type": "markdown",
   "id": "36f38400-000b-4ab0-ac38-5101cb751484",
   "metadata": {},
   "source": [
    "**Liste Operasyonları**"
   ]
  },
  {
   "cell_type": "code",
   "execution_count": 38,
   "id": "319e5ff4-960d-43b6-a083-936ed64ddee2",
   "metadata": {},
   "outputs": [
    {
     "data": {
      "text/plain": [
       "[10, 20, 30, 40, 50]"
      ]
     },
     "execution_count": 38,
     "metadata": {},
     "output_type": "execute_result"
    }
   ],
   "source": [
    "# + operatörü \n",
    "a = [10,20,30]\n",
    "b = [40,50]\n",
    "\n",
    "c = a + b \n",
    "c"
   ]
  },
  {
   "cell_type": "code",
   "execution_count": 39,
   "id": "c24c96f5-978a-42b2-bdb8-d78947aa1b0c",
   "metadata": {},
   "outputs": [
    {
     "data": {
      "text/plain": [
       "[1, 2, 3, 1, 2, 3, 1, 2, 3]"
      ]
     },
     "execution_count": 39,
     "metadata": {},
     "output_type": "execute_result"
    }
   ],
   "source": [
    "# * çarpılan listeyi çarptığım değer kadar yazar\n",
    "\n",
    "sayilar = [1,2,3]\n",
    "sayilar * 3"
   ]
  },
  {
   "cell_type": "markdown",
   "id": "bf0c0912-8d02-446e-814d-feed90c15246",
   "metadata": {},
   "source": [
    "**Liste Dilimlem(slicing)**"
   ]
  },
  {
   "cell_type": "code",
   "execution_count": 40,
   "id": "95d5cdeb-478e-4073-a5e8-5fa9b6f3a6f0",
   "metadata": {},
   "outputs": [],
   "source": [
    "harfler = ['a','b','c','d','e','f']"
   ]
  },
  {
   "cell_type": "code",
   "execution_count": 42,
   "id": "1bcf0ef5-3d80-4398-b083-684e5fb7d88a",
   "metadata": {},
   "outputs": [
    {
     "data": {
      "text/plain": [
       "['a', 'b', 'c', 'd', 'e', 'f']"
      ]
     },
     "execution_count": 42,
     "metadata": {},
     "output_type": "execute_result"
    }
   ],
   "source": [
    "#hepsini almak \n",
    "harfler[:]"
   ]
  },
  {
   "cell_type": "markdown",
   "id": "f8e7bc42-2a5f-4428-b852-38bcf523f629",
   "metadata": {},
   "source": [
    "[başlangıç değeri(dahil):bitiş değeri(dahil değil):artış]"
   ]
  },
  {
   "cell_type": "code",
   "execution_count": 43,
   "id": "a5de7c89-813c-4b7e-93b0-e3bb039799e0",
   "metadata": {},
   "outputs": [
    {
     "data": {
      "text/plain": [
       "['a', 'b', 'c', 'd']"
      ]
     },
     "execution_count": 43,
     "metadata": {},
     "output_type": "execute_result"
    }
   ],
   "source": [
    "harfler[:4]"
   ]
  },
  {
   "cell_type": "code",
   "execution_count": 44,
   "id": "1ac981f6-9782-4dd5-a24b-c2408dc3b709",
   "metadata": {},
   "outputs": [],
   "source": [
    "harfler[1:3] = ['k','l']"
   ]
  },
  {
   "cell_type": "code",
   "execution_count": 45,
   "id": "790b28f5-97e5-4f3c-95c2-2a4e7ecb5a8f",
   "metadata": {},
   "outputs": [
    {
     "data": {
      "text/plain": [
       "['a', 'k', 'l', 'd', 'e', 'f']"
      ]
     },
     "execution_count": 45,
     "metadata": {},
     "output_type": "execute_result"
    }
   ],
   "source": [
    "harfler"
   ]
  },
  {
   "cell_type": "markdown",
   "id": "20cef58d-3aa8-4386-bdc9-cad32fbaabf5",
   "metadata": {},
   "source": [
    "**id nedir?**"
   ]
  },
  {
   "cell_type": "code",
   "execution_count": 46,
   "id": "1ffe2409-b0ba-4bbf-9107-4f9c80e832ff",
   "metadata": {},
   "outputs": [
    {
     "data": {
      "text/plain": [
       "2110747993472"
      ]
     },
     "execution_count": 46,
     "metadata": {},
     "output_type": "execute_result"
    }
   ],
   "source": [
    "id(harfler)"
   ]
  },
  {
   "cell_type": "markdown",
   "id": "5b752e0d-347f-43b2-89c9-d7b1cc784fde",
   "metadata": {},
   "source": [
    "**Değer ve Referans Tipler**"
   ]
  },
  {
   "cell_type": "code",
   "execution_count": 48,
   "id": "6d85a293-6cc0-4a45-9d83-ac493601170d",
   "metadata": {},
   "outputs": [
    {
     "data": {
      "text/plain": [
       "(15, 8)"
      ]
     },
     "execution_count": 48,
     "metadata": {},
     "output_type": "execute_result"
    }
   ],
   "source": [
    "sayi1 = 10 \n",
    "sayi2 = 15 \n",
    "\n",
    "sayi1 = sayi2 \n",
    "sayi2 = 8\n",
    "sayi1,sayi2"
   ]
  },
  {
   "cell_type": "code",
   "execution_count": 49,
   "id": "6f86bc3b-03cf-4870-b105-c14290286607",
   "metadata": {},
   "outputs": [
    {
     "data": {
      "text/plain": [
       "(['Eylül', 'Dilek'], ['Eylül', 'Dilek'])"
      ]
     },
     "execution_count": 49,
     "metadata": {},
     "output_type": "execute_result"
    }
   ],
   "source": [
    "erkekler = ['Ahmet','Burak','Emre']\n",
    "kadınlar = ['Selin','Dilek']\n",
    "\n",
    "erkekler = kadınlar \n",
    "kadınlar[0] = 'Eylül'\n",
    "erkekler,kadınlar"
   ]
  },
  {
   "cell_type": "markdown",
   "id": "4b9f94bd-b403-4027-a7bb-04067b100fa2",
   "metadata": {},
   "source": [
    "**Liste Metotları**"
   ]
  },
  {
   "cell_type": "code",
   "execution_count": 50,
   "id": "b81e4077-6f67-4292-a914-f54c1fcb0a08",
   "metadata": {},
   "outputs": [],
   "source": [
    "harfler = ['a','b','c','d','e']"
   ]
  },
  {
   "cell_type": "code",
   "execution_count": 51,
   "id": "ce2466b4-82e3-48dd-b855-2c9caa8b4311",
   "metadata": {},
   "outputs": [
    {
     "data": {
      "text/plain": [
       "['a', 'b', 'c', 'd', 'e', 'f']"
      ]
     },
     "execution_count": 51,
     "metadata": {},
     "output_type": "execute_result"
    }
   ],
   "source": [
    "# append - listenin sonuna yeni bir eleman ekler\n",
    "harfler.append('f')\n",
    "harfler"
   ]
  },
  {
   "cell_type": "code",
   "execution_count": 52,
   "id": "e3de8806-225a-46ca-bf04-428f6d23b858",
   "metadata": {},
   "outputs": [],
   "source": [
    "# insert - eklemek istediğimiz indeksi biliyorsak \n",
    "harfler.insert(2,'k')"
   ]
  },
  {
   "cell_type": "code",
   "execution_count": 53,
   "id": "4403443b-107e-4724-b5ab-0037ec5053e7",
   "metadata": {},
   "outputs": [
    {
     "data": {
      "text/plain": [
       "['a', 'b', 'k', 'c', 'd', 'e', 'f']"
      ]
     },
     "execution_count": 53,
     "metadata": {},
     "output_type": "execute_result"
    }
   ],
   "source": [
    "harfler"
   ]
  },
  {
   "cell_type": "code",
   "execution_count": 55,
   "id": "f6318c0f-6f21-48e6-897a-7bd966b8a780",
   "metadata": {},
   "outputs": [
    {
     "data": {
      "text/plain": [
       "[10, 20, 30, 40, 50]"
      ]
     },
     "execution_count": 55,
     "metadata": {},
     "output_type": "execute_result"
    }
   ],
   "source": [
    "# extend - iki listeyi farklı bir listeye atar\n",
    "sayilar1 = [10,20,30]\n",
    "sayilar2 = [40,50]\n",
    "\n",
    "sayilar1.extend(sayilar2)\n",
    "sayilar1"
   ]
  },
  {
   "cell_type": "markdown",
   "id": "ed05f4db-b7e7-4bc8-b70e-a56795f17245",
   "metadata": {},
   "source": [
    "sort küçükten büyüğe.\n",
    "\n",
    "reverse=True - büyükten küçüğe "
   ]
  },
  {
   "cell_type": "code",
   "execution_count": 59,
   "id": "a918e02e-b93a-454f-99eb-8f73119e75d4",
   "metadata": {},
   "outputs": [
    {
     "data": {
      "text/plain": [
       "['e', 'd', 'c', 'b', 'a']"
      ]
     },
     "execution_count": 59,
     "metadata": {},
     "output_type": "execute_result"
    }
   ],
   "source": [
    "harfler = ['a','b','c','d','e']\n",
    "harfler.sort(reverse=True)\n",
    "harfler"
   ]
  },
  {
   "cell_type": "code",
   "execution_count": 60,
   "id": "ba68d70b-4e8d-4e62-98fa-c73b93eddfa1",
   "metadata": {},
   "outputs": [
    {
     "data": {
      "text/plain": [
       "['a', 'b', 'c', 'd', 'e']"
      ]
     },
     "execution_count": 60,
     "metadata": {},
     "output_type": "execute_result"
    }
   ],
   "source": [
    "a = sorted(harfler)\n",
    "a"
   ]
  },
  {
   "cell_type": "code",
   "execution_count": 63,
   "id": "6bb4c098-ab0e-4c42-b308-32568cbbb5c2",
   "metadata": {},
   "outputs": [
    {
     "data": {
      "text/plain": [
       "4"
      ]
     },
     "execution_count": 63,
     "metadata": {},
     "output_type": "execute_result"
    }
   ],
   "source": [
    "# count - liste içindeki tekrarlı elemanın değerini döner\n",
    "sayilar = [1,2,3,3,3,3,5]\n",
    "tekrar = sayilar.count(3)\n",
    "tekrar"
   ]
  },
  {
   "cell_type": "markdown",
   "id": "7f483611-4a8d-47b2-b4b5-b82da9bc0078",
   "metadata": {},
   "source": [
    "**Listelerde Silme İşlemi**"
   ]
  },
  {
   "cell_type": "code",
   "execution_count": 79,
   "id": "e8d44f96-afdb-47f6-b168-5c49926ba7d3",
   "metadata": {},
   "outputs": [],
   "source": [
    "sayilar = [1,2,4,5,6,7,8]"
   ]
  },
  {
   "cell_type": "code",
   "execution_count": 80,
   "id": "e3957107-64ef-4e73-baf3-f3250004bab0",
   "metadata": {},
   "outputs": [
    {
     "data": {
      "text/plain": [
       "4"
      ]
     },
     "execution_count": 80,
     "metadata": {},
     "output_type": "execute_result"
    }
   ],
   "source": [
    "# sileceğim indeks biliyorsam pop() - silinen değeri döner\n",
    "a = sayilar.pop(2)\n",
    "a"
   ]
  },
  {
   "cell_type": "code",
   "execution_count": 81,
   "id": "948dc680-14dd-4021-8010-fbaa04a0d23f",
   "metadata": {},
   "outputs": [
    {
     "data": {
      "text/plain": [
       "[5, 6, 7, 8]"
      ]
     },
     "execution_count": 81,
     "metadata": {},
     "output_type": "execute_result"
    }
   ],
   "source": [
    "# birden fazla değer silelim\n",
    "del sayilar[0:2]\n",
    "sayilar"
   ]
  },
  {
   "cell_type": "code",
   "execution_count": 82,
   "id": "876561af-4025-4876-96f0-8523ffc48352",
   "metadata": {},
   "outputs": [
    {
     "data": {
      "text/plain": [
       "8"
      ]
     },
     "execution_count": 82,
     "metadata": {},
     "output_type": "execute_result"
    }
   ],
   "source": [
    "# pop() indeks olmazsa en sonrakini siler \n",
    "silinen = sayilar.pop()\n",
    "silinen"
   ]
  },
  {
   "cell_type": "code",
   "execution_count": 83,
   "id": "4c4a1c89-9866-4920-801f-69ab67139452",
   "metadata": {},
   "outputs": [
    {
     "data": {
      "text/plain": [
       "[5, 6]"
      ]
     },
     "execution_count": 83,
     "metadata": {},
     "output_type": "execute_result"
    }
   ],
   "source": [
    "# sileceğim değeri biliyorsam remove()\n",
    "sayilar.remove(7)\n",
    "sayilar"
   ]
  },
  {
   "cell_type": "code",
   "execution_count": 86,
   "id": "21dbc323-ee8b-40d7-b3ad-db2d03274b62",
   "metadata": {},
   "outputs": [
    {
     "data": {
      "text/plain": [
       "[]"
      ]
     },
     "execution_count": 86,
     "metadata": {},
     "output_type": "execute_result"
    }
   ],
   "source": [
    "# clear() listeyi temizler \n",
    "sayilar.clear()\n",
    "sayilar"
   ]
  },
  {
   "cell_type": "markdown",
   "id": "b62d7cdf-5049-4193-84d8-01f31f593e35",
   "metadata": {},
   "source": [
    "**is ifadesi**"
   ]
  },
  {
   "cell_type": "code",
   "execution_count": 89,
   "id": "00d75537-25f3-4fee-b741-18f537229254",
   "metadata": {},
   "outputs": [
    {
     "data": {
      "text/plain": [
       "False"
      ]
     },
     "execution_count": 89,
     "metadata": {},
     "output_type": "execute_result"
    }
   ],
   "source": [
    "c = [1,2,3]\n",
    "b = [1,2,3]\n",
    "\n",
    "# a ile b aynı mı?\n",
    "a is b "
   ]
  },
  {
   "cell_type": "code",
   "execution_count": 90,
   "id": "2b97c46f-cc40-4445-b081-e1982624696e",
   "metadata": {},
   "outputs": [
    {
     "data": {
      "text/plain": [
       "True"
      ]
     },
     "execution_count": 90,
     "metadata": {},
     "output_type": "execute_result"
    }
   ],
   "source": [
    "c = 'python'\n",
    "d = 'python'\n",
    "\n",
    "c is d "
   ]
  },
  {
   "cell_type": "markdown",
   "id": "feb5c9c6-58c4-4fa9-822a-fc5910658842",
   "metadata": {},
   "source": [
    "**in ifadesi**"
   ]
  },
  {
   "cell_type": "code",
   "execution_count": 91,
   "id": "47968c3c-deff-473f-8d22-55fbc8503145",
   "metadata": {},
   "outputs": [
    {
     "data": {
      "text/plain": [
       "True"
      ]
     },
     "execution_count": 91,
     "metadata": {},
     "output_type": "execute_result"
    }
   ],
   "source": [
    "c = [1,2,3]\n",
    "1 in a "
   ]
  },
  {
   "cell_type": "code",
   "execution_count": 92,
   "id": "364ecd46-2e1f-4d79-8292-025ba361cdb7",
   "metadata": {},
   "outputs": [
    {
     "data": {
      "text/plain": [
       "False"
      ]
     },
     "execution_count": 92,
     "metadata": {},
     "output_type": "execute_result"
    }
   ],
   "source": [
    "5 in a"
   ]
  },
  {
   "cell_type": "code",
   "execution_count": 93,
   "id": "c75bd32d-1ce4-4b8e-85f3-7a09d1c3b235",
   "metadata": {},
   "outputs": [
    {
     "data": {
      "text/plain": [
       "True"
      ]
     },
     "execution_count": 93,
     "metadata": {},
     "output_type": "execute_result"
    }
   ],
   "source": [
    "5 not in a"
   ]
  },
  {
   "cell_type": "code",
   "execution_count": null,
   "id": "40f44289-12aa-413c-b000-fa276b86d2be",
   "metadata": {},
   "outputs": [],
   "source": []
  }
 ],
 "metadata": {
  "kernelspec": {
   "display_name": "Python 3 (ipykernel)",
   "language": "python",
   "name": "python3"
  },
  "language_info": {
   "codemirror_mode": {
    "name": "ipython",
    "version": 3
   },
   "file_extension": ".py",
   "mimetype": "text/x-python",
   "name": "python",
   "nbconvert_exporter": "python",
   "pygments_lexer": "ipython3",
   "version": "3.11.9"
  }
 },
 "nbformat": 4,
 "nbformat_minor": 5
}
