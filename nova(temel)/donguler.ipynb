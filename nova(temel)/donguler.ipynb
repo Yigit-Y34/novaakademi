{
 "cells": [
  {
   "cell_type": "markdown",
   "id": "6f917df0-2887-45aa-b2f3-aeef94a4a091",
   "metadata": {},
   "source": [
    "**Döngüler**"
   ]
  },
  {
   "cell_type": "markdown",
   "id": "23dbe8ef-6b93-4574-8f20-f7d7f1d05989",
   "metadata": {},
   "source": [
    "Döngü belirli bir kurala göre belirlenmiş aralıklar içinde belirli operasyonu tekrar eden yapılardır."
   ]
  },
  {
   "cell_type": "code",
   "execution_count": 2,
   "id": "ad383deb-884e-42b2-9297-e3bdfbc1a745",
   "metadata": {},
   "outputs": [
    {
     "name": "stdout",
     "output_type": "stream",
     "text": [
      "10\n",
      "9\n",
      "8\n",
      "7\n",
      "6\n",
      "5\n",
      "4\n",
      "3\n",
      "2\n",
      "1\n"
     ]
    }
   ],
   "source": [
    "#10 dan bire kadar olan sayıları yazdıralım.\n",
    "n = 10 \n",
    "\n",
    "while n > 0 :\n",
    "    print(n)\n",
    "    n = n- 1"
   ]
  },
  {
   "cell_type": "markdown",
   "id": "0cb6f035-5b4d-49cb-9360-756281e33dc1",
   "metadata": {},
   "source": [
    "**While döngüsünün işleyişi**\n",
    "* While döngüsü işlemeye başlamadan önce kuralın doğruluğunu kontrol eder.\n",
    "* Kural doğru ise (True) bir defa işlem yapar.\n",
    "* Kuralı tekrar kontrol eder tekrar doğru ise aynı işlemi tekrar yapar.\n",
    "* Sonsuz bir dögü olmaması için her tekrarlandığında kural kontrol edilir.\n",
    "* Yukarıdaki örnekte n = n - 1 yaparak bu ayarlamayı yaptık.\n",
    "* Böylece her adımda n değeri 1 azaldığı için en sonunda 0 oldu döngüye girmedi ve döngü bitti."
   ]
  },
  {
   "cell_type": "code",
   "execution_count": 4,
   "id": "2be51fda-4438-48db-b305-186d7dd3ea75",
   "metadata": {},
   "outputs": [
    {
     "name": "stdout",
     "output_type": "stream",
     "text": [
      "1\n",
      "9\n",
      "25\n",
      "49\n",
      "81\n",
      "121\n",
      "169\n",
      "225\n",
      "289\n",
      "361\n"
     ]
    }
   ],
   "source": [
    "# 1 den 20 ye kadar olan tek sayıların karelerini alalım\n",
    "\n",
    "x = 1 \n",
    "while x <= 20:\n",
    "    if x % 2 == 1:\n",
    "        print(x**2)\n",
    "    x += 1 "
   ]
  },
  {
   "cell_type": "code",
   "execution_count": 13,
   "id": "bdd7652d-d426-46f5-88b5-ae0bfdb8c81f",
   "metadata": {},
   "outputs": [
    {
     "name": "stdout",
     "output_type": "stream",
     "text": [
      "30\n"
     ]
    }
   ],
   "source": [
    "# 1 den 10 a kadar olan çift sayılrın toplamını bulan python programını yazınız.\n",
    "\n",
    "x = 1\n",
    "toplam = 0 \n",
    "while x <= 10:\n",
    "    if x % 2 == 0:\n",
    "        toplam += x \n",
    "    x += 1\n",
    "print(toplam)"
   ]
  },
  {
   "cell_type": "code",
   "execution_count": 16,
   "id": "48541223-4d2d-4b1b-8f39-a4c593607ab8",
   "metadata": {},
   "outputs": [
    {
     "name": "stdin",
     "output_type": "stream",
     "text": [
      "Bir sayı giriniz: 10\n"
     ]
    },
    {
     "name": "stdout",
     "output_type": "stream",
     "text": [
      "2\n",
      "5\n",
      "10\n"
     ]
    }
   ],
   "source": [
    "#Kullanıcıdan girilen bir sayının çarpanlarını bulalım.\n",
    "\n",
    "sayi = input(\"Bir sayı giriniz:\")\n",
    "i = 2 \n",
    "if sayi.isdigit():\n",
    "    sayi = int(sayi)\n",
    "    while i <= sayi :\n",
    "        if sayi % i == 0:\n",
    "            print(i)\n",
    "        i += 1\n",
    "else:\n",
    "    print(\"Bir sayı girmelisiniz.\")"
   ]
  },
  {
   "cell_type": "markdown",
   "id": "60db770c-3b99-4feb-89b4-737ae12c4d8a",
   "metadata": {},
   "source": [
    "## FOR DÖNGÜSÜ"
   ]
  },
  {
   "cell_type": "code",
   "execution_count": 17,
   "id": "296a795e-65ed-4b4b-9161-bd459dfdae9e",
   "metadata": {},
   "outputs": [
    {
     "name": "stdout",
     "output_type": "stream",
     "text": [
      "0\n",
      "1\n",
      "2\n",
      "3\n",
      "4\n",
      "5\n",
      "6\n",
      "7\n",
      "8\n",
      "9\n",
      "10\n"
     ]
    }
   ],
   "source": [
    "# 0 dan 10 a kadar olan sayıları ekrana yazdıralım.\n",
    "for i in range(11):\n",
    "    print(i)"
   ]
  },
  {
   "cell_type": "markdown",
   "id": "7e49b45b-5328-4d04-a554-592c2505a82e",
   "metadata": {},
   "source": [
    "**For Döngüsü** : bir aralıkta (range) yada liste içinde kolayca döngü kurmamızı sağlar.\n",
    "\n",
    "**For Döngüsü Özellikleri:**\n",
    "* Belirli bir aralıkta -> range(başlangıç,bitiş,artış)\n",
    "* başlangıç -> dahil default(0)\n",
    "* bitiş -> hariç (dahil değil)\n",
    "* artış -> default(1)"
   ]
  },
  {
   "cell_type": "code",
   "execution_count": 19,
   "id": "d75f119c-b0b3-461e-87ce-e162e4b1fbcb",
   "metadata": {},
   "outputs": [
    {
     "name": "stdout",
     "output_type": "stream",
     "text": [
      "2\n",
      "4\n",
      "6\n",
      "8\n",
      "10\n"
     ]
    }
   ],
   "source": [
    "# 1 den 10 a kadar sayıları 2 şer arttırarak ekrana yazalım\n",
    "for i in range(2,11,2):\n",
    "    print(i)"
   ]
  },
  {
   "cell_type": "code",
   "execution_count": 22,
   "id": "9dc59026-c8ed-4ad1-8636-14698d32bf16",
   "metadata": {},
   "outputs": [
    {
     "name": "stdin",
     "output_type": "stream",
     "text": [
      "Bir sayı giriniz: 10\n"
     ]
    },
    {
     "name": "stdout",
     "output_type": "stream",
     "text": [
      "2\n",
      "5\n"
     ]
    }
   ],
   "source": [
    "# girilen sayının çarpanlarını bulma örneğini  for ile yapalım.\n",
    "sayi = int(input(\"Bir sayı giriniz:\"))\n",
    "for i in range(2,sayi,1):\n",
    "    if sayi % i == 0:\n",
    "        print(i)"
   ]
  },
  {
   "cell_type": "code",
   "execution_count": 10,
   "id": "7edbf640-91cb-40b5-b337-1df0f219229b",
   "metadata": {},
   "outputs": [
    {
     "name": "stdout",
     "output_type": "stream",
     "text": [
      "Tek sayılar: [1, 3, 5, 7, 9, 11, 13, 15, 17, 19, 21, 23, 25, 27, 29, 31, 33, 35, 37, 39, 41, 43, 45, 47, 49, 51, 53, 55, 57, 59, 61, 63, 65, 67, 69, 71, 73, 75, 77, 79, 81, 83, 85, 87, 89, 91, 93, 95, 97, 99]\n",
      "Çift sayılar: [0, 2, 4, 6, 8, 10, 12, 14, 16, 18, 20, 22, 24, 26, 28, 30, 32, 34, 36, 38, 40, 42, 44, 46, 48, 50, 52, 54, 56, 58, 60, 62, 64, 66, 68, 70, 72, 74, 76, 78, 80, 82, 84, 86, 88, 90, 92, 94, 96, 98, 100]\n"
     ]
    }
   ],
   "source": [
    "# 1 den 100 e kadar olan sayılar arasında çift ve tek olanları ayrı ayrı listeleyen python programını yazınız.\n",
    "tek = []\n",
    "cift = []\n",
    "for i in range(101):\n",
    "    if i % 2 == 0:\n",
    "        cift.append(i)\n",
    "    else:\n",
    "        tek.append(i)\n",
    "print(\"Tek sayılar:\",tek)\n",
    "print(\"Çift sayılar:\",cift)"
   ]
  },
  {
   "cell_type": "markdown",
   "id": "207d3279-979b-4935-8e13-a3d751d6b15d",
   "metadata": {},
   "source": [
    "**For Döngüsü ile Metinler(String) Üzerinde Dönme**"
   ]
  },
  {
   "cell_type": "code",
   "execution_count": 11,
   "id": "f832eef2-82cd-48ce-af46-e7ecb000966e",
   "metadata": {},
   "outputs": [
    {
     "name": "stdout",
     "output_type": "stream",
     "text": [
      "P\n",
      "y\n",
      "t\n",
      "h\n",
      "o\n",
      "n\n"
     ]
    }
   ],
   "source": [
    "metin = \"Python\"\n",
    "for harf in metin:\n",
    "    print(harf)"
   ]
  },
  {
   "cell_type": "code",
   "execution_count": 13,
   "id": "55938494-4026-410c-b4bf-4cb13f2a09c1",
   "metadata": {},
   "outputs": [
    {
     "name": "stdin",
     "output_type": "stream",
     "text": [
      "Bir metin giriniz: metin\n"
     ]
    },
    {
     "name": "stdout",
     "output_type": "stream",
     "text": [
      "m-e-t-i-n-\n"
     ]
    }
   ],
   "source": [
    "# Kullanıcıdan bir metin isteyiniz bu metinin her harfinden sonra \"-\" harfi ekleyiniz.\n",
    "metin = input(\"Bir metin giriniz:\")\n",
    "yeni_metin = \"\"\n",
    "for harf in metin:\n",
    "    yeni_metin += harf + \"-\"\n",
    "print(yeni_metin)"
   ]
  },
  {
   "cell_type": "code",
   "execution_count": 15,
   "id": "8d57b437-9b1e-4dbb-8a8a-b4557358229d",
   "metadata": {},
   "outputs": [
    {
     "name": "stdout",
     "output_type": "stream",
     "text": [
      "1\n",
      "2\n",
      "3\n",
      "4\n",
      "5\n"
     ]
    }
   ],
   "source": [
    "# bir listeyi for ile dönmek\n",
    "\n",
    "liste = [1,2,3,4,5]\n",
    "for sayi in liste:\n",
    "    print(sayi)"
   ]
  },
  {
   "cell_type": "code",
   "execution_count": 28,
   "id": "ebe5c072-2bed-45e5-85e7-9c0c713f22cd",
   "metadata": {},
   "outputs": [
    {
     "name": "stdout",
     "output_type": "stream",
     "text": [
      "Öğrencinin Notu : 66.66666666666667\n"
     ]
    }
   ],
   "source": [
    "# Bir öğrencinin aldığı notlar aşağıdaki listede verilmiştir.Öğrencinin ortalamasını bulan python kodunu yazınız.\n",
    "notlar = [50,90,60]\n",
    "toplam = 0 \n",
    "for ogr_notu in notlar:\n",
    "    toplam += ogr_notu\n",
    "ortalama = toplam / len(notlar) \n",
    "print(\"Öğrencinin Notu :\",ortalama)"
   ]
  },
  {
   "cell_type": "code",
   "execution_count": null,
   "id": "d7c312d2-7941-471e-9694-0cc18f8e0572",
   "metadata": {},
   "outputs": [],
   "source": [
    "# bir kişi gelir ve gider listesi aşağıda verilmiştir.\n",
    "# toplam gelir toplam giderden büyükse \"Tasaruf Edilmiştir\"\n",
    "# toplam gelir toplam giderden küçükse \"Zarar Edilmiştir\"\n",
    "# toplam gelir toplam gidere eşirtse \"Dengelenmiştir\"\n",
    "gelir = [2500,800,700,500]\n",
    "gider = [1500,200,300,600,100]\n",
    "gelir_toplam = 0\n",
    "gider_toplam = 0 \n",
    "for i in gelir:\n",
    "    gelir_toplam += i\n",
    "for x in gider:\n",
    "    gider_toplam += x\n",
    "if gelir_toplam > gider_toplam:\n",
    "    print(\"Tasaruf Edilmiştir.\")\n",
    "elif gelir_toplam == gider_toplam:\n",
    "    print(\"Dengelenmiştir.\")\n",
    "else:\n",
    "    print(\"Zarar Edilmiştir.\")"
   ]
  },
  {
   "cell_type": "code",
   "execution_count": 3,
   "id": "2a55d864-5595-4f97-ac51-bf201a1c859e",
   "metadata": {},
   "outputs": [
    {
     "name": "stdout",
     "output_type": "stream",
     "text": [
      "Su menüde bulunmamaktır.\n",
      "Ayran menüde bulunmamaktır.\n",
      "Toplam tutarınız: 300\n"
     ]
    }
   ],
   "source": [
    "# Aşağıda menü sözlüğü ve sipariş listesi verilmiştir.Liste içerisinde olan yemeklere göre müşterinin toplam ödeyeceği fiyat hesaplanmalıdır.\n",
    "# Eğer sipariş listesinde olan ve menüde olmayan bir yiyecek varsa örneğin \"Su menüde yoktur\" diye bir çıktı versin.\n",
    "menu = {\n",
    "    \"Köfte\" : 100,\n",
    "    \"Kebap\" : 150,\n",
    "    \"Pilav\" : 50,\n",
    "    \"Salata\" : 20,\n",
    "    \"Tavuk Şiş\": 70\n",
    "}\n",
    "\n",
    "siparisler = [\"Köfte\",\"Kebap\",\"Su\",\"Pilav\",\"Ayran\"]\n",
    "toplam_fiyat = 0\n",
    "for yemek in siparisler:\n",
    "    if yemek in menu:\n",
    "        toplam_fiyat += menu[yemek]\n",
    "    else:\n",
    "        print(yemek, \"menüde bulunmamaktır.\")\n",
    "print(\"Toplam tutarınız:\",toplam_fiyat)"
   ]
  },
  {
   "cell_type": "markdown",
   "id": "9c65e99d-31ce-4c1a-bd73-5d2bf2599df5",
   "metadata": {},
   "source": [
    "**Döngüden Çıkış:Break**"
   ]
  },
  {
   "cell_type": "markdown",
   "id": "4354cfbf-1a46-44b8-a532-c7487006bccc",
   "metadata": {},
   "source": [
    "Bazen bir döngü tamamlanmadan döngüden çıkmamız gerekebilir.\n",
    "\n",
    "Bunun için break keywordu kullanılır."
   ]
  },
  {
   "cell_type": "code",
   "execution_count": 5,
   "id": "a8b13cfb-5c3a-4091-af04-8fb752a5c6ae",
   "metadata": {},
   "outputs": [
    {
     "name": "stdin",
     "output_type": "stream",
     "text": [
      "Bir metin giriniz:  aaa b\n"
     ]
    },
    {
     "name": "stdout",
     "output_type": "stream",
     "text": [
      "a\n",
      "a\n",
      "a\n"
     ]
    }
   ],
   "source": [
    "# Kullanıcıdan bir metin alalım boşluk gördüğümüzde döngü dursun\n",
    "metin = input(\"Bir metin giriniz: \")\n",
    "for harf in metin:\n",
    "    if harf == \" \":\n",
    "        break\n",
    "    # boşluk yoksa yaz\n",
    "    print(harf)"
   ]
  },
  {
   "cell_type": "code",
   "execution_count": 10,
   "id": "01536657-507f-4174-893c-0d788e0ace28",
   "metadata": {},
   "outputs": [
    {
     "name": "stdout",
     "output_type": "stream",
     "text": [
      "30\n",
      "31\n",
      "32\n",
      "33\n"
     ]
    }
   ],
   "source": [
    "# 30 dan 100 e kadar olan sayılarda 11 in ilk katını bulduğumuzda döngüden çıkalım\n",
    "for sayilar in range(30,101):\n",
    "    if sayilar % 11 == 0:\n",
    "        print(sayilar)\n",
    "        break\n",
    "    else:\n",
    "        print(sayilar)"
   ]
  },
  {
   "cell_type": "markdown",
   "id": "e397b50a-3a81-47b1-8d41-ef07860f1b96",
   "metadata": {},
   "source": [
    "**Döngüde Bir Sonraki Adımı Atlamak: Continue**"
   ]
  },
  {
   "cell_type": "markdown",
   "id": "cc30a3fe-423b-4d3d-a979-c1611e374140",
   "metadata": {},
   "source": [
    "Bazen döngü içinde dönerken, bir koşula göre o anki adımı atlaıp,sıradaki adımı kullanmak durumunda kalabiliriz.\n",
    "\n",
    "Bunun için continue keywordunu kullanırız."
   ]
  },
  {
   "cell_type": "code",
   "execution_count": 11,
   "id": "77c4e442-4f82-45c2-9dae-59291913ec18",
   "metadata": {},
   "outputs": [
    {
     "name": "stdin",
     "output_type": "stream",
     "text": [
      "Bir metin giriniz:  aaa b\n"
     ]
    },
    {
     "name": "stdout",
     "output_type": "stream",
     "text": [
      "a\n",
      "a\n",
      "a\n",
      "b\n"
     ]
    }
   ],
   "source": [
    "# Kullanıcıdan aldığımız metni böşlukları atarak hepsini yan yana yazalım.\n",
    "metin = input(\"Bir metin giriniz: \")\n",
    "for harf in metin:\n",
    "    if harf == \" \":\n",
    "        continue\n",
    "    print(harf)"
   ]
  },
  {
   "cell_type": "code",
   "execution_count": 14,
   "id": "49b042c5-2324-4c8e-a5fe-ba68232529b7",
   "metadata": {},
   "outputs": [
    {
     "name": "stdout",
     "output_type": "stream",
     "text": [
      "1\n",
      "3\n",
      "5\n",
      "7\n",
      "9\n"
     ]
    }
   ],
   "source": [
    "# 0-10 arası tek sayıları continue kullanarak yazdıralım.\n",
    "for sayi in range(11):\n",
    "    if sayi % 2 == 0:\n",
    "        continue\n",
    "    print(sayi)"
   ]
  },
  {
   "cell_type": "markdown",
   "id": "d11b6481-50ae-4aa2-ad61-8c52e500a50a",
   "metadata": {},
   "source": [
    "**Döngü İçinde Döngü (Nested Loop)**"
   ]
  },
  {
   "cell_type": "markdown",
   "id": "566e2a5c-230a-47c5-b51d-31b2f4ce4d4a",
   "metadata": {},
   "source": [
    "Bazen bir döngü içinde gezerken döngünün o anki elemanı için başka bir döngü çalıştırmamız gerekir"
   ]
  },
  {
   "cell_type": "code",
   "execution_count": 1,
   "id": "fe009930-4a87-4eab-88e2-6cd20569759b",
   "metadata": {},
   "outputs": [
    {
     "name": "stdout",
     "output_type": "stream",
     "text": [
      "* * * * \n",
      "* * * * \n",
      "* * * * \n",
      "* * * * \n"
     ]
    }
   ],
   "source": [
    "## sütünlar için bir döngü\n",
    "## satırlar için ayrı bir döngü\n",
    "\n",
    "#satır döngüsü\n",
    "i = 0 \n",
    "while i < 4:\n",
    "    yildizlar = \"\"\n",
    "    j = 0\n",
    "    while j < 4:\n",
    "        yildizlar += \"* \"\n",
    "        j += 1\n",
    "    print(yildizlar)\n",
    "    i += 1"
   ]
  },
  {
   "cell_type": "code",
   "execution_count": 15,
   "id": "7ddec279-e7c9-4653-b5a0-9b8dded8cc7a",
   "metadata": {},
   "outputs": [
    {
     "name": "stdout",
     "output_type": "stream",
     "text": [
      "1 X 1 = 1\n",
      "1 X 2 = 2\n",
      "1 X 3 = 3\n",
      "1 X 4 = 4\n",
      "1 X 5 = 5\n",
      "1 X 6 = 6\n",
      "1 X 7 = 7\n",
      "1 X 8 = 8\n",
      "1 X 9 = 9\n",
      "1 X 10 = 10\n",
      "2 X 1 = 2\n",
      "2 X 2 = 4\n",
      "2 X 3 = 6\n",
      "2 X 4 = 8\n",
      "2 X 5 = 10\n",
      "2 X 6 = 12\n",
      "2 X 7 = 14\n",
      "2 X 8 = 16\n",
      "2 X 9 = 18\n",
      "2 X 10 = 20\n",
      "3 X 1 = 3\n",
      "3 X 2 = 6\n",
      "3 X 3 = 9\n",
      "3 X 4 = 12\n",
      "3 X 5 = 15\n",
      "3 X 6 = 18\n",
      "3 X 7 = 21\n",
      "3 X 8 = 24\n",
      "3 X 9 = 27\n",
      "3 X 10 = 30\n",
      "4 X 1 = 4\n",
      "4 X 2 = 8\n",
      "4 X 3 = 12\n",
      "4 X 4 = 16\n",
      "4 X 5 = 20\n",
      "4 X 6 = 24\n",
      "4 X 7 = 28\n",
      "4 X 8 = 32\n",
      "4 X 9 = 36\n",
      "4 X 10 = 40\n",
      "5 X 1 = 5\n",
      "5 X 2 = 10\n",
      "5 X 3 = 15\n",
      "5 X 4 = 20\n",
      "5 X 5 = 25\n",
      "5 X 6 = 30\n",
      "5 X 7 = 35\n",
      "5 X 8 = 40\n",
      "5 X 9 = 45\n",
      "5 X 10 = 50\n",
      "6 X 1 = 6\n",
      "6 X 2 = 12\n",
      "6 X 3 = 18\n",
      "6 X 4 = 24\n",
      "6 X 5 = 30\n",
      "6 X 6 = 36\n",
      "6 X 7 = 42\n",
      "6 X 8 = 48\n",
      "6 X 9 = 54\n",
      "6 X 10 = 60\n",
      "7 X 1 = 7\n",
      "7 X 2 = 14\n",
      "7 X 3 = 21\n",
      "7 X 4 = 28\n",
      "7 X 5 = 35\n",
      "7 X 6 = 42\n",
      "7 X 7 = 49\n",
      "7 X 8 = 56\n",
      "7 X 9 = 63\n",
      "7 X 10 = 70\n",
      "8 X 1 = 8\n",
      "8 X 2 = 16\n",
      "8 X 3 = 24\n",
      "8 X 4 = 32\n",
      "8 X 5 = 40\n",
      "8 X 6 = 48\n",
      "8 X 7 = 56\n",
      "8 X 8 = 64\n",
      "8 X 9 = 72\n",
      "8 X 10 = 80\n",
      "9 X 1 = 9\n",
      "9 X 2 = 18\n",
      "9 X 3 = 27\n",
      "9 X 4 = 36\n",
      "9 X 5 = 45\n",
      "9 X 6 = 54\n",
      "9 X 7 = 63\n",
      "9 X 8 = 72\n",
      "9 X 9 = 81\n",
      "9 X 10 = 90\n",
      "10 X 1 = 10\n",
      "10 X 2 = 20\n",
      "10 X 3 = 30\n",
      "10 X 4 = 40\n",
      "10 X 5 = 50\n",
      "10 X 6 = 60\n",
      "10 X 7 = 70\n",
      "10 X 8 = 80\n",
      "10 X 9 = 90\n",
      "10 X 10 = 100\n"
     ]
    }
   ],
   "source": [
    "# Çarpım tablosu\n",
    "for i in range(1,11):\n",
    "    for j in range(1,11):\n",
    "        print(i, \"X\",  j, \"=\",i*j )"
   ]
  },
  {
   "cell_type": "code",
   "execution_count": 13,
   "id": "7f9e9b92-25c9-4c4b-b016-d92f1e7bc78b",
   "metadata": {},
   "outputs": [
    {
     "name": "stdout",
     "output_type": "stream",
     "text": [
      "* * * * \n",
      "* * * * \n",
      "* * * * \n",
      "* * * * \n"
     ]
    }
   ],
   "source": [
    "# yıldız örneğini for ile yapalım\n",
    "for i in range(4):\n",
    "    yildizlar = \"\"\n",
    "    for j in range(4):\n",
    "        yildizlar += \"* \"\n",
    "    print(yildizlar)"
   ]
  },
  {
   "cell_type": "code",
   "execution_count": 20,
   "id": "b87db149-4dec-409f-948a-f8c6c57b3c5a",
   "metadata": {},
   "outputs": [
    {
     "name": "stdout",
     "output_type": "stream",
     "text": [
      "[22, 32, 42, 23, 33, 43, 24, 34, 44]\n"
     ]
    }
   ],
   "source": [
    "liste1 = [2,3,4]\n",
    "liste2 = [20,30,40]\n",
    "sonliste = []\n",
    "for i in liste1:\n",
    "    for j in liste2:\n",
    "        sonliste.append(i + j)\n",
    "print(sonliste)"
   ]
  },
  {
   "cell_type": "code",
   "execution_count": 2,
   "id": "6db53271-4842-4820-ac7c-da405b50d33a",
   "metadata": {},
   "outputs": [
    {
     "name": "stdout",
     "output_type": "stream",
     "text": [
      "Mükemmel sayı:  6\n",
      "Mükemmel sayı:  28\n"
     ]
    }
   ],
   "source": [
    "## sayılar teorisinde kendisi hariç pozitif tam bölenlerinin toplamı kendisine eşit olan sayılara mükemmel sayılar denir.\n",
    "# Örneğin 6 bir mükemmel sayıdır 1 + 2 + 3 = 6 \n",
    "# 1 ile 100 arasındaki mükemmel sayıları bulan python programını yazınız.\n",
    "n = 2\n",
    "while n <= 100:\n",
    "    toplam = 0\n",
    "    for i in range(1,n):\n",
    "        if n % i == 0:\n",
    "            toplam += i\n",
    "    if toplam == n:\n",
    "        print(\"Mükemmel sayı: \",n)\n",
    "    n += 1"
   ]
  },
  {
   "cell_type": "markdown",
   "id": "91c11767-271f-4d3a-9d39-b6708b0eee1f",
   "metadata": {},
   "source": [
    "**For-Else Yapısı** "
   ]
  },
  {
   "cell_type": "markdown",
   "id": "a8f5718b-2a96-438c-a05f-3ac1fe68a2b8",
   "metadata": {},
   "source": [
    "Bazen bir döngünün düzgün tamamşanıp tamamlanmadığını kontrol etmemiz gerekebilir.\n",
    "örneğin: Eğer for döngüsü bir elemanı için çalışmamış\n"
   ]
  },
  {
   "cell_type": "code",
   "execution_count": 7,
   "id": "2b333b24-4cef-4808-9dc7-027d3cba5699",
   "metadata": {},
   "outputs": [
    {
     "name": "stdout",
     "output_type": "stream",
     "text": [
      "---Döngüden Önce---\n",
      "2\n",
      "3\n",
      "4\n",
      "5\n",
      "6\n",
      "7\n",
      "---Döngüden Sonra---\n"
     ]
    }
   ],
   "source": [
    "# 2 ile 10 arasındaki sayılarda 7 nin katı olan sayıyı gördüğünde döngüden çık \n",
    "print(\"---Döngüden Önce---\")\n",
    "\n",
    "for i in range(2,10):\n",
    "    print(i)\n",
    "    if i % 7 == 0:\n",
    "        break\n",
    "else:\n",
    "    print(\"Döngü Düzgün çalıştı.\")\n",
    "print(\"---Döngüden Sonra---\")"
   ]
  },
  {
   "cell_type": "code",
   "execution_count": 8,
   "id": "5d1da0fb-d012-4206-b6f2-e1423a36a18c",
   "metadata": {},
   "outputs": [
    {
     "name": "stdout",
     "output_type": "stream",
     "text": [
      "---Döngüden Önce---\n",
      "2\n",
      "3\n",
      "4\n",
      "5\n",
      "6\n",
      "7\n",
      "8\n",
      "9\n",
      "Döngü Düzgün çalıştı.\n",
      "---Döngüden Sonra---\n"
     ]
    }
   ],
   "source": [
    "# 2 ile 10 arasındaki sayılarda 7 nin katı olan sayıyı gördüğünde döngüden çık \n",
    "print(\"---Döngüden Önce---\")\n",
    "\n",
    "for i in range(2,10):\n",
    "    print(i)\n",
    "    if i % 17 == 0:\n",
    "        break\n",
    "else:\n",
    "    print(\"Döngü Düzgün çalıştı.\")\n",
    "print(\"---Döngüden Sonra---\")"
   ]
  },
  {
   "cell_type": "markdown",
   "id": "dcf3ebb2-67cc-4263-9406-cc3a2e976110",
   "metadata": {},
   "source": [
    "**Enumerate Kavramı**\n",
    "\n",
    "Bazen,for döngüsü ile gezerken döngünün o andaki indeksine ihtiyaç duyabiliriz.Bunu için enumerate() fonksiyonu kullanılır."
   ]
  },
  {
   "cell_type": "code",
   "execution_count": 10,
   "id": "dedaaed0-f45d-4e03-960e-4f99b070f4d8",
   "metadata": {},
   "outputs": [
    {
     "name": "stdin",
     "output_type": "stream",
     "text": [
      "Bir kelime giriniz:  python\n"
     ]
    },
    {
     "name": "stdout",
     "output_type": "stream",
     "text": [
      "p-y-t-h-o-n\n"
     ]
    }
   ],
   "source": [
    "metin = input(\"Bir kelime giriniz: \")\n",
    "yeni_metin = \"\"\n",
    "for index,harf in enumerate(metin):\n",
    "    yeni_metin += harf\n",
    "    if index < len(metin) - 1:\n",
    "        yeni_metin += \"-\"\n",
    "\n",
    "print(yeni_metin)"
   ]
  },
  {
   "cell_type": "code",
   "execution_count": null,
   "id": "af812577-6c05-4e3d-ada0-8d1989e581da",
   "metadata": {},
   "outputs": [],
   "source": []
  }
 ],
 "metadata": {
  "kernelspec": {
   "display_name": "Python 3 (ipykernel)",
   "language": "python",
   "name": "python3"
  },
  "language_info": {
   "codemirror_mode": {
    "name": "ipython",
    "version": 3
   },
   "file_extension": ".py",
   "mimetype": "text/x-python",
   "name": "python",
   "nbconvert_exporter": "python",
   "pygments_lexer": "ipython3",
   "version": "3.11.7"
  }
 },
 "nbformat": 4,
 "nbformat_minor": 5
}
