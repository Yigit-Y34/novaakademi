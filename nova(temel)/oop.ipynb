{
 "cells": [
  {
   "cell_type": "markdown",
   "id": "de908b69-f577-48a0-96d5-81e63004a5a0",
   "metadata": {},
   "source": [
    "## OOP"
   ]
  },
  {
   "cell_type": "markdown",
   "id": "3cfddc91-ca64-493f-8074-d9fa6920f36c",
   "metadata": {},
   "source": [
    "nesne -> etrafımızdaki herşey\n",
    "\n",
    "OOP'de nesnenin amacı kod tekrarını ortaya kaldırır.\n",
    "\n",
    "DRY -> Do not repeat yourself.\n",
    "\n",
    "Python'da nesnelerin özellikleri:\n",
    "* Öznitelikleri (attribute) Örnek: ad,yaşı,rengi\n",
    "* Davranış (method) örnek: Penguen yüzebilir yürüyebilir.\n",
    "\n",
    "Class bir nesnenin mimari çizimidir.Nesnenin neye benzediğini anlatır.\n",
    "\n",
    "Örneğin: Bina bir nesnedir.O binanın kağıttaki çizimi classtır.Nesne classın hayat bulmuş hali ayni ete kemiğe bürünmüş hali.\n",
    "\n",
    "nesne yaratmal -> instance\n",
    "\n",
    "Class tanımladığımızda bir nesne oluşmaz nesne oluşması için classı çağırmalıyız.\n",
    "\n",
    "Method = fonksiyon, Class içindeki fonksiyonlara method denir."
   ]
  },
  {
   "cell_type": "code",
   "execution_count": 12,
   "id": "a32b8a01-9adf-496d-aebe-769fa49ad891",
   "metadata": {},
   "outputs": [],
   "source": [
    "class Penguen:\n",
    "    #class attribute\n",
    "    tur = 'Kuş'\n",
    "\n",
    "    # instance attribute\n",
    "    def __init__(self,ad,yas,renk):\n",
    "        self.ad = ad\n",
    "        self.yas = yas\n",
    "        self.renk = renk "
   ]
  },
  {
   "cell_type": "markdown",
   "id": "506aab64-16fd-4521-8ad8-cf947ba6392f",
   "metadata": {},
   "source": [
    "self: o anki yaratılan penguenin özelliklerini tanımlar.\n",
    "\n",
    "attributelara . ile erişilir."
   ]
  },
  {
   "cell_type": "code",
   "execution_count": 17,
   "id": "29ad5274-dbec-41aa-8704-88f0f7905903",
   "metadata": {},
   "outputs": [],
   "source": [
    "# penguen yaratalım\n",
    "kral = Penguen(\"Kral Penguen\",4,'Turuncu')\n",
    "sarigoz = Penguen('Sari Gözlü Penguen',1,'Kahverengi')"
   ]
  },
  {
   "cell_type": "code",
   "execution_count": 18,
   "id": "409cda82-8d7b-4fd9-a786-6ee24c2e93b4",
   "metadata": {},
   "outputs": [
    {
     "name": "stdout",
     "output_type": "stream",
     "text": [
      "Kral Penguen'in türü Kuş\n"
     ]
    }
   ],
   "source": [
    "print(\"{0}'in türü {1}\".format(kral.ad,kral.__class__.tur))"
   ]
  },
  {
   "cell_type": "code",
   "execution_count": 19,
   "id": "8d44aa32-7be4-4b2e-8bc7-6bbfdf0c2cd1",
   "metadata": {},
   "outputs": [
    {
     "name": "stdout",
     "output_type": "stream",
     "text": [
      "Sari Gözlü Penguen'in türü Kuş\n"
     ]
    }
   ],
   "source": [
    "print(\"{0}'in türü {1}\".format(sarigoz.ad,sarigoz.__class__.tur))"
   ]
  },
  {
   "cell_type": "code",
   "execution_count": 20,
   "id": "5db4e570-d362-4abd-92e6-08024fd8d3fb",
   "metadata": {},
   "outputs": [
    {
     "name": "stdout",
     "output_type": "stream",
     "text": [
      "Sari Gözlü Penguen'ın yaşı: 1 rengi: Kahverengi\n"
     ]
    }
   ],
   "source": [
    "print(\"{0}'ın yaşı: {1} rengi: {2}\".format(sarigoz.ad,sarigoz.yas,sarigoz.renk))"
   ]
  },
  {
   "cell_type": "markdown",
   "id": "4b71a105-9602-4a59-aa65-f40dfe265175",
   "metadata": {},
   "source": [
    "__init__(self): Bir classtan nesne oluşturabilir ilk çağırılan yapıcı methodtur(constraction)\n",
    "\n",
    "__init__(self): instance oluşturur.\n",
    "\n",
    "self o an da yaratılan nesneyi anlatır."
   ]
  },
  {
   "cell_type": "markdown",
   "id": "22c331b6-8ac4-4818-8685-8a44b93d881f",
   "metadata": {},
   "source": [
    "**Methodlar(Davranışlar)**"
   ]
  },
  {
   "cell_type": "code",
   "execution_count": 21,
   "id": "c5c64c5a-4297-4278-aff0-bf1ae1bb9c34",
   "metadata": {},
   "outputs": [],
   "source": [
    "class Penguen:\n",
    "    tur = 'Penguen'\n",
    "    def __init__(self,ad,yas,renk):\n",
    "        self.ad = ad\n",
    "        self.yas = yas\n",
    "        self.renk = renk \n",
    "\n",
    "    # method\n",
    "    def yuzme(self):\n",
    "        print(\"{0} Penguen yüzebilir\".format(self.ad))\n",
    "    def sarki_soyle(self,soyleyebilir_mi = False):\n",
    "        if soyleyebilir_mi:\n",
    "            return f\"{self.ad} şarkı söyleyebilir.\"\n",
    "        else:\n",
    "            return \"şarkı söyleyemez\""
   ]
  },
  {
   "cell_type": "code",
   "execution_count": 22,
   "id": "fb1000ae-f8a4-4079-85f1-f0c341477fa3",
   "metadata": {},
   "outputs": [],
   "source": [
    "makaroni = Penguen(\"Makaroni\",8,\"Siyah\")"
   ]
  },
  {
   "cell_type": "code",
   "execution_count": 23,
   "id": "220e83ba-e498-4a2b-90d2-69d072c349ec",
   "metadata": {},
   "outputs": [
    {
     "name": "stdout",
     "output_type": "stream",
     "text": [
      "Makaroni Penguen yüzebilir\n"
     ]
    }
   ],
   "source": [
    "makaroni.yuzme()"
   ]
  },
  {
   "cell_type": "code",
   "execution_count": 24,
   "id": "e0bbce14-8452-4ddf-851d-f1ad7fd3c046",
   "metadata": {},
   "outputs": [
    {
     "name": "stdout",
     "output_type": "stream",
     "text": [
      "Makaroni şarkı söyleyebilir.\n"
     ]
    }
   ],
   "source": [
    "print(makaroni.sarki_soyle(True))"
   ]
  },
  {
   "cell_type": "markdown",
   "id": "ccef80a6-2afb-4cff-9002-c9b5406ab007",
   "metadata": {},
   "source": [
    "**Kalıtım(Inheritance)**"
   ]
  },
  {
   "cell_type": "markdown",
   "id": "f605ffd9-7864-4452-8114-e3b159c36e1b",
   "metadata": {},
   "source": [
    " Aynen gerçek hayattaki gibi oop'de de kalıtım vardır.\n",
    "\n",
    " Kalıtım alan class -> child class\n",
    "\n",
    " Kalıtım veren class -> Parent class,base class "
   ]
  },
  {
   "cell_type": "code",
   "execution_count": 30,
   "id": "89ca49c8-f7eb-4886-95b6-87ca8bda3d78",
   "metadata": {},
   "outputs": [],
   "source": [
    "class Kus:\n",
    "    def __init__(self):\n",
    "        print(\"Kuş yaratıldı.\")\n",
    "    def kimimBen(self):\n",
    "        print(\"Ben bir kuşum.\")\n",
    "    def ucma(self):\n",
    "        print(\"Kuşlar ucabilir.\")"
   ]
  },
  {
   "cell_type": "code",
   "execution_count": 31,
   "id": "a2a9de1e-54da-4a2d-b838-421025b490ac",
   "metadata": {},
   "outputs": [
    {
     "name": "stdout",
     "output_type": "stream",
     "text": [
      "Kuş yaratıldı.\n",
      "Ben bir kuşum.\n",
      "Kuşlar ucabilir.\n"
     ]
    }
   ],
   "source": [
    "minikKus = Kus()\n",
    "minikKus.kimimBen()\n",
    "minikKus.ucma()"
   ]
  },
  {
   "cell_type": "code",
   "execution_count": 43,
   "id": "527e88b6-e63a-4828-b8e1-ef0ce1481239",
   "metadata": {},
   "outputs": [],
   "source": [
    "# Kuş türleri için bir ana classımız var.\n",
    "# Baykuşta bir kuş türü.\n",
    "\n",
    "class Baykus(Kus):\n",
    "    # Bir sınıf hangi sınıftan kalıtım alıyorsa parantez içine ana sınıf yazılır.\n",
    "    def __init__(self):\n",
    "        # öncw ana sınıfın super(), __init__ methodunu çağıracağız.\n",
    "        super().__init__()\n",
    "        print(\"Baykuş Yaratıldı\")\n",
    "        # kimimBen metodunu override ettik yani ezdik.\n",
    "    def kimimBen(self):\n",
    "        print(\"Ben bir baykuşum\")\n",
    "    def gecegorusu(self):\n",
    "        print(\"Baykuşun gece görüşü vardır.\")"
   ]
  },
  {
   "cell_type": "code",
   "execution_count": 44,
   "id": "93fd7775-d397-4a5a-b5df-ad5f8792bd33",
   "metadata": {},
   "outputs": [
    {
     "name": "stdout",
     "output_type": "stream",
     "text": [
      "Kuş yaratıldı.\n",
      "Baykuş Yaratıldı\n"
     ]
    }
   ],
   "source": [
    "kucuk_baykus = Baykus()"
   ]
  },
  {
   "cell_type": "code",
   "execution_count": 45,
   "id": "a4bc1ac6-7db7-4ab7-8905-dedd3512f13f",
   "metadata": {},
   "outputs": [
    {
     "name": "stdout",
     "output_type": "stream",
     "text": [
      "Ben bir baykuşum\n"
     ]
    }
   ],
   "source": [
    "kucuk_baykus.kimimBen()"
   ]
  },
  {
   "cell_type": "code",
   "execution_count": 46,
   "id": "7be5a369-9ad5-46ad-b48e-d514a877c93c",
   "metadata": {},
   "outputs": [
    {
     "name": "stdout",
     "output_type": "stream",
     "text": [
      "Kuşlar ucabilir.\n"
     ]
    }
   ],
   "source": [
    "kucuk_baykus.ucma()"
   ]
  },
  {
   "cell_type": "code",
   "execution_count": 47,
   "id": "9aac40ef-464d-495b-b7c7-d51d0f679e36",
   "metadata": {},
   "outputs": [
    {
     "name": "stdout",
     "output_type": "stream",
     "text": [
      "Baykuşun gece görüşü vardır.\n"
     ]
    }
   ],
   "source": [
    "kucuk_baykus.gecegorusu()"
   ]
  },
  {
   "cell_type": "markdown",
   "id": "34f5f8c3-9076-4d0b-b9c6-6bae8d0b4c3e",
   "metadata": {},
   "source": [
    "**Encapsulation**"
   ]
  },
  {
   "cell_type": "markdown",
   "id": "a5f9bb46-1163-4ac6-a639-99cb0b7bb799",
   "metadata": {},
   "source": [
    "OOP'de dışarıdan direkt olarak bizim classımız içindeki attributelara erişilmesini istemeyeniliriz.\n",
    "\n",
    "Attribute gizleme __ ile yapılır.\n",
    "\n",
    "İki alt tireli__name private olmuş olur."
   ]
  },
  {
   "cell_type": "code",
   "execution_count": 52,
   "id": "12bd7bde-54a3-4554-be98-563e6c6a90d0",
   "metadata": {},
   "outputs": [
    {
     "ename": "AttributeError",
     "evalue": "'Telefon' object has no attribute '__fiyat'",
     "output_type": "error",
     "traceback": [
      "\u001b[1;31m---------------------------------------------------------------------------\u001b[0m",
      "\u001b[1;31mAttributeError\u001b[0m                            Traceback (most recent call last)",
      "Cell \u001b[1;32mIn[52], line 11\u001b[0m\n\u001b[0;32m      9\u001b[0m \u001b[38;5;66;03m# şimdi bir nesne yaratalım\u001b[39;00m\n\u001b[0;32m     10\u001b[0m telefon \u001b[38;5;241m=\u001b[39m Telefon()\n\u001b[1;32m---> 11\u001b[0m \u001b[38;5;28mprint\u001b[39m(telefon\u001b[38;5;241m.\u001b[39m__fiyat)\n",
      "\u001b[1;31mAttributeError\u001b[0m: 'Telefon' object has no attribute '__fiyat'"
     ]
    }
   ],
   "source": [
    "# Telefon sınıfımız olsun \n",
    "class Telefon:\n",
    "    def __init__(self):\n",
    "        # Telefonun fiyatını belirle.\n",
    "        self.__fiyat = 1000\n",
    "    def sat(self):\n",
    "        print(\"Satış Fiyatı:{}\".format(self.__fiyat))\n",
    "\n",
    "# şimdi bir nesne yaratalım\n",
    "telefon = Telefon()\n",
    "print(telefon.__fiyat)"
   ]
  },
  {
   "cell_type": "code",
   "execution_count": 53,
   "id": "2a85f657-8b78-4c0b-a2cc-8b95221d4b49",
   "metadata": {},
   "outputs": [
    {
     "name": "stdout",
     "output_type": "stream",
     "text": [
      "Satış Fiyatı:1000\n"
     ]
    }
   ],
   "source": [
    "telefon.sat()"
   ]
  },
  {
   "cell_type": "code",
   "execution_count": 54,
   "id": "52d536d8-c609-4d9d-aa00-401cdecb39da",
   "metadata": {},
   "outputs": [],
   "source": [
    "# Telefon fiyatını dışarıdan değiştirmeye çalışalım.\n",
    "telefon.__fiyat = 5000"
   ]
  },
  {
   "cell_type": "code",
   "execution_count": 55,
   "id": "b4b98c2a-f151-4203-8b7f-d68a1d56966c",
   "metadata": {},
   "outputs": [
    {
     "name": "stdout",
     "output_type": "stream",
     "text": [
      "Satış Fiyatı:1000\n"
     ]
    }
   ],
   "source": [
    "# Tekrar 1000 TL gelmesinin sebebi -> telefon.__fiyat class içindeki __fiyat değil\n",
    "telefon.sat()"
   ]
  },
  {
   "cell_type": "code",
   "execution_count": 57,
   "id": "fd171b02-ffb5-4f88-8aca-4c3546391c52",
   "metadata": {},
   "outputs": [],
   "source": [
    "# Gerçekten içindeki fiyatı set etmek için,\n",
    "class Telefon:\n",
    "    def __init__(self):\n",
    "        self.__fiyat = 1000\n",
    "    def sat(self):\n",
    "        print(\"Satış Fiyatı:{}\".format(self.__fiyat))\n",
    "    def set_fiyat(self,yeni_fiyat):\n",
    "        self.__fiyat = yeni_fiyat"
   ]
  },
  {
   "cell_type": "code",
   "execution_count": 60,
   "id": "2e0b4b2e-6e3e-43a0-96aa-1f8283480892",
   "metadata": {},
   "outputs": [
    {
     "name": "stdout",
     "output_type": "stream",
     "text": [
      "Satış Fiyatı:1000\n",
      "Satış Fiyatı:6000\n"
     ]
    }
   ],
   "source": [
    "telefon = Telefon()\n",
    "telefon.sat()\n",
    "telefon.set_fiyat(6000)\n",
    "telefon.sat()"
   ]
  },
  {
   "cell_type": "code",
   "execution_count": 61,
   "id": "e70436dc-5f70-4e86-aa4f-1731a225f5cb",
   "metadata": {},
   "outputs": [],
   "source": [
    "# sadece fiyatı görmek istiyosan bu bir veriyi almak olduğu için buna get etmek denir."
   ]
  },
  {
   "cell_type": "code",
   "execution_count": 62,
   "id": "d69eb79a-f594-4be6-bd5f-ff0d20e7c508",
   "metadata": {},
   "outputs": [],
   "source": [
    "class Telefon:\n",
    "    def __init__(self):\n",
    "        self.__fiyat = 1000\n",
    "    def sat(self):\n",
    "        print(\"Satış Fiyatı:{}\".format(self.__fiyat))\n",
    "    def set_fiyat(self,yeni_fiyat):\n",
    "        self.__fiyat = yeni_fiyat\n",
    "    def get_fiyat(self):\n",
    "        return self.__fiyat"
   ]
  },
  {
   "cell_type": "code",
   "execution_count": 63,
   "id": "99f3b220-02ea-4192-9256-a59b944ab102",
   "metadata": {},
   "outputs": [
    {
     "data": {
      "text/plain": [
       "1000"
      ]
     },
     "execution_count": 63,
     "metadata": {},
     "output_type": "execute_result"
    }
   ],
   "source": [
    "telefon = Telefon()\n",
    "telefon.get_fiyat()"
   ]
  },
  {
   "cell_type": "markdown",
   "id": "0897d567-9cd8-442f-893a-c9224bdadc51",
   "metadata": {},
   "source": [
    "## yeni hoca"
   ]
  },
  {
   "cell_type": "code",
   "execution_count": 4,
   "id": "b792d1ae-78d8-4ace-9793-c8832f5220ac",
   "metadata": {},
   "outputs": [
    {
     "name": "stdout",
     "output_type": "stream",
     "text": [
      "Ahmet\n",
      "yürüyor\n",
      "koşuyor\n",
      "duruyor\n"
     ]
    }
   ],
   "source": [
    "class İnsan:\n",
    "    def __init__(self,isim,soyisim,boy):\n",
    "        self.isim = isim\n",
    "        self.soyisim = soyisim\n",
    "        self.boy = boy\n",
    "    \n",
    "    def yurur(self):\n",
    "        print(\"yürüyor\")\n",
    "\n",
    "    def kosuyor(self):\n",
    "        print(\"koşuyor\")\n",
    "\n",
    "    def dursun(self):\n",
    "        print(\"duruyor\")\n",
    "\n",
    "insan1 = İnsan(\"Ahmet\",\"Veli\",24)\n",
    "\n",
    "print(f\"{insan1.isim}\")\n",
    "insan1.yurur()\n",
    "insan1.kosuyor()\n",
    "insan1.dursun()"
   ]
  },
  {
   "cell_type": "code",
   "execution_count": 14,
   "id": "d5963d03-0150-431b-9fcf-12de7e0e3b1f",
   "metadata": {},
   "outputs": [
    {
     "name": "stdout",
     "output_type": "stream",
     "text": [
      "50000\n"
     ]
    }
   ],
   "source": [
    "class Emloyed:\n",
    "    \n",
    "    def __init__(self,name,surname,departman,salary):\n",
    "        self.name = name\n",
    "        self.surname = surname\n",
    "        self.departman = departman\n",
    "        self.salary = salary\n",
    "        self.zam = 100\n",
    "    def calısıyormu(self):\n",
    "        print(\"Bu eleman çalışıyor\")\n",
    "    def kovuldu(self):\n",
    "        print(\"Kovuldu\")\n",
    "\n",
    "calisan1 = Emloyed(\"Yiğit\",\"Yesil\",\"software\",50000) \n",
    "print(f\"{calisan1.salary}\")\n"
   ]
  },
  {
   "cell_type": "code",
   "execution_count": 25,
   "id": "c17205bd-432f-4cb8-8d68-3a2eaafe3163",
   "metadata": {},
   "outputs": [
    {
     "name": "stdout",
     "output_type": "stream",
     "text": [
      "Kitap İsmi: Harry Potter ,Kitabın Yazarı: J.K.Rowling ,Kitabın sayfa sayısı: 500\n"
     ]
    }
   ],
   "source": [
    "class Kutuphane:\n",
    "    def __init__(self,isim,yazar,sayfa):\n",
    "        self.isim = isim\n",
    "        self.yazar = yazar\n",
    "        self.sayfa = sayfa\n",
    "\n",
    "    def sayfa_cikar(self):\n",
    "        print(\"yeni sayfa sayınız: {}\".format(self.sayfa - self.sayfa_cikar))\n",
    "    def sayfa_ekle(self):\n",
    "        print(\"yeni sayfa sayınız: {}\".format(self.sayfa + self.sayfa_ekle))\n",
    "\n",
    "harry_potter = Kutuphane(\"Harry Potter\",\"J.K.Rowling\",500) \n",
    "print(\"Kitap İsmi:\", harry_potter.isim,\",\" \"Kitabın Yazarı:\", harry_potter.yazar,\",\" \"Kitabın sayfa sayısı:\", harry_potter.sayfa)\n"
   ]
  },
  {
   "cell_type": "code",
   "execution_count": 26,
   "id": "47698177-2c44-440b-b653-6dd8e8168dc8",
   "metadata": {},
   "outputs": [
    {
     "name": "stdout",
     "output_type": "stream",
     "text": [
      "eklendi\n"
     ]
    }
   ],
   "source": [
    "class Kutuphane:\n",
    "    def __init__(self,isim,yazar,sayfa):\n",
    "        self.isim = isim\n",
    "        self.yazar = yazar\n",
    "        self.sayfa = sayfa\n",
    "\n",
    "    def add(self):\n",
    "\n",
    "        return(\"eklendi\")\n",
    "\n",
    "\n",
    "book = Kutuphane(\"a\",\"b\",38)\n",
    "\n",
    "print(f\"{book.add()}\")"
   ]
  },
  {
   "cell_type": "code",
   "execution_count": 37,
   "id": "c2536453-6def-4460-8cc3-e12d5f8f8782",
   "metadata": {},
   "outputs": [
    {
     "name": "stdout",
     "output_type": "stream",
     "text": [
      "bu hayvan beslenir\n",
      "None\n",
      "Gece GÖrüşü\n",
      "None\n",
      "Sürüngenler uçamaz.\n"
     ]
    }
   ],
   "source": [
    "class Animal:\n",
    "    def __init__(self,isim,yas,tur):\n",
    "        self.isim = isim\n",
    "        self.yas = yas\n",
    "        self.tur = tur\n",
    "\n",
    "\n",
    "    def beslenme(self):\n",
    "        print(\"bu hayvan beslenir\")\n",
    "\n",
    "\n",
    "\n",
    "hayvan1 = Animal(\"minnoş\",\"2\",\"kedi\")\n",
    "#print(hayvan1.isim)\n",
    "\n",
    "class Kedigiller(Animal):\n",
    "    \n",
    "    def seslendirme(self):\n",
    "        print(\"seslendirme\")\n",
    "\n",
    "    def gecegorus(self):\n",
    "        print(\"Gece GÖrüşü\")\n",
    "        \n",
    "kedi1 = Kedigiller(\"minnoş\",\"2\",\"kedi\")\n",
    "print(kedi1.beslenme())\n",
    "kedi2 = Kedigiller(\"k\",\"1\",\"kedi\")\n",
    "print(kedi2.gecegorus())\n",
    "\n",
    "class Surungenler(Animal):\n",
    "    def ucma(self):\n",
    "        return print(\"Sürüngenler uçamaz.\")\n",
    "\n",
    "surungen1 = Surungenler(\"Paşa\",\"3\",\"Yılan\")\n",
    "surungen1.ucma()"
   ]
  },
  {
   "cell_type": "code",
   "execution_count": 43,
   "id": "38597f62-9a42-4e45-9790-4386d14d256f",
   "metadata": {},
   "outputs": [
    {
     "name": "stdout",
     "output_type": "stream",
     "text": [
      "Harry Potter\n",
      "kitap silindi\n"
     ]
    }
   ],
   "source": [
    "#Kütüphane yönetim sistemi kitap ekleme silme ve listeleme olacak şekilde  3 metodu olacak\n",
    "\n",
    "class Library: #class oluşturma\n",
    "    \n",
    "    def __init__(self):\n",
    "        self.books = []\n",
    "\n",
    "    def addBook(self,book):\n",
    "        self.books.append(book)\n",
    "\n",
    "    def removeBook(self,book):\n",
    "        if book in self.books:\n",
    "            self.books.remove(book)\n",
    "            print(\"kitap silindi\")\n",
    "        else:\n",
    "            print(\"Kitap bulunamadı\")\n",
    "    \n",
    "    def listBooks(self):\n",
    "        for book in self.books:\n",
    "            print(book)\n",
    "\n",
    "kitap1 = Library()\n",
    "kitap1.addBook(\"Harry Potter\")\n",
    "kitap1.listBooks()\n",
    "kitap1.removeBook(\"Harry Potter\")"
   ]
  },
  {
   "cell_type": "code",
   "execution_count": 62,
   "id": "b7ca869a-5714-4d44-a0a1-6302b4e63719",
   "metadata": {},
   "outputs": [
    {
     "name": "stdout",
     "output_type": "stream",
     "text": [
      "Ekleme Yapıldı.\n",
      "Ekleme Yapıldı.\n",
      "Ekleme Yapıldı.\n",
      "Ekleme Yapıldı.\n"
     ]
    },
    {
     "data": {
      "text/plain": [
       "['Fare']"
      ]
     },
     "execution_count": 62,
     "metadata": {},
     "output_type": "execute_result"
    }
   ],
   "source": [
    "class Animal:\n",
    "    animals = []\n",
    "    def __init__(self):\n",
    "        Animal.animals = []\n",
    "\n",
    "    def ekleme(self,name):\n",
    "        self.animals.append(name)\n",
    "        print(\"Ekleme Yapıldı.\")\n",
    "        \n",
    "    def beslenme(self,name):\n",
    "        return(f\"Bu hayvan beslendi: {name}\")\n",
    "\n",
    "    def showe(self):\n",
    "        for i in self.animals:\n",
    "            print(i,\"Burada\")\n",
    "\n",
    "class Kedigiller:\n",
    "    \n",
    "    def gezdirme(self,name):\n",
    "        return(f\"Bu hayvan gezdirildi: {name}\")\n",
    "\n",
    "animal1 = Animal()\n",
    "animal1.ekleme(\"Cihat\")\n",
    "animal2 = Animal()\n",
    "animal2.ekleme(\"Köpek\")\n",
    "animal3 = Animal()\n",
    "animal3.ekleme(\"Kuş\")\n",
    "animal4 = Animal()\n",
    "animal4.ekleme(\"Fare\")\n",
    "Animal.animals"
   ]
  },
  {
   "cell_type": "markdown",
   "id": "17829407-d5a0-4d92-8282-8365f09fadaa",
   "metadata": {},
   "source": []
  }
 ],
 "metadata": {
  "kernelspec": {
   "display_name": "Python 3 (ipykernel)",
   "language": "python",
   "name": "python3"
  },
  "language_info": {
   "codemirror_mode": {
    "name": "ipython",
    "version": 3
   },
   "file_extension": ".py",
   "mimetype": "text/x-python",
   "name": "python",
   "nbconvert_exporter": "python",
   "pygments_lexer": "ipython3",
   "version": "3.11.7"
  }
 },
 "nbformat": 4,
 "nbformat_minor": 5
}
