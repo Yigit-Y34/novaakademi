{
 "cells": [
  {
   "cell_type": "code",
   "execution_count": 5,
   "id": "61b85640-232d-4a6e-b3a5-2213db7cc633",
   "metadata": {},
   "outputs": [
    {
     "name": "stdin",
     "output_type": "stream",
     "text": [
      "Bir sayı giriniz:  56\n"
     ]
    },
    {
     "name": "stdout",
     "output_type": "stream",
     "text": [
      "Girdiğiniz sayı küçüktür\n"
     ]
    }
   ],
   "source": [
    "import random\n",
    "girilien_sayi = int(input(\"Bir sayı giriniz: \"))\n",
    "rastgele_sayi = random.randint(0,100)\n",
    "\n",
    "if sayi > rastgele_sayi:\n",
    "    print(\"Girdiğiniz sayı büyüktür\")\n",
    "elif sayi == rastgele_sayi:\n",
    "    print(\"Sayılar eşit\")\n",
    "else:\n",
    "    print(\"Girdiğiniz sayı küçüktür\")"
   ]
  },
  {
   "cell_type": "code",
   "execution_count": 13,
   "id": "c9734551-978f-4ac9-bbf0-989c0921a4bc",
   "metadata": {},
   "outputs": [
    {
     "name": "stdout",
     "output_type": "stream",
     "text": [
      "Listenin ilk elemanı 1 - Listenin son elemanı 6\n"
     ]
    }
   ],
   "source": [
    "liste = [1,2,3,4,5]\n",
    "liste.append(6)\n",
    "print(\"Listenin ilk elemanı\",liste[0],\"-\",\"Listenin son elemanı\",liste[-1])"
   ]
  },
  {
   "cell_type": "code",
   "execution_count": 21,
   "id": "9415ec76-41d1-41e2-9d75-a96376f44141",
   "metadata": {},
   "outputs": [
    {
     "name": "stdout",
     "output_type": "stream",
     "text": [
      "Yiğit\n"
     ]
    }
   ],
   "source": [
    "dict = {'Ad': \"Yiğit\",'Yaş': 15}\n",
    "print(dict[\"Ad\"])"
   ]
  },
  {
   "cell_type": "code",
   "execution_count": 22,
   "id": "0d2a585c-9d9d-4c2f-9a95-ccdf78246866",
   "metadata": {},
   "outputs": [],
   "source": [
    "dict[\"Yaş\"] = 16"
   ]
  },
  {
   "cell_type": "code",
   "execution_count": 23,
   "id": "dab6dc9d-fedc-4e7f-a259-f8914f3cfaeb",
   "metadata": {},
   "outputs": [
    {
     "data": {
      "text/plain": [
       "{'Ad': 'Yiğit', 'Yaş': 16}"
      ]
     },
     "execution_count": 23,
     "metadata": {},
     "output_type": "execute_result"
    }
   ],
   "source": [
    "dict"
   ]
  },
  {
   "cell_type": "code",
   "execution_count": 30,
   "id": "4460e5c5-2a17-4a50-a056-8d06612609d0",
   "metadata": {},
   "outputs": [
    {
     "name": "stdout",
     "output_type": "stream",
     "text": [
      "Hello World\n",
      "Hello World\n",
      "Hello World\n",
      "Hello World\n",
      "Hello World\n"
     ]
    }
   ],
   "source": [
    "def helloWorld():\n",
    "    print(\"Hello World\")\n",
    "\n",
    "for i in range(5):\n",
    "    helloWorld()"
   ]
  },
  {
   "cell_type": "code",
   "execution_count": 32,
   "id": "a0c20569-17d2-4f67-81b5-81de5f797e4d",
   "metadata": {},
   "outputs": [
    {
     "name": "stdin",
     "output_type": "stream",
     "text": [
      "Adınız giriniz:  yiğit\n"
     ]
    },
    {
     "name": "stdout",
     "output_type": "stream",
     "text": [
      "yiğit\n"
     ]
    }
   ],
   "source": [
    "kullanici_ad = input(\"Adınız giriniz: \")\n",
    "\n",
    "def f2(name):\n",
    "    name = kullanici_ad\n",
    "    print(name)\n",
    "\n",
    "f2(5)"
   ]
  },
  {
   "cell_type": "code",
   "execution_count": 36,
   "id": "8a52fb33-9859-4236-acc5-ffca2793ca98",
   "metadata": {},
   "outputs": [],
   "source": [
    "file_path = \"test.txt\"\n",
    "\n",
    "with open(file_path,'w',encoding = 'utf-8') as file:\n",
    "        file.write(\"Hello World\" + '\\n')"
   ]
  },
  {
   "cell_type": "code",
   "execution_count": 46,
   "id": "75fd7314-ff2f-4db3-86f0-531f96711080",
   "metadata": {},
   "outputs": [
    {
     "name": "stdout",
     "output_type": "stream",
     "text": [
      "Hello World\n",
      "\n"
     ]
    }
   ],
   "source": [
    "with open(file_path,'r',encoding = 'utf-8') as file:\n",
    "    content = file.read()\n",
    "    print(content)"
   ]
  },
  {
   "cell_type": "code",
   "execution_count": 54,
   "id": "62669c58-df32-44bb-8421-66c5965a80fb",
   "metadata": {},
   "outputs": [
    {
     "name": "stdout",
     "output_type": "stream",
     "text": [
      "Yiğit,16\n"
     ]
    }
   ],
   "source": [
    "class Person:\n",
    "    def __init__(self,isim,yas):\n",
    "        self.isim = isim\n",
    "        self.yas = yas\n",
    "\n",
    "p1 = Person(\"Yiğit\",16)\n",
    "print(f\"{p1.isim},{p1.yas}\")"
   ]
  },
  {
   "cell_type": "code",
   "execution_count": 2,
   "id": "052f1617-5f35-470a-aa7b-56a02701fffc",
   "metadata": {},
   "outputs": [],
   "source": [
    "class Animal:\n",
    "    def __init__(self,isim,yas):\n",
    "        self.isim = isim\n",
    "        self.yas = yas "
   ]
  },
  {
   "cell_type": "code",
   "execution_count": 3,
   "id": "44c8cb43-6c6d-4147-83d1-2dd0f2d6ac2f",
   "metadata": {},
   "outputs": [],
   "source": [
    "class Dog(Animal):\n",
    "    def __init__(self,cins,renk):\n",
    "        self.cins = cins\n",
    "        self.renk = renk"
   ]
  },
  {
   "cell_type": "code",
   "execution_count": 4,
   "id": "f5abcb82-e6dc-42c1-bbd6-d026578b2ce4",
   "metadata": {},
   "outputs": [
    {
     "ename": "TypeError",
     "evalue": "Dog.__init__() takes 3 positional arguments but 5 were given",
     "output_type": "error",
     "traceback": [
      "\u001b[1;31m---------------------------------------------------------------------------\u001b[0m",
      "\u001b[1;31mTypeError\u001b[0m                                 Traceback (most recent call last)",
      "Cell \u001b[1;32mIn[4], line 1\u001b[0m\n\u001b[1;32m----> 1\u001b[0m kopek \u001b[38;5;241m=\u001b[39m Dog(\u001b[38;5;124m\"\u001b[39m\u001b[38;5;124mPamuk\u001b[39m\u001b[38;5;124m\"\u001b[39m,\u001b[38;5;241m5\u001b[39m,\u001b[38;5;124m\"\u001b[39m\u001b[38;5;124mPitbull\u001b[39m\u001b[38;5;124m\"\u001b[39m,\u001b[38;5;124m\"\u001b[39m\u001b[38;5;124mBeyaz\u001b[39m\u001b[38;5;124m\"\u001b[39m)\n",
      "\u001b[1;31mTypeError\u001b[0m: Dog.__init__() takes 3 positional arguments but 5 were given"
     ]
    }
   ],
   "source": [
    "kopek = Dog(\"Pamuk\",5,\"Pitbull\",\"Beyaz\")"
   ]
  },
  {
   "cell_type": "code",
   "execution_count": 1,
   "id": "c04dd412-89ec-4f7b-a6e5-310bee6125f6",
   "metadata": {},
   "outputs": [
    {
     "ename": "TypeError",
     "evalue": "Dog.__init__() takes 2 positional arguments but 4 were given",
     "output_type": "error",
     "traceback": [
      "\u001b[1;31m---------------------------------------------------------------------------\u001b[0m",
      "\u001b[1;31mTypeError\u001b[0m                                 Traceback (most recent call last)",
      "Cell \u001b[1;32mIn[1], line 10\u001b[0m\n\u001b[0;32m      7\u001b[0m     \u001b[38;5;28;01mdef\u001b[39;00m \u001b[38;5;21m__init__\u001b[39m(\u001b[38;5;28mself\u001b[39m,name):\n\u001b[0;32m      8\u001b[0m         \u001b[38;5;28mself\u001b[39m\u001b[38;5;241m.\u001b[39mname \u001b[38;5;241m=\u001b[39m name\n\u001b[1;32m---> 10\u001b[0m d1 \u001b[38;5;241m=\u001b[39m Dog(\u001b[38;5;124m\"\u001b[39m\u001b[38;5;124mPamuk\u001b[39m\u001b[38;5;124m\"\u001b[39m,\u001b[38;5;124m\"\u001b[39m\u001b[38;5;124mPitbull\u001b[39m\u001b[38;5;124m\"\u001b[39m,\u001b[38;5;124m\"\u001b[39m\u001b[38;5;124mBeyaz\u001b[39m\u001b[38;5;124m\"\u001b[39m)\n",
      "\u001b[1;31mTypeError\u001b[0m: Dog.__init__() takes 2 positional arguments but 4 were given"
     ]
    }
   ],
   "source": [
    "class Animal:\n",
    "    def __init__(self,cins,renk):\n",
    "        self.cins = cins\n",
    "        self.renk = renk\n",
    "\n",
    "class Dog(Animal):\n",
    "    def __init__(self,name):\n",
    "        self.name = name\n",
    "\n",
    "d1 = Dog(\"Pamuk\",\"Pitbull\",\"Beyaz\")"
   ]
  },
  {
   "cell_type": "code",
   "execution_count": 30,
   "id": "024d06f2-6480-489d-888a-5b4a13dd8837",
   "metadata": {},
   "outputs": [
    {
     "name": "stdout",
     "output_type": "stream",
     "text": [
      "1 notları göster\n",
      "2 not ekle\n",
      "3 not sil\n",
      "4 çıkış\n"
     ]
    },
    {
     "name": "stdin",
     "output_type": "stream",
     "text": [
      "Lütfen bir seçenek girin 2\n",
      "Değerleri gir gygyufutfd\n",
      "Lütfen bir seçenek girin 1\n"
     ]
    },
    {
     "name": "stdout",
     "output_type": "stream",
     "text": [
      "['gygyufutfd']\n"
     ]
    },
    {
     "name": "stdin",
     "output_type": "stream",
     "text": [
      "Lütfen bir seçenek girin 4\n"
     ]
    }
   ],
   "source": [
    "print(\"1 notları göster\")\n",
    "print(\"2 not ekle\")\n",
    "print(\"3 not sil\")\n",
    "print(\"4 çıkış\")\n",
    "\n",
    "notes = []\n",
    "\n",
    "while True:\n",
    "    secenek = int(input(\"Lütfen bir seçenek girin\"))\n",
    "\n",
    "    if secenek == 1:\n",
    "        print(notes)\n",
    "\n",
    "    elif secenek == 2:\n",
    "        notlar = input(\"Değerleri gir\")\n",
    "        notes.append(notlar)\n",
    "\n",
    "    elif secenek == 3:\n",
    "        print(\"Hangi notu silmek istiyorsunuz\")\n",
    "        ind = int(input(\"notun sırasını girin\")) -1\n",
    "        notes.pop(ind)\n",
    "\n",
    "    elif secenek == 4:\n",
    "        break"
   ]
  },
  {
   "cell_type": "code",
   "execution_count": 20,
   "id": "6031fc05-e4b9-4d83-9e0f-58842028d656",
   "metadata": {},
   "outputs": [
    {
     "name": "stdout",
     "output_type": "stream",
     "text": [
      "1 Banka Hesabı aç\n",
      "2 Para Yatır\n",
      "3 Para çek\n",
      "4 Bakiye göster\n",
      "5 çıkış\n"
     ]
    },
    {
     "name": "stdin",
     "output_type": "stream",
     "text": [
      "Yapacağınız işlem numarasını girin 1\n",
      "Hesap numarasını girin 1234\n"
     ]
    },
    {
     "name": "stdout",
     "output_type": "stream",
     "text": [
      "Hesap oluşturuldu\n",
      "1 Banka Hesabı aç\n",
      "2 Para Yatır\n",
      "3 Para çek\n",
      "4 Bakiye göster\n",
      "5 çıkış\n"
     ]
    },
    {
     "name": "stdin",
     "output_type": "stream",
     "text": [
      "Yapacağınız işlem numarasını girin 2\n",
      "Hesap numarasını girin 1234\n",
      "Yatırılıcak olan tutar 100000\n"
     ]
    },
    {
     "name": "stdout",
     "output_type": "stream",
     "text": [
      "100000 yatırıldı\n",
      "1 Banka Hesabı aç\n",
      "2 Para Yatır\n",
      "3 Para çek\n",
      "4 Bakiye göster\n",
      "5 çıkış\n"
     ]
    },
    {
     "name": "stdin",
     "output_type": "stream",
     "text": [
      "Yapacağınız işlem numarasını girin 3\n",
      "Hesap numarasını girin 1234\n",
      "Çekilecek olan tutar 25000\n"
     ]
    },
    {
     "name": "stdout",
     "output_type": "stream",
     "text": [
      "25000 çekildi\n",
      "1 Banka Hesabı aç\n",
      "2 Para Yatır\n",
      "3 Para çek\n",
      "4 Bakiye göster\n",
      "5 çıkış\n"
     ]
    },
    {
     "name": "stdin",
     "output_type": "stream",
     "text": [
      "Yapacağınız işlem numarasını girin 4\n",
      "Hesap numarasını girin 1234\n"
     ]
    },
    {
     "name": "stdout",
     "output_type": "stream",
     "text": [
      "Kalan bakiye = 75000\n",
      "1 Banka Hesabı aç\n",
      "2 Para Yatır\n",
      "3 Para çek\n",
      "4 Bakiye göster\n",
      "5 çıkış\n"
     ]
    },
    {
     "name": "stdin",
     "output_type": "stream",
     "text": [
      "Yapacağınız işlem numarasını girin 5\n"
     ]
    }
   ],
   "source": [
    "class BankaHesabi:\n",
    "    def __init__(self,hesap_numarasi,bakiye = 0):\n",
    "        self.hesap_numarasi = hesap_numarasi\n",
    "        self.bakiye = bakiye\n",
    "\n",
    "    def para_yatir(self,miktar):\n",
    "        self.bakiye += miktar\n",
    "        print(f\"{miktar} yatırıldı\")\n",
    "\n",
    "    def para_cek(self,miktar):\n",
    "        self.bakiye-= miktar\n",
    "        print(f\"{miktar} çekildi\")\n",
    "\n",
    "    def bakiye_goster(self):\n",
    "        print(f\"Kalan bakiye = {self.bakiye}\")\n",
    "\n",
    "hesaplar = {}\n",
    "\n",
    "while True:\n",
    "    print(\"1 Banka Hesabı aç\")\n",
    "    print(\"2 Para Yatır\")\n",
    "    print(\"3 Para çek\")\n",
    "    print(\"4 Bakiye göster\")\n",
    "    print(\"5 çıkış\")\n",
    "\n",
    "\n",
    "    secim = int(input(\"Yapacağınız işlem numarasını girin\"))\n",
    "\n",
    "    if secim == 1:\n",
    "        hesap_numarasi = int(input(\"Hesap numarasını girin\"))\n",
    "        if hesap_numarasi in hesaplar:\n",
    "            print(\"Hesap Mevcut\")\n",
    "        else:\n",
    "            hesaplar[hesap_numarasi] = BankaHesabi(hesap_numarasi)\n",
    "            print(\"Hesap oluşturuldu\")\n",
    "    \n",
    "    elif secim == 2:\n",
    "        hesap_numarasi = int(input(\"Hesap numarasını girin\"))\n",
    "        if hesap_numarasi in hesaplar:\n",
    "            miktar = int(input(\"Yatırılıcak olan tutar\"))\n",
    "            hesaplar[hesap_numarasi].para_yatir(miktar)\n",
    "\n",
    "        else:\n",
    "            print(\"Hesap Bulunamadı\")\n",
    "\n",
    "    elif secim == 3:\n",
    "        hesap_numarasi = int(input(\"Hesap numarasını girin\"))\n",
    "        if hesap_numarasi in hesaplar:\n",
    "            miktar = int(input(\"Çekilecek olan tutar\"))\n",
    "            hesaplar[hesap_numarasi].para_cek(miktar)\n",
    "        else:\n",
    "            print(\"Hesap bulunamadı\")\n",
    "    \n",
    "    elif secim == 4:\n",
    "        hesap_numarasi = int(input(\"Hesap numarasını girin\"))\n",
    "        if hesap_numarasi in hesaplar:\n",
    "            hesaplar[hesap_numarasi].bakiye_goster()\n",
    "\n",
    "        else:\n",
    "            print(\"Hesap bulunamadı\")\n",
    "    \n",
    "    else:\n",
    "        break"
   ]
  },
  {
   "cell_type": "code",
   "execution_count": 29,
   "id": "1d882dac-1d9d-412d-943e-84c45d286082",
   "metadata": {},
   "outputs": [
    {
     "name": "stdout",
     "output_type": "stream",
     "text": [
      "1 film ekle\n",
      "2 filmleri görüntüle\n",
      "3 çıkış\n"
     ]
    },
    {
     "name": "stdin",
     "output_type": "stream",
     "text": [
      "Bir seçenek seçiniz. 1\n",
      "filmin başlığını yazınız. a\n",
      "filmin yönetmenini yazınız. b\n",
      "filmin çıkış yılını yazınız. 24\n"
     ]
    },
    {
     "name": "stdout",
     "output_type": "stream",
     "text": [
      "1 film ekle\n",
      "2 filmleri görüntüle\n",
      "3 çıkış\n"
     ]
    },
    {
     "name": "stdin",
     "output_type": "stream",
     "text": [
      "Bir seçenek seçiniz. 2\n"
     ]
    },
    {
     "name": "stdout",
     "output_type": "stream",
     "text": [
      "filmler: Başlık: a, Yönetmen: b, Yıl: 24\n",
      "1 film ekle\n",
      "2 filmleri görüntüle\n",
      "3 çıkış\n"
     ]
    },
    {
     "name": "stdin",
     "output_type": "stream",
     "text": [
      "Bir seçenek seçiniz. 3\n"
     ]
    }
   ],
   "source": [
    "\n",
    "class Movie:\n",
    "\n",
    "    def __init__(self,baslik,yonetmen,yıl):\n",
    "        self.baslik = baslik\n",
    "        self.yonetmen = yonetmen\n",
    "        self.yıl = yıl\n",
    "\n",
    "    def __str__(self):\n",
    "        return f\"Başlık: {self.baslik}, Yönetmen: {self.yonetmen}, Yıl: {self.yıl}\"\n",
    "\n",
    "movies = []\n",
    "\n",
    "while True:\n",
    "    print(\"1 film ekle\")\n",
    "    print(\"2 filmleri görüntüle\")\n",
    "    print(\"3 çıkış\")\n",
    "\n",
    "    secim = int(input(\"Bir seçenek seçiniz.\"))\n",
    "\n",
    "    if secim == 1:\n",
    "        baslik = input(\"filmin başlığını yazınız.\")\n",
    "        yonetmen = input(\"filmin yönetmenini yazınız.\")\n",
    "        yıl = input(\"filmin çıkış yılını yazınız.\")\n",
    "        film = Movie(baslik,yonetmen,yıl)\n",
    "        movies.append(film)\n",
    "\n",
    "    elif secim ==  2:\n",
    "        for i in movies:\n",
    "            print(f\"filmler: {i}\")\n",
    "       \n",
    "\n",
    "    elif secim == 3:\n",
    "        break\n"
   ]
  },
  {
   "cell_type": "code",
   "execution_count": 2,
   "id": "f8856de2-8f55-4110-a953-800093ae3d10",
   "metadata": {},
   "outputs": [
    {
     "name": "stdout",
     "output_type": "stream",
     "text": [
      "1 çalışan ekle\n",
      "2 çalışanları görüntüle\n",
      "3 zam yap\n",
      "4 çıkış\n"
     ]
    },
    {
     "name": "stdin",
     "output_type": "stream",
     "text": [
      "Yapacağınız işlemi seçin 4\n"
     ]
    }
   ],
   "source": [
    "class Calisan:\n",
    "    def __init__(self,ad,pozisyon,maas):\n",
    "        self.ad = ad\n",
    "        self.pozisyon = pozisyon\n",
    "        self.maas = maas\n",
    "\n",
    "    def zam_yap(self):\n",
    "        zam = input(\"Zam değerini giriniz.\")\n",
    "        maas += zam\n",
    "\n",
    "    def __str__(self):\n",
    "        print(f\"Çalışan : {self.ad}, Pozisyon : {self.pozisyon}, Maaş : {self.maas}\")\n",
    "\n",
    "calisanlar = []\n",
    "\n",
    "while True:\n",
    "    print(\"1 çalışan ekle\")\n",
    "    print(\"2 çalışanları görüntüle\")\n",
    "    print(\"3 zam yap\")\n",
    "    print(\"4 çıkış\")\n",
    "\n",
    "    secim = int(input(\"Yapacağınız işlemi seçin\"))\n",
    "\n",
    "    if secim == 1:\n",
    "        ad = input(\"Çalışan adı giriniz.\")\n",
    "        pozisyon = input(\"Çalışanın pozisyonunu giriniz.\")\n",
    "        maas = input(\"Maaşını giriniz.\")\n",
    "\n",
    "    elif secim == 2:\n",
    "        for i in calisanlar:\n",
    "            print(f\"Çalışanlar: {i}\")\n",
    "\n",
    "    elif secim == 3:\n",
    "        print(\"agrgfrrhg\")\n",
    "        \n",
    "\n",
    "    elif secim == 4:\n",
    "        break\n",
    "\n"
   ]
  },
  {
   "cell_type": "code",
   "execution_count": 19,
   "id": "369194e8-38ca-4436-aa5a-57587d254420",
   "metadata": {},
   "outputs": [
    {
     "name": "stdout",
     "output_type": "stream",
     "text": [
      "ortak yok\n"
     ]
    }
   ],
   "source": [
    "def dosya_oku(dosyaAdi):\n",
    "    with open(dosyaAdi,'r',encoding = \"utf-8\") as dosya:\n",
    "        return dosya.read().strip()\n",
    "\n",
    "\n",
    "def karakter_koordinatlarını_bul(dosya1_içeriği,dosya2_içeriği):\n",
    "    dosya1_koordinatlar = {}\n",
    "    dosya2_koordinatlar = {}\n",
    "\n",
    "    for indeks,karakter in enumerate(dosya1_içeriği):\n",
    "        if karakter not in dosya1_koordinatlar:\n",
    "            dosya1_koordinatlar[karakter] = []\n",
    "        dosya1_koordinatlar[karakter].append(indeks)\n",
    "\n",
    "    for indeks,karakter in enumerate(dosya2_içeriği):\n",
    "            if karakter not in dosya2_koordinatlar:\n",
    "                dosya2_koordinatlar[karakter] = []\n",
    "            dosya2_koordinatlar[karakter].append(indeks)\n",
    "\n",
    "    ortak_koordinatlar = {}\n",
    "\n",
    "    for karakter in dosya1_koordinatlar:\n",
    "        if karakter in dosya2_koordinatlar:\n",
    "            ortak_koordinatlar[karakter] = {\n",
    "                \"Dosya1_koordinatları\": dosya1_koordinatlar[karakter],\n",
    "                \"Dosya2_koordinatları\": dosya2_koordinatlar[karakter]\n",
    "            }\n",
    "        return ortak_koordinatlar\n",
    "\n",
    "def ana():\n",
    "    dosya1 = \"Dosya1.txt\"\n",
    "    dosya2 = \"Dosya2.txt\"\n",
    "\n",
    "    dosyaİcerigi1 = dosya_oku(dosya1)\n",
    "    dosyaİcerigi2 = dosya_oku(dosya2)\n",
    "\n",
    "    ortakKordinatlar = karakter_koordinatlarını_bul(dosyaİcerigi1,dosyaİcerigi2)\n",
    "\n",
    "    if ortakKordinatlar:\n",
    "        print(\"Ortak karakterler ve konumlar\")\n",
    "        for karakter,koordinat in ortak_koordinatlar.items():\n",
    "            print(f\"karakter:{karakter}\")\n",
    "            print(f\"Dosya Konumları:{koordinat['dosya1_koordinatlar']}\")\n",
    "            print(f\"Dosya Konumları:{koordinat['dosya2_koordinatlar']}\")\n",
    "    else:\n",
    "        print(\"ortak yok\")\n",
    "\n",
    "if __name__ == \"__main__\":\n",
    "    ana()"
   ]
  },
  {
   "cell_type": "code",
   "execution_count": 35,
   "id": "4d0eeec4-e60c-4fd9-ae18-554d991a5c3e",
   "metadata": {},
   "outputs": [
    {
     "name": "stdin",
     "output_type": "stream",
     "text": [
      "Bir sayı gir 153\n"
     ]
    },
    {
     "name": "stdout",
     "output_type": "stream",
     "text": [
      "Yüzler:  1\n",
      "Onlar:  5\n",
      "Birler:  3\n",
      "Dost sayılar\n"
     ]
    }
   ],
   "source": [
    "sayi = int(input(\"Bir sayı gir\"))\n",
    "yuzler = sayi//100\n",
    "print(\"Yüzler: \",yuzler)\n",
    "bolum = sayi%100\n",
    "onlar = bolum//10\n",
    "print(\"Onlar: \",onlar)\n",
    "bolum2 = bolum%10\n",
    "print(\"Birler: \",bolum2)\n",
    "kendine_guvenen_sayilar = []\n",
    "\n",
    "if sayi == ((yuzler*yuzler*yuzler)+(onlar*onlar*onlar)+(bolum2*bolum2*bolum2)):\n",
    "    print(\"Dost sayılar\")\n",
    "else:\n",
    "    print(\"değil\")"
   ]
  },
  {
   "cell_type": "code",
   "execution_count": 20,
   "id": "904522f2-e550-4971-810f-0ac3885237c8",
   "metadata": {},
   "outputs": [
    {
     "name": "stdout",
     "output_type": "stream",
     "text": [
      "**********SEZAR ALGORİTMASI**********\n",
      "1 Şifrele\n",
      "2 Çöz\n",
      "3 Çıkış\n"
     ]
    },
    {
     "name": "stdin",
     "output_type": "stream",
     "text": [
      "Bir seçenek seç 1\n",
      "Şifrelenecek metini girin yigit\n",
      "Metinin kaç defa kaydırılcağını giriniz  3\n"
     ]
    },
    {
     "name": "stdout",
     "output_type": "stream",
     "text": [
      "[]\n"
     ]
    },
    {
     "name": "stdin",
     "output_type": "stream",
     "text": [
      "Bir seçenek seç 2\n",
      "Çözülecek metini girin bmlmx\n",
      "Metinin kaç defa kaydırılcağını giriniz  3\n"
     ]
    },
    {
     "name": "stdout",
     "output_type": "stream",
     "text": [
      "[]\n"
     ]
    },
    {
     "name": "stdin",
     "output_type": "stream",
     "text": [
      "Bir seçenek seç 3\n"
     ]
    }
   ],
   "source": [
    "print(\"**********SEZAR ALGORİTMASI**********\")\n",
    "\n",
    "print(\"1 Şifrele\")\n",
    "print(\"2 Çöz\")\n",
    "print(\"3 Çıkış\")\n",
    "\n",
    "while True:\n",
    "    secim = int(input(\"Bir seçenek seç\"))\n",
    "\n",
    "    if secim == 1:\n",
    "        metin = input(\"Şifrelenecek metini girin\")\n",
    "        kaydirma = int(input(\"Metinin kaç defa kaydırılcağını giriniz \"))\n",
    "            \n",
    "        sifrelenecekOlanMetin = []\n",
    "\n",
    "        for karakter in sifrelenecekOlanMetin:\n",
    "            if karakter.isalpha():\n",
    "                kaydirmaEgik = kaydirma % 26\n",
    "                base = ord('a') if karakter.islower() else ord('A')\n",
    "                sifreli_karakter = chr((ord(karakter) - base + kaydırmaEgik ) % 26 + base)\n",
    "                sifrelenecekOlanMetin.append(sifreli_karakter)\n",
    "\n",
    "            else:\n",
    "                sifrelenecekOlanMetin.append(sifreli_karakter)\n",
    "        print(f\"{sifrelenecekOlanMetin}\")\n",
    "\n",
    "    \n",
    "    elif secim  == 2:\n",
    "        cozulcekMetin = input(\"Çözülecek metini girin\")\n",
    "        kaydirma = int(input(\"Metinin kaç defa kaydırılcağını giriniz \"))\n",
    "\n",
    "        cozulecekOlanMetin = []\n",
    "        \n",
    "        for karakter in cozulecekOlanMetin:\n",
    "            if karakter.isalpha():\n",
    "                kaydirmaEgik = -kaydirma % 26\n",
    "                base = ord('a') if karakter.islower() else ord('A')\n",
    "                sifreli_karakter = chr((ord(karakter) - base + kaydırmaEgik ) % 26 + base)\n",
    "                cozulecekOlanMetin.append(sifreli_karakter)\n",
    "\n",
    "            else:\n",
    "                cozulecekOlanMetin.append(sifreli_karakter)\n",
    "        print(f\"{cozulecekOlanMetin}\")\n",
    "    \n",
    "\n",
    "    elif secim == 3:\n",
    "        break\n",
    "\n",
    "    else:\n",
    "        print(\"Geçersiz seçim, lütfen tekrar deneyin.\")\n"
   ]
  },
  {
   "cell_type": "code",
   "execution_count": 33,
   "id": "67032b94-7c55-4fac-bbdd-29dda2fa1ed6",
   "metadata": {},
   "outputs": [
    {
     "name": "stdout",
     "output_type": "stream",
     "text": [
      "Dil Öğrenme Programı\n",
      "1. Kelime Ekle\n",
      "2. Kelime Testi\n",
      "3. Cümle Kurma\n",
      "4. Çıkış\n"
     ]
    },
    {
     "name": "stdin",
     "output_type": "stream",
     "text": [
      "Bir Seçenek Girin (1/2/3/4) 1\n",
      "Eklemek istediğiniz kelimeyi girin name\n",
      "Anlamını girin ad\n"
     ]
    },
    {
     "name": "stdout",
     "output_type": "stream",
     "text": [
      "name eklendi\n"
     ]
    },
    {
     "name": "stdin",
     "output_type": "stream",
     "text": [
      "Bir Seçenek Girin (1/2/3/4) 2\n"
     ]
    },
    {
     "name": "stdout",
     "output_type": "stream",
     "text": [
      "Kelime Oyununa Hoş Geldiniz\n"
     ]
    },
    {
     "name": "stdin",
     "output_type": "stream",
     "text": [
      "ad:  name\n"
     ]
    },
    {
     "name": "stdout",
     "output_type": "stream",
     "text": [
      "Doğru\n"
     ]
    },
    {
     "name": "stdin",
     "output_type": "stream",
     "text": [
      "Bir Seçenek Girin (1/2/3/4) 3\n"
     ]
    },
    {
     "name": "stdout",
     "output_type": "stream",
     "text": [
      "Cümle Kurma\n",
      "list[dict_keys(['name'])] cümle\n"
     ]
    },
    {
     "name": "stdin",
     "output_type": "stream",
     "text": [
      "Bir Seçenek Girin (1/2/3/4) 4\n"
     ]
    }
   ],
   "source": [
    "kelimeler = {}\n",
    "\n",
    "print(\"Dil Öğrenme Programı\")\n",
    "print(\"1. Kelime Ekle\")\n",
    "print(\"2. Kelime Testi\")\n",
    "print(\"3. Cümle Kurma\")\n",
    "print(\"4. Çıkış\")\n",
    "\n",
    "while True:\n",
    "    secim = int(input(\"Bir Seçenek Girin (1/2/3/4)\"))\n",
    "\n",
    "    if secim == 1:\n",
    "        kelime = input(\"Eklemek istediğiniz kelimeyi girin\").strip()\n",
    "        anlam = input(\"Anlamını girin\").strip()\n",
    "        kelimeler[kelime] = anlam\n",
    "        print(f\"{kelime} eklendi\")\n",
    "\n",
    "\n",
    "    elif secim == 2:\n",
    "        if not kelimeler:\n",
    "            print(\"Önce Kelime Eklemelisiniz\")\n",
    "            continue\n",
    "\n",
    "        print(\"Kelime Oyununa Hoş Geldiniz\")\n",
    "        for kelime,anlam in kelimeler.items():\n",
    "            cevap = input(f\"{anlam}: \").strip()\n",
    "            if cevap.lower() == kelime.lower():\n",
    "                print(\"Doğru\")\n",
    "\n",
    "            else:\n",
    "                print(\"yanlış\")\n",
    "\n",
    "    elif secim == 3:\n",
    "        if not kelimeler:\n",
    "            print(\"Önce Kelime Eklemelisiniz.\")\n",
    "            continue\n",
    "\n",
    "        print(\"Cümle Kurma\")\n",
    "\n",
    "        kelimelerListesi = list[kelimeler.keys()]\n",
    "        print(f\"{kelimelerListesi} cümle\")\n",
    "        \n",
    "\n",
    "\n",
    "    \n",
    "    elif secim == 4:\n",
    "             break\n",
    "          "
   ]
  },
  {
   "cell_type": "code",
   "execution_count": 46,
   "id": "8161ba2f-dc2d-450c-882c-4ba1f53a754e",
   "metadata": {},
   "outputs": [
    {
     "name": "stdout",
     "output_type": "stream",
     "text": [
      "kullanıcı rehber uygulaması\n",
      "1 bilgi ekle\n",
      "2 bilgi güncelle\n",
      "3 bilgi görüntüle\n",
      "4 çıkış\n"
     ]
    },
    {
     "name": "stdin",
     "output_type": "stream",
     "text": [
      "değer gir 1\n",
      "Ad giriniz yigit\n",
      "Yaş giriniz 16\n",
      "E-posta giriniz gffwufıguıgf\n"
     ]
    },
    {
     "name": "stdout",
     "output_type": "stream",
     "text": [
      "yigit kişisi eklendi\n"
     ]
    },
    {
     "name": "stdin",
     "output_type": "stream",
     "text": [
      "değer gir 4\n"
     ]
    }
   ],
   "source": [
    "rehber_dosyası = \"rehber.txt\"\n",
    "\n",
    "\n",
    "print(\"kullanıcı rehber uygulaması\")\n",
    "print(\"1 bilgi ekle\")\n",
    "print(\"2 bilgi güncelle\")\n",
    "print(\"3 bilgi görüntüle\")\n",
    "print(\"4 çıkış\")\n",
    "\n",
    "while True:\n",
    "    secim = int(input(\"değer gir\"))\n",
    "\n",
    "    if secim == 1:\n",
    "        isim = input(\"Ad giriniz\")\n",
    "        yas = int(input(\"Yaş giriniz\"))\n",
    "        eposta = input(\"E-posta giriniz\")\n",
    "        with open(rehber_dosyası,'a',encoding = 'utf-8') as dosya:\n",
    "            dosya.write(f\"{isim}: {yas}: {eposta}:\")\n",
    "\n",
    "        print(f\"{isim} kişisi eklendi\")\n",
    "\n",
    "\n",
    "    elif secim == 2:\n",
    "        isim_guncelleme = input(\"Güncellemek istediğiniz kişinin ismini girin\")\n",
    "        bilgiler = []\n",
    "        try :\n",
    "            with open(rehber_dosyası,'r',encoding = 'utf-8') as dosya:\n",
    "                bilgiler = dosya.readlines()\n",
    "\n",
    "        except FileNotFoundError:\n",
    "            print(\"Dosya Bulunamadı\")\n",
    "            continue\n",
    "\n",
    "        bilgi_guncelleme = False\n",
    "        with open(rehber_dosyası,'w',encoding = 'utf-8') as dosya:\n",
    "            for bilgi in bilgiler:\n",
    "                if bilgi.startswith(isim_guncelleme):\n",
    "                    isim = input(\"Ad giriniz\")\n",
    "                    yas = int(input(\"Yaş giriniz\"))\n",
    "                    eposta = input(\"E-posta giriniz\")\n",
    "                    dosya.write(f\"{isim}: {yas}: {eposta}:\")\n",
    "                    bilgi_guncelleme = True\n",
    "\n",
    "                else:\n",
    "                    dosya.write(bilgi)\n",
    "        if bilgi_guncelleme:\n",
    "            print(\"İsim güncellendi\")\n",
    "\n",
    "        else:\n",
    "            print(\"bulunan adı\")\n",
    "\n",
    "    \n",
    "\n",
    "    \n",
    "    elif secim == 4:\n",
    "        break\n",
    "\n",
    "\n"
   ]
  },
  {
   "cell_type": "code",
   "execution_count": null,
   "id": "9f36921d-a167-42da-ab06-74c587d069c0",
   "metadata": {},
   "outputs": [],
   "source": []
  }
 ],
 "metadata": {
  "kernelspec": {
   "display_name": "Python 3 (ipykernel)",
   "language": "python",
   "name": "python3"
  },
  "language_info": {
   "codemirror_mode": {
    "name": "ipython",
    "version": 3
   },
   "file_extension": ".py",
   "mimetype": "text/x-python",
   "name": "python",
   "nbconvert_exporter": "python",
   "pygments_lexer": "ipython3",
   "version": "3.11.7"
  }
 },
 "nbformat": 4,
 "nbformat_minor": 5
}
