{
 "cells": [
  {
   "cell_type": "markdown",
   "id": "aac58f58-b9e4-4d63-b2a0-a4006b2029c9",
   "metadata": {},
   "source": [
    "## Değişkenler"
   ]
  },
  {
   "cell_type": "markdown",
   "id": "c519804b-b06b-4059-99a6-d26ba7cea24a",
   "metadata": {},
   "source": [
    "**Değişken** bir **değere** atıfta bulunan bir isimdir.<br>\n",
    "Bilgisayarın hafızasında o değere ait adresin ismidir.<br>\n",
    "**Atama** işlemi yeni bir değişken yaratır ve ona bir değer atar.<br>"
   ]
  },
  {
   "cell_type": "code",
   "execution_count": 1,
   "id": "e895a9c2-3ec2-4ddb-b785-c97901bbc77c",
   "metadata": {},
   "outputs": [],
   "source": [
    "sayi = 5"
   ]
  },
  {
   "cell_type": "code",
   "execution_count": 3,
   "id": "3982f2ec-e83f-4291-b1e5-81c864c93a9b",
   "metadata": {},
   "outputs": [
    {
     "name": "stdout",
     "output_type": "stream",
     "text": [
      "5\n"
     ]
    }
   ],
   "source": [
    "print(sayi)"
   ]
  },
  {
   "cell_type": "code",
   "execution_count": 4,
   "id": "b5ffdda6-d8f6-4427-87b1-33ba9531120c",
   "metadata": {},
   "outputs": [],
   "source": [
    "harf = \"Yiğit\""
   ]
  },
  {
   "cell_type": "code",
   "execution_count": 5,
   "id": "7b151537-239d-4ba9-98db-5af36013497e",
   "metadata": {},
   "outputs": [
    {
     "name": "stdout",
     "output_type": "stream",
     "text": [
      "Yiğit\n"
     ]
    }
   ],
   "source": [
    "print(harf)"
   ]
  },
  {
   "cell_type": "code",
   "execution_count": 6,
   "id": "b404ceb5-0b2b-4927-bac3-c986ca1f9a4d",
   "metadata": {},
   "outputs": [],
   "source": [
    "sayi = 7"
   ]
  },
  {
   "cell_type": "code",
   "execution_count": 7,
   "id": "0816afea-fb4b-4fa7-ba91-761029c4ef1f",
   "metadata": {},
   "outputs": [
    {
     "name": "stdout",
     "output_type": "stream",
     "text": [
      "7\n"
     ]
    }
   ],
   "source": [
    "print(sayi)"
   ]
  },
  {
   "cell_type": "code",
   "execution_count": 8,
   "id": "4d5755eb-c947-4a60-8231-aba130b405ac",
   "metadata": {},
   "outputs": [],
   "source": [
    "Sayi = 9"
   ]
  },
  {
   "cell_type": "code",
   "execution_count": 9,
   "id": "f24eab05-f6a1-4420-a418-f77dc4e4dda8",
   "metadata": {},
   "outputs": [
    {
     "name": "stdout",
     "output_type": "stream",
     "text": [
      "9\n"
     ]
    }
   ],
   "source": [
    "print(Sayi)"
   ]
  },
  {
   "cell_type": "markdown",
   "id": "01109505-24d3-4c10-a831-339300b10a30",
   "metadata": {},
   "source": [
    "**Python'da Değişken isimler**\n",
    "* Seçtiğimiz değişkenin anlamlı olması gerekir.\n",
    "* Genelde snake_case isimlendirme kullanılır.\n",
    "sesli_harfler\n",
    "* Değişken isimlerimiz:\n",
    "    * sayi ile başlamaz (1sayi, 2.deger)\n",
    "    * Boşluk karakteri kullanılmaz.\n",
    "    * özel karakter içermez.(@,!,?)\n",
    "    * Keyword(anahtar kelime) içermez.(if,for)"
   ]
  },
  {
   "cell_type": "code",
   "execution_count": 14,
   "id": "981cdca0-ab9e-4b2c-8b5a-3bed53171509",
   "metadata": {},
   "outputs": [
    {
     "name": "stdout",
     "output_type": "stream",
     "text": [
      "8\n"
     ]
    }
   ],
   "source": [
    "sayi_1 = 5\n",
    "sayi_2 = 3 \n",
    "\n",
    "sonuc = sayi_1 + sayi_2 \n",
    "print(sonuc)"
   ]
  },
  {
   "cell_type": "markdown",
   "id": "0dddd407-c32e-41ad-a445-4d14cd76161d",
   "metadata": {},
   "source": [
    "## String İşlemler"
   ]
  },
  {
   "cell_type": "code",
   "execution_count": 1,
   "id": "7df467fa-dd03-4a24-bd93-d16bbd29135f",
   "metadata": {},
   "outputs": [
    {
     "name": "stdout",
     "output_type": "stream",
     "text": [
      "Python Öğreniyorum\n"
     ]
    }
   ],
   "source": [
    "metin_cift = \"Python Öğreniyorum\"\n",
    "print(metin_cift)"
   ]
  },
  {
   "cell_type": "code",
   "execution_count": 3,
   "id": "4e813e48-2eb1-48f1-a2d9-8cfda0784468",
   "metadata": {},
   "outputs": [
    {
     "name": "stdout",
     "output_type": "stream",
     "text": [
      "Python Öğreniyorum\n"
     ]
    }
   ],
   "source": [
    "metin_tek = 'Python Öğreniyorum'\n",
    "print(metin_tek)"
   ]
  },
  {
   "cell_type": "code",
   "execution_count": 6,
   "id": "4d34cb05-16a8-46f1-a138-53b0c06a880e",
   "metadata": {},
   "outputs": [
    {
     "name": "stdout",
     "output_type": "stream",
     "text": [
      "Nova Akedemi'nin kursu\n"
     ]
    }
   ],
   "source": [
    "metin_tek_cift = \"Nova Akedemi'nin kursu\"\n",
    "print(metin_tek_cift)"
   ]
  },
  {
   "cell_type": "code",
   "execution_count": 7,
   "id": "a83d719c-88c9-49b6-bcd0-3d6ad15c2840",
   "metadata": {},
   "outputs": [
    {
     "ename": "SyntaxError",
     "evalue": "unterminated string literal (detected at line 1) (1439754556.py, line 1)",
     "output_type": "error",
     "traceback": [
      "\u001b[1;36m  Cell \u001b[1;32mIn[7], line 1\u001b[1;36m\u001b[0m\n\u001b[1;33m    metin = \"Bu İki'li tırnaktır.'\u001b[0m\n\u001b[1;37m            ^\u001b[0m\n\u001b[1;31mSyntaxError\u001b[0m\u001b[1;31m:\u001b[0m unterminated string literal (detected at line 1)\n"
     ]
    }
   ],
   "source": [
    "metin = \"Bu İki'li tırnaktır.'\n",
    "print(metin)"
   ]
  },
  {
   "cell_type": "markdown",
   "id": "43b253fa-548f-4fe3-ae71-6a441d20a16f",
   "metadata": {},
   "source": [
    "Python'da string ifadeler üzerinde aritmatik işlemler yapamayız."
   ]
  },
  {
   "cell_type": "code",
   "execution_count": 8,
   "id": "7a18a6fd-d7b6-4121-8fc1-485446d677e0",
   "metadata": {},
   "outputs": [
    {
     "data": {
      "text/plain": [
       "7"
      ]
     },
     "execution_count": 8,
     "metadata": {},
     "output_type": "execute_result"
    }
   ],
   "source": [
    "4 + 3"
   ]
  },
  {
   "cell_type": "code",
   "execution_count": 9,
   "id": "f9fa11c9-afdf-411b-99ac-c037bfabbbe9",
   "metadata": {},
   "outputs": [
    {
     "data": {
      "text/plain": [
       "'43'"
      ]
     },
     "execution_count": 9,
     "metadata": {},
     "output_type": "execute_result"
    }
   ],
   "source": [
    "'4'+ '3'"
   ]
  },
  {
   "cell_type": "code",
   "execution_count": 11,
   "id": "c4d712cb-a29a-46d1-a5c4-4b103c96123b",
   "metadata": {},
   "outputs": [
    {
     "data": {
      "text/plain": [
       "'Yiğit yeşil'"
      ]
     },
     "execution_count": 11,
     "metadata": {},
     "output_type": "execute_result"
    }
   ],
   "source": [
    "'Yiğit' + ' ' + 'yeşil'"
   ]
  },
  {
   "cell_type": "markdown",
   "id": "11aaa748-41c8-4364-8920-8a71ef7b0847",
   "metadata": {},
   "source": [
    "**İstisna** + ve * işlemleri yapılabilir. Matematiksel olarak doğru sonuç dönmez."
   ]
  },
  {
   "cell_type": "code",
   "execution_count": 14,
   "id": "1de180f5-df42-40de-a80c-3baa1f1e6b22",
   "metadata": {},
   "outputs": [],
   "source": [
    "birinci = \"Python\" \n",
    "ikinci = \"Kursu\""
   ]
  },
  {
   "cell_type": "code",
   "execution_count": 15,
   "id": "e3969005-de6d-4953-8aea-d7e04737db43",
   "metadata": {},
   "outputs": [
    {
     "data": {
      "text/plain": [
       "'PythonKursu'"
      ]
     },
     "execution_count": 15,
     "metadata": {},
     "output_type": "execute_result"
    }
   ],
   "source": [
    "birinci + ikinci"
   ]
  },
  {
   "cell_type": "code",
   "execution_count": 16,
   "id": "40c2b14f-eac1-4526-9816-32a7f67a68f9",
   "metadata": {},
   "outputs": [
    {
     "data": {
      "text/plain": [
       "'PythonPythonPython'"
      ]
     },
     "execution_count": 16,
     "metadata": {},
     "output_type": "execute_result"
    }
   ],
   "source": [
    "3 * birinci"
   ]
  },
  {
   "cell_type": "code",
   "execution_count": 17,
   "id": "915232e9-0e5f-4d7c-976c-e52a73bcdeb0",
   "metadata": {},
   "outputs": [
    {
     "data": {
      "text/plain": [
       "'555555'"
      ]
     },
     "execution_count": 17,
     "metadata": {},
     "output_type": "execute_result"
    }
   ],
   "source": [
    "6 * \"5\" "
   ]
  },
  {
   "cell_type": "code",
   "execution_count": 18,
   "id": "379350b6-9d2f-4a8c-8e43-3d33134327aa",
   "metadata": {},
   "outputs": [
    {
     "name": "stdin",
     "output_type": "stream",
     "text": [
      "Bir Sayı Giriniz 5\n"
     ]
    }
   ],
   "source": [
    "sayi = input(\"Bir Sayı Giriniz\")"
   ]
  },
  {
   "cell_type": "code",
   "execution_count": 19,
   "id": "d1f0572f-064b-491b-895b-fc7898382006",
   "metadata": {},
   "outputs": [
    {
     "data": {
      "text/plain": [
       "str"
      ]
     },
     "execution_count": 19,
     "metadata": {},
     "output_type": "execute_result"
    }
   ],
   "source": [
    "type(sayi)"
   ]
  },
  {
   "cell_type": "code",
   "execution_count": 20,
   "id": "e1d989a8-8af9-4d89-8fb0-97f3af553ba3",
   "metadata": {},
   "outputs": [
    {
     "ename": "TypeError",
     "evalue": "can only concatenate str (not \"int\") to str",
     "output_type": "error",
     "traceback": [
      "\u001b[1;31m---------------------------------------------------------------------------\u001b[0m",
      "\u001b[1;31mTypeError\u001b[0m                                 Traceback (most recent call last)",
      "Cell \u001b[1;32mIn[20], line 1\u001b[0m\n\u001b[1;32m----> 1\u001b[0m sayi \u001b[38;5;241m+\u001b[39m \u001b[38;5;241m5\u001b[39m\n",
      "\u001b[1;31mTypeError\u001b[0m: can only concatenate str (not \"int\") to str"
     ]
    }
   ],
   "source": [
    "sayi + 5"
   ]
  },
  {
   "cell_type": "code",
   "execution_count": 21,
   "id": "e178be74-6f8c-442f-a6ff-07411c79c140",
   "metadata": {},
   "outputs": [
    {
     "data": {
      "text/plain": [
       "10"
      ]
     },
     "execution_count": 21,
     "metadata": {},
     "output_type": "execute_result"
    }
   ],
   "source": [
    "int(sayi) + 5"
   ]
  },
  {
   "cell_type": "code",
   "execution_count": 6,
   "id": "461f48a1-70e2-484a-935c-f25505cd79fd",
   "metadata": {},
   "outputs": [
    {
     "name": "stdin",
     "output_type": "stream",
     "text": [
      "Birinci sayıyı giriniz: 6\n",
      "İkinci sayıyı giriniz: 6\n"
     ]
    },
    {
     "name": "stdout",
     "output_type": "stream",
     "text": [
      "36\n"
     ]
    }
   ],
   "source": [
    "#İnt deger icin int() fonksiyonu kullanılır\n",
    "birinci_sayi = int(input(\"Birinci sayıyı giriniz:\"))\n",
    "ikinci_sayi = int(input(\"İkinci sayıyı giriniz:\"))\n",
    "sonuc = birinci_sayi * ikinci_sayi\n",
    "print(sonuc)"
   ]
  },
  {
   "cell_type": "markdown",
   "id": "61f9e424-9883-49f4-a049-7c046f4ca078",
   "metadata": {},
   "source": [
    "## Anahtar Kelimeler (Keywords)"
   ]
  },
  {
   "cell_type": "code",
   "execution_count": 1,
   "id": "6b0269a8-1e77-4f06-b46f-d8e4f51eccac",
   "metadata": {},
   "outputs": [],
   "source": [
    "import keyword"
   ]
  },
  {
   "cell_type": "code",
   "execution_count": 2,
   "id": "693d38d7-8028-46ff-8247-736dbc96e952",
   "metadata": {},
   "outputs": [],
   "source": [
    "anahtar_kelimeler = keyword.kwlist"
   ]
  },
  {
   "cell_type": "code",
   "execution_count": 3,
   "id": "c3cc1cea-ddb7-403c-8a5c-895d213c0f45",
   "metadata": {},
   "outputs": [
    {
     "name": "stdout",
     "output_type": "stream",
     "text": [
      "['False', 'None', 'True', 'and', 'as', 'assert', 'async', 'await', 'break', 'class', 'continue', 'def', 'del', 'elif', 'else', 'except', 'finally', 'for', 'from', 'global', 'if', 'import', 'in', 'is', 'lambda', 'nonlocal', 'not', 'or', 'pass', 'raise', 'return', 'try', 'while', 'with', 'yield']\n"
     ]
    }
   ],
   "source": [
    "print(anahtar_kelimeler)"
   ]
  },
  {
   "cell_type": "code",
   "execution_count": 3,
   "id": "e140fa8b-9ce9-4f24-b7dc-fb7a16a896bd",
   "metadata": {},
   "outputs": [
    {
     "name": "stdin",
     "output_type": "stream",
     "text": [
      "Kilonuzu giriniz: 55\n",
      "Boyunuzu (m) giriniz: 1.77\n"
     ]
    },
    {
     "name": "stdout",
     "output_type": "stream",
     "text": [
      "17.555619394171533\n"
     ]
    }
   ],
   "source": [
    "# Vücut Kitle İndeksi\n",
    "kilo = int(input(\"Kilonuzu giriniz:\"))\n",
    "boy = float(input(\"Boyunuzu (m) giriniz:\"))\n",
    "boyun_karesi = boy * boy\n",
    "sonuc = float(kilo / float(boyun_karesi))\n",
    "print(sonuc)"
   ]
  },
  {
   "cell_type": "code",
   "execution_count": 4,
   "id": "46220af0-e61a-4c2e-ab12-28e88cf77d4a",
   "metadata": {},
   "outputs": [
    {
     "data": {
      "text/plain": [
       "True"
      ]
     },
     "execution_count": 4,
     "metadata": {},
     "output_type": "execute_result"
    }
   ],
   "source": [
    "keyword.iskeyword('is')"
   ]
  },
  {
   "cell_type": "code",
   "execution_count": 5,
   "id": "b9a5b40d-fbb1-4edd-94c3-9eb20a71d342",
   "metadata": {},
   "outputs": [
    {
     "data": {
      "text/plain": [
       "False"
      ]
     },
     "execution_count": 5,
     "metadata": {},
     "output_type": "execute_result"
    }
   ],
   "source": [
    "keyword.iskeyword('sayi')"
   ]
  },
  {
   "cell_type": "code",
   "execution_count": null,
   "id": "27263dfb-4b9a-4e5a-abe7-e67d79628f98",
   "metadata": {},
   "outputs": [],
   "source": []
  }
 ],
 "metadata": {
  "kernelspec": {
   "display_name": "Python 3 (ipykernel)",
   "language": "python",
   "name": "python3"
  },
  "language_info": {
   "codemirror_mode": {
    "name": "ipython",
    "version": 3
   },
   "file_extension": ".py",
   "mimetype": "text/x-python",
   "name": "python",
   "nbconvert_exporter": "python",
   "pygments_lexer": "ipython3",
   "version": "3.11.7"
  }
 },
 "nbformat": 4,
 "nbformat_minor": 5
}
