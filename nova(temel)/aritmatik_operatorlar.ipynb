{
 "cells": [
  {
   "cell_type": "markdown",
   "id": "4f349daf-162c-4e62-b970-d5f67b104b77",
   "metadata": {},
   "source": [
    "## Aritmatik Operatörler"
   ]
  },
  {
   "cell_type": "markdown",
   "id": "7c6e8560-c6b5-4e70-89b9-02bca1e33f22",
   "metadata": {},
   "source": [
    "**Aritmatik İşlemler**\n",
    "* Toplama: +\n",
    "* Çıkarma: -\n",
    "* Çarpma: *\n",
    "* Bölme: /\n",
    "* Üs Alma: **\n",
    "* Tam Sayılı Bölme: //\n",
    "* Mod Alma: %"
   ]
  },
  {
   "cell_type": "code",
   "execution_count": 2,
   "id": "15513ab1-6ba7-4ec9-9ae5-69efac263c9a",
   "metadata": {},
   "outputs": [
    {
     "data": {
      "text/plain": [
       "8"
      ]
     },
     "execution_count": 2,
     "metadata": {},
     "output_type": "execute_result"
    }
   ],
   "source": [
    "3+5"
   ]
  },
  {
   "cell_type": "code",
   "execution_count": 4,
   "id": "6a522636-3471-4208-bd75-31a443184c1d",
   "metadata": {},
   "outputs": [
    {
     "data": {
      "text/plain": [
       "8"
      ]
     },
     "execution_count": 4,
     "metadata": {},
     "output_type": "execute_result"
    }
   ],
   "source": [
    "2**3"
   ]
  },
  {
   "cell_type": "code",
   "execution_count": 5,
   "id": "1f399c25-e195-47bf-87dc-b57dcbc13dbf",
   "metadata": {},
   "outputs": [
    {
     "data": {
      "text/plain": [
       "32"
      ]
     },
     "execution_count": 5,
     "metadata": {},
     "output_type": "execute_result"
    }
   ],
   "source": [
    "35-3"
   ]
  },
  {
   "cell_type": "code",
   "execution_count": 6,
   "id": "02237e67-6fdf-4ddc-a21e-80bd4c28fd2a",
   "metadata": {},
   "outputs": [
    {
     "data": {
      "text/plain": [
       "12"
      ]
     },
     "execution_count": 6,
     "metadata": {},
     "output_type": "execute_result"
    }
   ],
   "source": [
    "15-3"
   ]
  },
  {
   "cell_type": "code",
   "execution_count": 7,
   "id": "d78c2548-3999-472c-9673-d3a5d57e9032",
   "metadata": {},
   "outputs": [
    {
     "data": {
      "text/plain": [
       "4.5"
      ]
     },
     "execution_count": 7,
     "metadata": {},
     "output_type": "execute_result"
    }
   ],
   "source": [
    "9/2"
   ]
  },
  {
   "cell_type": "code",
   "execution_count": 8,
   "id": "7781d062-a874-4de3-8d72-df687a1a6fc3",
   "metadata": {},
   "outputs": [
    {
     "data": {
      "text/plain": [
       "4"
      ]
     },
     "execution_count": 8,
     "metadata": {},
     "output_type": "execute_result"
    }
   ],
   "source": [
    "9//2"
   ]
  },
  {
   "cell_type": "markdown",
   "id": "257e650e-268b-43bf-ba90-01de5c6dcc4e",
   "metadata": {},
   "source": [
    "**Değerler ve Tipler** <br>\n",
    "**Değerler** program içerisinde anlam taşıyan yapılardır. Programın hafızasında yer tutar.<br>\n",
    "**Tipler** Bu hafızanın hangi formatta olduğunu söyler."
   ]
  },
  {
   "cell_type": "code",
   "execution_count": 9,
   "id": "47df8bba-ee0d-4cb4-80c2-c7448f5c9196",
   "metadata": {},
   "outputs": [
    {
     "data": {
      "text/plain": [
       "str"
      ]
     },
     "execution_count": 9,
     "metadata": {},
     "output_type": "execute_result"
    }
   ],
   "source": [
    "type(\"h\")"
   ]
  },
  {
   "cell_type": "code",
   "execution_count": 11,
   "id": "06041075-c413-426f-aff6-89261631477c",
   "metadata": {},
   "outputs": [
    {
     "data": {
      "text/plain": [
       "int"
      ]
     },
     "execution_count": 11,
     "metadata": {},
     "output_type": "execute_result"
    }
   ],
   "source": [
    "type(7)"
   ]
  },
  {
   "cell_type": "code",
   "execution_count": null,
   "id": "0ec558cf-32b8-436e-9355-4caa86780027",
   "metadata": {},
   "outputs": [],
   "source": []
  }
 ],
 "metadata": {
  "kernelspec": {
   "display_name": "Python 3 (ipykernel)",
   "language": "python",
   "name": "python3"
  },
  "language_info": {
   "codemirror_mode": {
    "name": "ipython",
    "version": 3
   },
   "file_extension": ".py",
   "mimetype": "text/x-python",
   "name": "python",
   "nbconvert_exporter": "python",
   "pygments_lexer": "ipython3",
   "version": "3.11.9"
  }
 },
 "nbformat": 4,
 "nbformat_minor": 5
}
