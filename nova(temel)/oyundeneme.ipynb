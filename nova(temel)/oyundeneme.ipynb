{
 "cells": [
  {
   "cell_type": "code",
   "execution_count": 4,
   "id": "b1d18d10-b98f-4cb3-ae30-4594efafde54",
   "metadata": {},
   "outputs": [
    {
     "name": "stdout",
     "output_type": "stream",
     "text": [
      "Requirement already satisfied: pygame in c:\\users\\fujitsu\\anaconda3\\lib\\site-packages (2.6.0)\n",
      "Note: you may need to restart the kernel to use updated packages.\n"
     ]
    }
   ],
   "source": [
    "pip install pygame"
   ]
  },
  {
   "cell_type": "code",
   "execution_count": 25,
   "id": "ad8d2210-1efe-40d6-89f0-1b01c7bf49da",
   "metadata": {},
   "outputs": [],
   "source": [
    "import pygame\n",
    "import random\n",
    "\n",
    "# Ekran boyutları\n",
    "SCREEN_WIDTH = 400\n",
    "SCREEN_HEIGHT = 600\n",
    "\n",
    "# Renkler\n",
    "WHITE = (255, 255, 255)\n",
    "BLACK = (0, 0, 0)\n",
    "\n",
    "# Oyuncu sınıfı\n",
    "class Player(pygame.sprite.Sprite):\n",
    "    def __init__(self):\n",
    "        super().__init__()\n",
    "        self.image = pygame.Surface([30, 30])\n",
    "        self.image.fill(BLACK)\n",
    "        self.rect = self.image.get_rect()\n",
    "        self.rect.x = 50\n",
    "        self.rect.y = 300\n",
    "        self.change_y = 0\n",
    "\n",
    "    def update(self):\n",
    "        self.change_y += 0.5\n",
    "        self.rect.y += self.change_y\n",
    "        if self.rect.y > SCREEN_HEIGHT:\n",
    "            self.rect.y = SCREEN_HEIGHT\n",
    "            self.change_y = 0\n",
    "        if self.rect.y < 0:\n",
    "            self.rect.y = 0\n",
    "            self.change_y = 0\n",
    "\n",
    "    def jump(self):\n",
    "        self.change_y = -10\n",
    "\n",
    "# Boru sınıfı\n",
    "class Pipe(pygame.sprite.Sprite):\n",
    "    def __init__(self, x, y, width, height):\n",
    "        super().__init__()\n",
    "        self.image = pygame.Surface([width, height])\n",
    "        self.image.fill(BLACK)\n",
    "        self.rect = self.image.get_rect()\n",
    "        self.rect.x = x\n",
    "        self.rect.y = y\n",
    "\n",
    "    def update(self):\n",
    "        self.rect.x -= 5\n",
    "        if self.rect.x < -self.rect.width:\n",
    "            self.kill()\n",
    "\n",
    "# Oyun fonksiyonu\n",
    "def game():\n",
    "    pygame.init()\n",
    "\n",
    "    size = (SCREEN_WIDTH, SCREEN_HEIGHT)\n",
    "    screen = pygame.display.set_mode(size)\n",
    "    pygame.display.set_caption(\"Flappy Bird\")\n",
    "\n",
    "    all_sprites = pygame.sprite.Group()\n",
    "    pipes = pygame.sprite.Group()\n",
    "\n",
    "    player = Player()\n",
    "    all_sprites.add(player)\n",
    "\n",
    "    clock = pygame.time.Clock()\n",
    "    done = False\n",
    "\n",
    "    while not done:\n",
    "        for event in pygame.event.get():\n",
    "            if event.type == pygame.QUIT:\n",
    "                done = True\n",
    "            if event.type == pygame.KEYDOWN:\n",
    "                if event.key == pygame.K_SPACE:\n",
    "                    player.jump()\n",
    "\n",
    "        if random.randint(1, 60) == 1:\n",
    "            pipe_height = random.randint(100, 300)\n",
    "            pipe = Pipe(SCREEN_WIDTH, 0, 50, pipe_height)\n",
    "            pipes.add(pipe)\n",
    "            all_sprites.add(pipe)\n",
    "            pipe = Pipe(SCREEN_WIDTH, pipe_height + 150, 50, SCREEN_HEIGHT - pipe_height - 150)\n",
    "            pipes.add(pipe)\n",
    "            all_sprites.add(pipe)\n",
    "\n",
    "        all_sprites.update()\n",
    "\n",
    "        screen.fill(WHITE)\n",
    "        all_sprites.draw(screen)\n",
    "\n",
    "        if pygame.sprite.spritecollideany(player, pipes):\n",
    "            done = True\n",
    "\n",
    "        pygame.display.flip()\n",
    "        clock.tick(60)\n",
    "\n",
    "    pygame.quit()\n",
    "\n",
    "if __name__ == \"__main__\":\n",
    "    game()\n"
   ]
  },
  {
   "cell_type": "code",
   "execution_count": 21,
   "id": "bdb82e48-6cd7-4f2f-b520-b3e278f77cd1",
   "metadata": {},
   "outputs": [
    {
     "ename": "SyntaxError",
     "evalue": "invalid syntax (1386966579.py, line 1)",
     "output_type": "error",
     "traceback": [
      "\u001b[1;36m  Cell \u001b[1;32mIn[21], line 1\u001b[1;36m\u001b[0m\n\u001b[1;33m    python flappy_bird.py\u001b[0m\n\u001b[1;37m           ^\u001b[0m\n\u001b[1;31mSyntaxError\u001b[0m\u001b[1;31m:\u001b[0m invalid syntax\n"
     ]
    }
   ],
   "source": [
    "python flappy_bird.py"
   ]
  },
  {
   "cell_type": "code",
   "execution_count": null,
   "id": "31251a2b-28de-403e-b735-ca6a7cda8131",
   "metadata": {},
   "outputs": [],
   "source": []
  }
 ],
 "metadata": {
  "kernelspec": {
   "display_name": "Python 3 (ipykernel)",
   "language": "python",
   "name": "python3"
  },
  "language_info": {
   "codemirror_mode": {
    "name": "ipython",
    "version": 3
   },
   "file_extension": ".py",
   "mimetype": "text/x-python",
   "name": "python",
   "nbconvert_exporter": "python",
   "pygments_lexer": "ipython3",
   "version": "3.11.7"
  }
 },
 "nbformat": 4,
 "nbformat_minor": 5
}
