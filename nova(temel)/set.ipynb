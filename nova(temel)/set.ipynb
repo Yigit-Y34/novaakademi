{
 "cells": [
  {
   "cell_type": "markdown",
   "id": "f8785a71-3399-4b0c-8fab-41ee43d6a59d",
   "metadata": {},
   "source": [
    "**Set**"
   ]
  },
  {
   "cell_type": "markdown",
   "id": "895ea797-9036-4386-8849-42747a12d214",
   "metadata": {},
   "source": [
    "Birden fazla değeri bir değişkende tutmak için kullanılır -> Set (Küme)\n",
    "\n",
    "Setler sırasızdır(unordered) ve indexlenemezler(unidexed)\n",
    "\n",
    "Set tanımlamak için süslü parantez veya set() kullanabiliriz.\n",
    "\n",
    "Süslü parantezlerin içine mutlaka değer girilmelidir. Değer girilmeden oluşturulursa kume = {} bu bir boş dictionarydir.\n",
    "\n",
    "Set in elemanları teklidir. Bir sette aynı elemandan birden fazla olamaz."
   ]
  },
  {
   "cell_type": "code",
   "execution_count": 1,
   "id": "0b0343fe-6be6-464f-955e-04e7b5fbb3a7",
   "metadata": {},
   "outputs": [
    {
     "data": {
      "text/plain": [
       "dict"
      ]
     },
     "execution_count": 1,
     "metadata": {},
     "output_type": "execute_result"
    }
   ],
   "source": [
    "kume = {}\n",
    "type(kume)"
   ]
  },
  {
   "cell_type": "code",
   "execution_count": 2,
   "id": "519ebf09-e5df-4d92-9b07-6ec897969ac8",
   "metadata": {},
   "outputs": [
    {
     "data": {
      "text/plain": [
       "set"
      ]
     },
     "execution_count": 2,
     "metadata": {},
     "output_type": "execute_result"
    }
   ],
   "source": [
    "kume = set()\n",
    "type(kume)"
   ]
  },
  {
   "cell_type": "code",
   "execution_count": 4,
   "id": "fa429190-c5f9-40cb-b09f-0a9f4f841de9",
   "metadata": {},
   "outputs": [
    {
     "data": {
      "text/plain": [
       "{'at', 'kedi', 'tavşan'}"
      ]
     },
     "execution_count": 4,
     "metadata": {},
     "output_type": "execute_result"
    }
   ],
   "source": [
    "kume = {'at','kedi','at','tavşan','kedi'}\n",
    "kume"
   ]
  },
  {
   "cell_type": "code",
   "execution_count": 5,
   "id": "0a4530a5-b4ab-4b61-a3ce-6644ed6f6cb2",
   "metadata": {},
   "outputs": [
    {
     "data": {
      "text/plain": [
       "{'A', 'B', 'C', 'D'}"
      ]
     },
     "execution_count": 5,
     "metadata": {},
     "output_type": "execute_result"
    }
   ],
   "source": [
    "# set()\n",
    "harfler = set({'A','B','C','D'})\n",
    "harfler"
   ]
  },
  {
   "cell_type": "code",
   "execution_count": 6,
   "id": "c2dd8c71-22d9-43f8-8860-6b1292e9c6c0",
   "metadata": {},
   "outputs": [
    {
     "ename": "TypeError",
     "evalue": "'set' object is not subscriptable",
     "output_type": "error",
     "traceback": [
      "\u001b[1;31m---------------------------------------------------------------------------\u001b[0m",
      "\u001b[1;31mTypeError\u001b[0m                                 Traceback (most recent call last)",
      "Cell \u001b[1;32mIn[6], line 2\u001b[0m\n\u001b[0;32m      1\u001b[0m \u001b[38;5;66;03m# indekslenemez \u001b[39;00m\n\u001b[1;32m----> 2\u001b[0m harfler[\u001b[38;5;241m0\u001b[39m]\n",
      "\u001b[1;31mTypeError\u001b[0m: 'set' object is not subscriptable"
     ]
    }
   ],
   "source": [
    "# indekslenemez \n",
    "harfler[0]"
   ]
  },
  {
   "cell_type": "code",
   "execution_count": 8,
   "id": "b069bdfb-92a4-4ffb-bb7b-d51b21b64d44",
   "metadata": {},
   "outputs": [
    {
     "name": "stdout",
     "output_type": "stream",
     "text": [
      "{'n', 'e', 'o', 't', 'V', 'T', 'p', 'i', 'P', 'y', ' ', 'h', 'l', 'r'}\n"
     ]
    }
   ],
   "source": [
    "# setler sıralı değillerdir\n",
    "metin = 'Python Veri Tipleri'\n",
    "print(set(metin))"
   ]
  },
  {
   "cell_type": "markdown",
   "id": "f306a791-a29b-4a24-8827-b4c2bd1f4216",
   "metadata": {},
   "source": [
    "**Set Metodları**"
   ]
  },
  {
   "cell_type": "markdown",
   "id": "bc7fde5f-c44a-4165-a84d-08acec9334db",
   "metadata": {},
   "source": [
    "Kesişim(intersection)"
   ]
  },
  {
   "cell_type": "code",
   "execution_count": 9,
   "id": "631fc4ef-05d1-4967-ac6b-7e027e296ea8",
   "metadata": {},
   "outputs": [
    {
     "data": {
      "text/plain": [
       "{'A', 'B'}"
      ]
     },
     "execution_count": 9,
     "metadata": {},
     "output_type": "execute_result"
    }
   ],
   "source": [
    "notlar = {'A','B','C','A','C',}\n",
    "dereceler = {'A','L','T','B','F'}\n",
    "\n",
    "notlar.intersection(dereceler)"
   ]
  },
  {
   "cell_type": "code",
   "execution_count": 11,
   "id": "45fc3118-dde4-4e92-aacc-3c0365d7006c",
   "metadata": {},
   "outputs": [
    {
     "data": {
      "text/plain": [
       "{'A', 'B', 'C', 'F', 'L', 'T'}"
      ]
     },
     "execution_count": 11,
     "metadata": {},
     "output_type": "execute_result"
    }
   ],
   "source": [
    "# birleşim  .union()\n",
    "notlar.union(dereceler)"
   ]
  },
  {
   "cell_type": "code",
   "execution_count": 17,
   "id": "ccec101e-5514-45dc-ab24-e2c8a0b5a817",
   "metadata": {},
   "outputs": [
    {
     "data": {
      "text/plain": [
       "{'C'}"
      ]
     },
     "execution_count": 17,
     "metadata": {},
     "output_type": "execute_result"
    }
   ],
   "source": [
    "# fark .difference()\n",
    "notlar.difference(dereceler)"
   ]
  },
  {
   "cell_type": "code",
   "execution_count": 18,
   "id": "04de1392-253b-44b1-a345-a14fc6375124",
   "metadata": {},
   "outputs": [
    {
     "data": {
      "text/plain": [
       "{'F', 'L', 'T'}"
      ]
     },
     "execution_count": 18,
     "metadata": {},
     "output_type": "execute_result"
    }
   ],
   "source": [
    "dereceler.difference(notlar)"
   ]
  },
  {
   "cell_type": "code",
   "execution_count": 19,
   "id": "e2204961-0690-46d8-8b04-1acb32f161de",
   "metadata": {},
   "outputs": [
    {
     "data": {
      "text/plain": [
       "True"
      ]
     },
     "execution_count": 19,
     "metadata": {},
     "output_type": "execute_result"
    }
   ],
   "source": [
    "# alt küme .issubset()\n",
    "{'A','C'}.issubset(notlar)"
   ]
  },
  {
   "cell_type": "markdown",
   "id": "18e4e026-d581-44fa-8b6d-a35dae8578a4",
   "metadata": {},
   "source": [
    "**Setlerde Eleman ve Atama İşlemleri**"
   ]
  },
  {
   "cell_type": "code",
   "execution_count": 20,
   "id": "3f71da5f-ee3d-4544-9ad7-df8409ad28d7",
   "metadata": {},
   "outputs": [
    {
     "data": {
      "text/plain": [
       "{'A', 'B', 'C'}"
      ]
     },
     "execution_count": 20,
     "metadata": {},
     "output_type": "execute_result"
    }
   ],
   "source": [
    "notlar = ['A','B','A','C','B','C']\n",
    "notlar = set(notlar)\n",
    "notlar"
   ]
  },
  {
   "cell_type": "code",
   "execution_count": 23,
   "id": "943e7620-e966-47c7-bdc8-6dcd5407e7cf",
   "metadata": {},
   "outputs": [
    {
     "data": {
      "text/plain": [
       "{'A', 'B', 'C', 'F'}"
      ]
     },
     "execution_count": 23,
     "metadata": {},
     "output_type": "execute_result"
    }
   ],
   "source": [
    "# eleman ekleme\n",
    "notlar.add('F')\n",
    "notlar"
   ]
  },
  {
   "cell_type": "code",
   "execution_count": 24,
   "id": "58aa5b02-e484-4b44-9aad-b6c2755eea75",
   "metadata": {},
   "outputs": [
    {
     "data": {
      "text/plain": [
       "{'A', 'B', 'C', 'D', 'F'}"
      ]
     },
     "execution_count": 24,
     "metadata": {},
     "output_type": "execute_result"
    }
   ],
   "source": [
    "notlar.add('D')\n",
    "notlar"
   ]
  },
  {
   "cell_type": "code",
   "execution_count": 31,
   "id": "99202198-c9c3-4573-9a9e-302d56013465",
   "metadata": {},
   "outputs": [
    {
     "data": {
      "text/plain": [
       "{'Armut', 'Elma', 'Kiraz'}"
      ]
     },
     "execution_count": 31,
     "metadata": {},
     "output_type": "execute_result"
    }
   ],
   "source": [
    "meyveler = {'Elma','Armut','Kiraz'}\n",
    "meyveler"
   ]
  },
  {
   "cell_type": "code",
   "execution_count": 33,
   "id": "db444a0d-826d-4db3-abb4-bdc6cf2c695e",
   "metadata": {},
   "outputs": [
    {
     "data": {
      "text/plain": [
       "{'Armut', 'Elma', 'Kiraz', 'a', 'k', 'p', 'r', 'u', 'z'}"
      ]
     },
     "execution_count": 33,
     "metadata": {},
     "output_type": "execute_result"
    }
   ],
   "source": [
    "# update()\n",
    "meyveler.update('karpuz')\n",
    "meyveler"
   ]
  },
  {
   "cell_type": "code",
   "execution_count": 35,
   "id": "6b4a8eb8-a2d2-40e9-9e2d-19f62ea88e51",
   "metadata": {},
   "outputs": [
    {
     "data": {
      "text/plain": [
       "{'Armut', 'Elma', 'Kiraz', 'a', 'erik', 'k', 'muz', 'p', 'r', 'u', 'z'}"
      ]
     },
     "execution_count": 35,
     "metadata": {},
     "output_type": "execute_result"
    }
   ],
   "source": [
    "# birden fazla değeri kümemize ekleyebiliriz. update()\n",
    "daha_cok_meyve = ['erik','muz']\n",
    "meyveler.update(daha_cok_meyve)\n",
    "meyveler"
   ]
  },
  {
   "cell_type": "markdown",
   "id": "3bd2822c-b220-4aa2-9a27-07637a2383c3",
   "metadata": {},
   "source": [
    "**Setlerden eleman çıkartmak**"
   ]
  },
  {
   "cell_type": "code",
   "execution_count": 25,
   "id": "e3789831-e09e-41f3-b611-f5b502d67eaa",
   "metadata": {},
   "outputs": [
    {
     "data": {
      "text/plain": [
       "{'A', 'B', 'C', 'D', 'F'}"
      ]
     },
     "execution_count": 25,
     "metadata": {},
     "output_type": "execute_result"
    }
   ],
   "source": [
    "notlar"
   ]
  },
  {
   "cell_type": "code",
   "execution_count": 27,
   "id": "5dfa3f65-6981-47f0-b75e-c183a79d25e2",
   "metadata": {},
   "outputs": [
    {
     "data": {
      "text/plain": [
       "'A'"
      ]
     },
     "execution_count": 27,
     "metadata": {},
     "output_type": "execute_result"
    }
   ],
   "source": [
    "# rastgele siler\n",
    "notlar.pop()"
   ]
  },
  {
   "cell_type": "code",
   "execution_count": 29,
   "id": "2631b640-6deb-432a-96ca-ac5026a5fcd5",
   "metadata": {},
   "outputs": [],
   "source": [
    "# belirli bir değeri silmek için\n",
    "notlar.remove('B')"
   ]
  },
  {
   "cell_type": "code",
   "execution_count": 30,
   "id": "f68e13b9-6301-40ea-bae3-6ab14db9ca78",
   "metadata": {},
   "outputs": [
    {
     "data": {
      "text/plain": [
       "{'C', 'D', 'F'}"
      ]
     },
     "execution_count": 30,
     "metadata": {},
     "output_type": "execute_result"
    }
   ],
   "source": [
    "notlar"
   ]
  },
  {
   "cell_type": "markdown",
   "id": "dcbdbc00-95bf-4e23-9f9d-5828791229ce",
   "metadata": {},
   "source": [
    "**Setlerde Atama**"
   ]
  },
  {
   "cell_type": "code",
   "execution_count": 38,
   "id": "6e65dff4-b094-4292-a058-3c6eea6b1e5b",
   "metadata": {},
   "outputs": [
    {
     "name": "stdout",
     "output_type": "stream",
     "text": [
      "{2, 'yenideger', 5, 7}\n",
      "{2, 'yenideger', 5, 7}\n"
     ]
    }
   ],
   "source": [
    "a = {2,5,7}\n",
    "\n",
    "b = a\n",
    "\n",
    "b.add('yenideger')\n",
    "\n",
    "print(a)\n",
    "print(b)"
   ]
  },
  {
   "cell_type": "code",
   "execution_count": 39,
   "id": "4304e9cb-9c4f-45c5-aa2f-4c72c02e1bb0",
   "metadata": {},
   "outputs": [
    {
     "data": {
      "text/plain": [
       "True"
      ]
     },
     "execution_count": 39,
     "metadata": {},
     "output_type": "execute_result"
    }
   ],
   "source": [
    "a is b"
   ]
  },
  {
   "cell_type": "code",
   "execution_count": null,
   "id": "f286587c-e354-45c5-a53c-ec9f7116553e",
   "metadata": {},
   "outputs": [],
   "source": []
  }
 ],
 "metadata": {
  "kernelspec": {
   "display_name": "Python 3 (ipykernel)",
   "language": "python",
   "name": "python3"
  },
  "language_info": {
   "codemirror_mode": {
    "name": "ipython",
    "version": 3
   },
   "file_extension": ".py",
   "mimetype": "text/x-python",
   "name": "python",
   "nbconvert_exporter": "python",
   "pygments_lexer": "ipython3",
   "version": "3.11.9"
  }
 },
 "nbformat": 4,
 "nbformat_minor": 5
}
