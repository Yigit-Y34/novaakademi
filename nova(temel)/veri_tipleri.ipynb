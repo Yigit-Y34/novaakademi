{
 "cells": [
  {
   "cell_type": "markdown",
   "id": "ba29d1ab-6bf8-4fce-8907-73de89a6b14a",
   "metadata": {},
   "source": [
    "## Python Veri Tipleri\n",
    "**Python Veri Tipleri** <br>\n",
    "    Text tipi:**str**<br>\n",
    "    "
   ]
  },
  {
   "cell_type": "code",
   "execution_count": 2,
   "id": "ff44d476-afc1-40ce-94bb-11f493ef75da",
   "metadata": {},
   "outputs": [
    {
     "data": {
      "text/plain": [
       "tuple"
      ]
     },
     "execution_count": 2,
     "metadata": {},
     "output_type": "execute_result"
    }
   ],
   "source": [
    "harfler = (\"A\",\"B\",\"C\",\"D\")\n",
    "type(harfler)"
   ]
  },
  {
   "cell_type": "code",
   "execution_count": 3,
   "id": "9e34ede1-71d4-4aa0-9d1f-ac0ca7c0f65c",
   "metadata": {},
   "outputs": [
    {
     "data": {
      "text/plain": [
       "range"
      ]
     },
     "execution_count": 3,
     "metadata": {},
     "output_type": "execute_result"
    }
   ],
   "source": [
    "onluk = range(10)\n",
    "type(onluk)"
   ]
  },
  {
   "cell_type": "code",
   "execution_count": 4,
   "id": "21b4aaf9-c68a-4b22-8ef3-2ff09d7dc4d9",
   "metadata": {},
   "outputs": [
    {
     "name": "stdout",
     "output_type": "stream",
     "text": [
      "range(0, 10)\n"
     ]
    }
   ],
   "source": [
    "print(onluk)"
   ]
  },
  {
   "cell_type": "code",
   "execution_count": 5,
   "id": "3f5b84c3-174e-4568-aca8-2233657c90c7",
   "metadata": {},
   "outputs": [],
   "source": [
    "calisan = {\n",
    "    \"ad\" : \"Yiğit\",\n",
    "    \"soyad\" : \"Yeşiloğlu\",\n",
    "    \"maaş\" : \"35000\",\n",
    "    \"uzmanlık\" : \"Python\"\n",
    "}"
   ]
  },
  {
   "cell_type": "code",
   "execution_count": 6,
   "id": "8ed8f1ac-c72b-4e41-92ae-a6321df0091f",
   "metadata": {},
   "outputs": [
    {
     "data": {
      "text/plain": [
       "dict"
      ]
     },
     "execution_count": 6,
     "metadata": {},
     "output_type": "execute_result"
    }
   ],
   "source": [
    "type(calisan)"
   ]
  },
  {
   "cell_type": "code",
   "execution_count": 7,
   "id": "ecc73e64-7a06-4e9f-9ee6-d8449c382775",
   "metadata": {},
   "outputs": [
    {
     "name": "stdout",
     "output_type": "stream",
     "text": [
      "{'ad': 'Yiğit', 'soyad': 'Yeşiloğlu', 'maaş': '35000', 'uzmanlık': 'Python'}\n"
     ]
    }
   ],
   "source": [
    "print(calisan)"
   ]
  },
  {
   "cell_type": "code",
   "execution_count": 9,
   "id": "a051fc62-3642-4389-85af-4c4935cdfa92",
   "metadata": {},
   "outputs": [],
   "source": [
    "kume = set([1,2,3,4,])"
   ]
  },
  {
   "cell_type": "code",
   "execution_count": 10,
   "id": "b1103ae6-63c1-4ed2-91f1-2c02b165ae24",
   "metadata": {},
   "outputs": [
    {
     "data": {
      "text/plain": [
       "set"
      ]
     },
     "execution_count": 10,
     "metadata": {},
     "output_type": "execute_result"
    }
   ],
   "source": [
    "type(kume)"
   ]
  },
  {
   "cell_type": "code",
   "execution_count": 11,
   "id": "80e29934-acb2-4b81-b651-59f8b23f2a7d",
   "metadata": {},
   "outputs": [
    {
     "name": "stdout",
     "output_type": "stream",
     "text": [
      "{1, 2, 3, 4}\n"
     ]
    }
   ],
   "source": [
    "print(kume)"
   ]
  },
  {
   "cell_type": "code",
   "execution_count": 12,
   "id": "62cce91c-36e6-4927-8291-43b453c6ebb9",
   "metadata": {},
   "outputs": [
    {
     "data": {
      "text/plain": [
       "bool"
      ]
     },
     "execution_count": 12,
     "metadata": {},
     "output_type": "execute_result"
    }
   ],
   "source": [
    "dogru = True \n",
    "yanlıs = False\n",
    "type(dogru)"
   ]
  },
  {
   "cell_type": "code",
   "execution_count": null,
   "id": "077d92ae-ac22-44c5-98ee-b2f82e99c885",
   "metadata": {},
   "outputs": [],
   "source": []
  }
 ],
 "metadata": {
  "kernelspec": {
   "display_name": "Python 3 (ipykernel)",
   "language": "python",
   "name": "python3"
  },
  "language_info": {
   "codemirror_mode": {
    "name": "ipython",
    "version": 3
   },
   "file_extension": ".py",
   "mimetype": "text/x-python",
   "name": "python",
   "nbconvert_exporter": "python",
   "pygments_lexer": "ipython3",
   "version": "3.11.7"
  }
 },
 "nbformat": 4,
 "nbformat_minor": 5
}
