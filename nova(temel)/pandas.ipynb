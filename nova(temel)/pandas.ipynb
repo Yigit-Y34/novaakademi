{
 "cells": [
  {
   "cell_type": "code",
   "execution_count": 6,
   "id": "b2994dc7-adcd-484b-b26f-1e8ca4248b07",
   "metadata": {},
   "outputs": [
    {
     "data": {
      "text/plain": [
       "I           1\n",
       "Am          2\n",
       "Learning    3\n",
       "Data        4\n",
       "Science     5\n",
       "dtype: int64"
      ]
     },
     "execution_count": 6,
     "metadata": {},
     "output_type": "execute_result"
    }
   ],
   "source": [
    "import pandas as pd\n",
    "\n",
    "label_list = ['I','Am','Learning','Data','Science']\n",
    "data_list = [1,2,3,4,5]\n",
    "pd_series1 = pd.Series(data_list,label_list)\n",
    "pd_series1"
   ]
  },
  {
   "cell_type": "code",
   "execution_count": 18,
   "id": "416eecb6-e2ea-4ccd-a7bd-a459b0aaa894",
   "metadata": {},
   "outputs": [
    {
     "data": {
      "text/plain": [
       "Micheal_s exam result    35\n",
       "dtype: int64"
      ]
     },
     "execution_count": 18,
     "metadata": {},
     "output_type": "execute_result"
    }
   ],
   "source": [
    "DataDict = {'Micheal_s exam result': 35}\n",
    "A = pd.Series(DataDict)\n",
    "A"
   ]
  },
  {
   "cell_type": "code",
   "execution_count": 19,
   "id": "2a0c4838-6b5d-43fc-a1dd-b34e5f34d62f",
   "metadata": {},
   "outputs": [
    {
     "data": {
      "text/plain": [
       "Micheal_s exam result    44\n",
       "dtype: int64"
      ]
     },
     "execution_count": 19,
     "metadata": {},
     "output_type": "execute_result"
    }
   ],
   "source": [
    "DataDict2 = {'Micheal_s exam result': 44}\n",
    "B = pd.Series(DataDict2)\n",
    "B"
   ]
  },
  {
   "cell_type": "code",
   "execution_count": 20,
   "id": "67f84c59-1760-418e-85a4-a6cbd6d0d9b9",
   "metadata": {},
   "outputs": [
    {
     "data": {
      "text/plain": [
       "Micheal_s exam result    79\n",
       "dtype: int64"
      ]
     },
     "execution_count": 20,
     "metadata": {},
     "output_type": "execute_result"
    }
   ],
   "source": [
    "A + B"
   ]
  },
  {
   "cell_type": "code",
   "execution_count": null,
   "id": "6731e307-4967-4f60-9fc8-ac29657c54f4",
   "metadata": {},
   "outputs": [],
   "source": []
  }
 ],
 "metadata": {
  "kernelspec": {
   "display_name": "Python 3 (ipykernel)",
   "language": "python",
   "name": "python3"
  },
  "language_info": {
   "codemirror_mode": {
    "name": "ipython",
    "version": 3
   },
   "file_extension": ".py",
   "mimetype": "text/x-python",
   "name": "python",
   "nbconvert_exporter": "python",
   "pygments_lexer": "ipython3",
   "version": "3.11.7"
  }
 },
 "nbformat": 4,
 "nbformat_minor": 5
}
