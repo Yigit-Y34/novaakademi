{
 "cells": [
  {
   "cell_type": "markdown",
   "id": "bb72be90-dd33-4dd1-9c10-460232dff317",
   "metadata": {},
   "source": [
    "## Tuple"
   ]
  },
  {
   "cell_type": "markdown",
   "id": "54f02e52-5d85-40b0-8264-b4e609c2bcea",
   "metadata": {},
   "source": [
    "Listeler değiştirilebilir (mutable) fakat tuple lar değiştirilemez yani inmutable yapılardır."
   ]
  },
  {
   "cell_type": "code",
   "execution_count": 3,
   "id": "1aa1ea4e-44dc-4a79-8b84-58a045959d16",
   "metadata": {},
   "outputs": [
    {
     "data": {
      "text/plain": [
       "tuple"
      ]
     },
     "execution_count": 3,
     "metadata": {},
     "output_type": "execute_result"
    }
   ],
   "source": [
    "sayilar = (1,2,3)\n",
    "type(sayilar)"
   ]
  },
  {
   "cell_type": "code",
   "execution_count": 5,
   "id": "70dcfbfd-1a94-455b-b3c5-d1d6c29f50b6",
   "metadata": {},
   "outputs": [
    {
     "data": {
      "text/plain": [
       "('a', 'b', 'c')"
      ]
     },
     "execution_count": 5,
     "metadata": {},
     "output_type": "execute_result"
    }
   ],
   "source": [
    "harfler = 'a','b','c'\n",
    "harfler"
   ]
  },
  {
   "cell_type": "code",
   "execution_count": 6,
   "id": "7df37153-b99d-4b21-86b2-ad5cc901dcff",
   "metadata": {},
   "outputs": [
    {
     "data": {
      "text/plain": [
       "tuple"
      ]
     },
     "execution_count": 6,
     "metadata": {},
     "output_type": "execute_result"
    }
   ],
   "source": [
    "type(harfler)"
   ]
  },
  {
   "cell_type": "markdown",
   "id": "5a37cd08-56cc-41ec-a2ff-959bd850df30",
   "metadata": {},
   "source": [
    "Nasıl tek elemanlı bir tuple yaratabilirim?"
   ]
  },
  {
   "cell_type": "code",
   "execution_count": 12,
   "id": "1cf34ba8-13e8-47a3-86fa-7df9d5a31014",
   "metadata": {},
   "outputs": [
    {
     "data": {
      "text/plain": [
       "tuple"
      ]
     },
     "execution_count": 12,
     "metadata": {},
     "output_type": "execute_result"
    }
   ],
   "source": [
    "tek_tuple = ('a',)\n",
    "type(tek_tuple)"
   ]
  },
  {
   "cell_type": "code",
   "execution_count": 14,
   "id": "6c3b8dc5-0abf-4613-bcc7-38ced58d959e",
   "metadata": {},
   "outputs": [
    {
     "data": {
      "text/plain": [
       "tuple"
      ]
     },
     "execution_count": 14,
     "metadata": {},
     "output_type": "execute_result"
    }
   ],
   "source": [
    "harf = tuple('b')\n",
    "type(harf)"
   ]
  },
  {
   "cell_type": "code",
   "execution_count": 16,
   "id": "96e7c661-1efd-4ee5-ae85-bd0d91aab8c1",
   "metadata": {},
   "outputs": [
    {
     "data": {
      "text/plain": [
       "('p', 'y', 't', 'h', 'o', 'n')"
      ]
     },
     "execution_count": 16,
     "metadata": {},
     "output_type": "execute_result"
    }
   ],
   "source": [
    "metin = tuple('python')\n",
    "metin"
   ]
  },
  {
   "cell_type": "code",
   "execution_count": 17,
   "id": "8ba382c8-eb8c-424d-b29d-1e40c328d320",
   "metadata": {},
   "outputs": [
    {
     "data": {
      "text/plain": [
       "'p'"
      ]
     },
     "execution_count": 17,
     "metadata": {},
     "output_type": "execute_result"
    }
   ],
   "source": [
    "# 0 indeksi alma\n",
    "metin[0]"
   ]
  },
  {
   "cell_type": "code",
   "execution_count": 18,
   "id": "7e730539-18e1-42b0-9645-e999c01cfac3",
   "metadata": {},
   "outputs": [
    {
     "data": {
      "text/plain": [
       "('y', 't', 'h', 'o', 'n')"
      ]
     },
     "execution_count": 18,
     "metadata": {},
     "output_type": "execute_result"
    }
   ],
   "source": [
    "metin[1:6]"
   ]
  },
  {
   "cell_type": "code",
   "execution_count": 19,
   "id": "4915705a-40c6-4f06-bc2c-54291da21f6e",
   "metadata": {},
   "outputs": [
    {
     "ename": "TypeError",
     "evalue": "'tuple' object does not support item assignment",
     "output_type": "error",
     "traceback": [
      "\u001b[1;31m---------------------------------------------------------------------------\u001b[0m",
      "\u001b[1;31mTypeError\u001b[0m                                 Traceback (most recent call last)",
      "Cell \u001b[1;32mIn[19], line 1\u001b[0m\n\u001b[1;32m----> 1\u001b[0m metin[\u001b[38;5;241m2\u001b[39m] \u001b[38;5;241m=\u001b[39m \u001b[38;5;124m'\u001b[39m\u001b[38;5;124ma\u001b[39m\u001b[38;5;124m'\u001b[39m\n",
      "\u001b[1;31mTypeError\u001b[0m: 'tuple' object does not support item assignment"
     ]
    }
   ],
   "source": [
    "metin[2] = 'a'"
   ]
  },
  {
   "cell_type": "markdown",
   "id": "e79e89cf-0903-42f9-969b-62ab516ddda9",
   "metadata": {},
   "source": [
    "Tuple değiştirilemez yani inmutable bir yapı olduğu için hata aldık. Eğer yanlış bir değer varsa bunu değiştirmenin yolu tuple ı tekrar atamaktır."
   ]
  },
  {
   "cell_type": "markdown",
   "id": "6cbe06c6-e213-4702-bd04-644645f40229",
   "metadata": {},
   "source": [
    "**Tuple Karşılaştırılması**"
   ]
  },
  {
   "cell_type": "code",
   "execution_count": 20,
   "id": "bbefe802-650e-4067-a5a8-9fc4f52059cd",
   "metadata": {},
   "outputs": [
    {
     "data": {
      "text/plain": [
       "False"
      ]
     },
     "execution_count": 20,
     "metadata": {},
     "output_type": "execute_result"
    }
   ],
   "source": [
    "# sadece ilk elemanı karşılaştırır.\n",
    "(2,5,8) < (1,2,3)"
   ]
  },
  {
   "cell_type": "code",
   "execution_count": 21,
   "id": "25b04ccf-ae63-40fb-8995-0eb34176bec6",
   "metadata": {},
   "outputs": [
    {
     "data": {
      "text/plain": [
       "False"
      ]
     },
     "execution_count": 21,
     "metadata": {},
     "output_type": "execute_result"
    }
   ],
   "source": [
    "# her iki tuple da aynı değer ile başlıyorsa başlamadığı noktadan karşılaştırılmaya başlanır.\n",
    "(2,3,5) >(2,4,6)"
   ]
  },
  {
   "cell_type": "code",
   "execution_count": 24,
   "id": "bd45c659-8598-400e-bd6b-e1b58e7d50b0",
   "metadata": {},
   "outputs": [
    {
     "name": "stdout",
     "output_type": "stream",
     "text": [
      "Python C Swift\n"
     ]
    }
   ],
   "source": [
    "# Bir listedeki değerlerimi değiişkenlere atamak istiyorsam aşağıdaki yapıyı kullanabilirim.\n",
    "a,b,c = ['Python','C','Swift']\n",
    "print(a,b,c)"
   ]
  },
  {
   "cell_type": "code",
   "execution_count": null,
   "id": "1fb42d78-6e18-4a9c-a0db-c7f9c2984372",
   "metadata": {},
   "outputs": [],
   "source": []
  }
 ],
 "metadata": {
  "kernelspec": {
   "display_name": "Python 3 (ipykernel)",
   "language": "python",
   "name": "python3"
  },
  "language_info": {
   "codemirror_mode": {
    "name": "ipython",
    "version": 3
   },
   "file_extension": ".py",
   "mimetype": "text/x-python",
   "name": "python",
   "nbconvert_exporter": "python",
   "pygments_lexer": "ipython3",
   "version": "3.11.9"
  }
 },
 "nbformat": 4,
 "nbformat_minor": 5
}
