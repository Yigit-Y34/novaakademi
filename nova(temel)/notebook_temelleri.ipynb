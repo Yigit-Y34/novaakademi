{
 "cells": [
  {
   "cell_type": "code",
   "execution_count": 7,
   "id": "34b36207-4784-40d4-a9f4-7a540f302286",
   "metadata": {},
   "outputs": [
    {
     "name": "stdout",
     "output_type": "stream",
     "text": [
      "Hello World\n"
     ]
    }
   ],
   "source": [
    "print(\"Hello World\")"
   ]
  },
  {
   "cell_type": "markdown",
   "id": "8671dc6b-adda-488b-aa00-4cd1ab449f2f",
   "metadata": {},
   "source": [
    "İlk python kodumu yazdım."
   ]
  },
  {
   "cell_type": "markdown",
   "id": "29a76d7d-3078-45dc-a904-b595ab782ba5",
   "metadata": {},
   "source": [
    "## İlk Programım"
   ]
  },
  {
   "cell_type": "markdown",
   "id": "1b53253b-573c-41ac-8c4a-93a5c51c1801",
   "metadata": {},
   "source": [
    "Python'da **değişkenleri** tanıyalım."
   ]
  },
  {
   "cell_type": "code",
   "execution_count": 8,
   "id": "c6664e67-f901-4028-b9b3-f3b2131b65c0",
   "metadata": {},
   "outputs": [
    {
     "name": "stdout",
     "output_type": "stream",
     "text": [
      "a\n"
     ]
    }
   ],
   "source": [
    "print(\"a\")"
   ]
  },
  {
   "cell_type": "code",
   "execution_count": 10,
   "id": "47a09a98-4572-4e05-93cf-9786b36587a1",
   "metadata": {},
   "outputs": [
    {
     "name": "stdout",
     "output_type": "stream",
     "text": [
      "b\n"
     ]
    }
   ],
   "source": [
    "print(\"b\")"
   ]
  },
  {
   "cell_type": "code",
   "execution_count": null,
   "id": "706e85b1-3099-4895-aaad-58549032f106",
   "metadata": {},
   "outputs": [],
   "source": []
  }
 ],
 "metadata": {
  "kernelspec": {
   "display_name": "Python 3 (ipykernel)",
   "language": "python",
   "name": "python3"
  },
  "language_info": {
   "codemirror_mode": {
    "name": "ipython",
    "version": 3
   },
   "file_extension": ".py",
   "mimetype": "text/x-python",
   "name": "python",
   "nbconvert_exporter": "python",
   "pygments_lexer": "ipython3",
   "version": "3.11.7"
  }
 },
 "nbformat": 4,
 "nbformat_minor": 5
}
